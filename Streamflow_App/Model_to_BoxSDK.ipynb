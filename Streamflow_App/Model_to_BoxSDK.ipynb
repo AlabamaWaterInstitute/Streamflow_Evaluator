{
 "cells": [
  {
   "cell_type": "markdown",
   "id": "1c2cc245",
   "metadata": {},
   "source": [
    "## Modify to make the script for putting \"Your\" model into the BoxSDK API"
   ]
  },
  {
   "cell_type": "code",
   "execution_count": 1,
   "id": "4e61acdf",
   "metadata": {},
   "outputs": [],
   "source": [
    "# Import two classes from the boxsdk module - Client and OAuth2\n",
    "from boxsdk import Client, OAuth2\n",
    "from boxsdk.network.default_network import DefaultNetwork\n",
    "from boto.dynamodb.condition import NULL\n",
    "from BOXFile import BOXFile as bf\n",
    "import pandas as pd\n",
    "import io\n",
    "import os\n",
    "import numpy as np\n",
    "from io import StringIO\n",
    "import h5py\n",
    "from progressbar import ProgressBar\n",
    "import pickle\n",
    "\n",
    "\n",
    "os.chdir('C:/Users/rjohnson18/Box/CIROH/Evaluation/LULC_Streamflow/')\n",
    "cwd = os.getcwd()"
   ]
  },
  {
   "cell_type": "markdown",
   "id": "49e54f6c",
   "metadata": {},
   "source": [
    "## Client BoxSDK SPI access"
   ]
  },
  {
   "cell_type": "code",
   "execution_count": 2,
   "id": "2ae17af5",
   "metadata": {},
   "outputs": [],
   "source": [
    "# Define client ID, client secret, and developer token.\n",
    "CLIENT_ID = None\n",
    "CLIENT_SECRET = None\n",
    "ACCESS_TOKEN = None\n",
    "\n",
    "# Read app info from text file\n",
    "with open('./Streamflow_App/app.cfg', 'r') as app_cfg:\n",
    "    CLIENT_ID = app_cfg.readline()\n",
    "    CLIENT_SECRET = app_cfg.readline()\n",
    "    ACCESS_TOKEN = app_cfg.readline()\n",
    "\n",
    "# Create OAuth2 object. It's already authenticated, thanks to the developer token.\n",
    "oauth2 = OAuth2(CLIENT_ID, CLIENT_SECRET, access_token=ACCESS_TOKEN)\n",
    "\n",
    "# Create the authenticated client\n",
    "client = Client(oauth2)"
   ]
  },
  {
   "cell_type": "code",
   "execution_count": 3,
   "id": "6603d375",
   "metadata": {
    "scrolled": true
   },
   "outputs": [
    {
     "name": "stdout",
     "output_type": "stream",
     "text": [
      "Ryan Johnson\n",
      "rjohnson18@ua.edu\n",
      "https://alabama.app.box.com/api/avatar/large/16500719171\n"
     ]
    }
   ],
   "source": [
    "# Get information about the logged in user (that's whoever owns the developer token)\n",
    "my = client.user(user_id = 'me').get()\n",
    "print(my.name)\n",
    "print(my.login)\n",
    "print(my.avatar_url)"
   ]
  },
  {
   "cell_type": "markdown",
   "id": "8729202a",
   "metadata": {},
   "source": [
    "## Upload data into App via BoxSDK\n",
    "\n",
    "We will want to create a dictionary of folder names, folder ids, file names, file ids to speed up the search querying.\n",
    "\n",
    "Make a function for loading data from Box Drive, creating a subfolder, saving subfolder id/name as dictionary, and saving data to BoxSDK"
   ]
  },
  {
   "cell_type": "code",
   "execution_count": 100,
   "id": "b00d53ba",
   "metadata": {},
   "outputs": [],
   "source": [
    "def Drive_to_SDK(Folder_Dictionary, Reach_Dictionary, data):\n",
    "    \n",
    "    #working out of the folder_id = '0' root\n",
    "    root_folder = client.folder(folder_id='0')\n",
    "\n",
    "    #get list of state .h5 files\n",
    "    data_path = cwd+'/Data/'+data\n",
    "    state_list = os.listdir(data_path)\n",
    "    #remove states already completed\n",
    "    #state_list.remove('NHD_segments_wi.h5')\n",
    "   \n",
    "    \n",
    "    \n",
    "    for state in state_list:\n",
    "        #Make filepath to each state.h5\n",
    "        filepath = data_path+'/'+state\n",
    "        #Create a subfolder and name to store ___ datasets\n",
    "        if state == 'NHD_segments_wi.h5':\n",
    "            subfolder = pd.DataFrame()\n",
    "            subfolder['id'] = '202149569763'\n",
    "        else: \n",
    "            subfolder = root_folder.create_subfolder(state)\n",
    "            print('Folder {0} created'.format(subfolder.get()['name']), 'with id: ', subfolder.id)\n",
    "            Folder_Dictionary[state] = subfolder.id\n",
    "        #Open each file and save to BoxSDK as csv\n",
    "        with h5py.File(filepath, \"r\") as f:\n",
    "            keys =  f.keys()\n",
    "            pbar = ProgressBar()\n",
    "            for key in pbar(keys):\n",
    "                df = pd.read_hdf(filepath, key = key)\n",
    "                s_buf = StringIO()\n",
    "                df.to_csv(s_buf)\n",
    "                \n",
    "                if state == 'NHD_segments_wi.h5':\n",
    "                    folder_id = '202149569763'\n",
    "                else:\n",
    "                    folder_id = subfolder.id # '201963057861'\n",
    "                    \n",
    "                \n",
    "                try:\n",
    "                    Searchable_filename = data+'_'+key+'.csv'\n",
    "                    new_file = client.folder(folder_id).upload_stream(s_buf, Searchable_filename)\n",
    "                    Reach_Dictionary[new_file.name[:-4]] = new_file.id\n",
    "                    print(f'File \"{new_file.name}\" uploaded to Box with file ID {new_file.id}')\n",
    "                except:\n",
    "                    pass\n",
    "                "
   ]
  },
  {
   "cell_type": "code",
   "execution_count": null,
   "id": "c4757e8b",
   "metadata": {},
   "outputs": [],
   "source": [
    "#Need to put dictionaries here and not run after initialization\n",
    "#state_dictionary = {}\n",
    "#NWM_dictionary = {}"
   ]
  },
  {
   "cell_type": "code",
   "execution_count": 101,
   "id": "dfb28a92",
   "metadata": {
    "scrolled": true
   },
   "outputs": [
    {
     "name": "stderr",
     "output_type": "stream",
     "text": [
      "\u001b[31m\"POST https://upload.box.com/api/2.0/files/content\" 409 475              |\n",
      "{'Server': 'nginx', 'Date': 'Thu, 06 Apr 2023 15:22:35 GMT', 'Content-Type': 'application/json', 'Content-Length': '475', 'Cache-Control': 'no-cache, no-store', 'X-Envoy-Upstream-Service-Time': '301', 'Strict-Transport-Security': 'max-age=31536000', 'X-Box-Original-Ingress-ADC-Host': 'prod-b-traffic-manager-92gb', 'Via': '1.1 google', 'Alt-Svc': 'h3=\":443\"; ma=2592000,h3-29=\":443\"; ma=2592000,h3-Q050=\":443\"; ma=2592000,h3-Q046=\":443\"; ma=2592000,h3-Q043=\":443\"; ma=2592000,quic=\":443\"; ma=2592000; v=\"46,43\"'}\n",
      "<No content or content unavailable for logging>\n",
      "\u001b[0m\n",
      "\u001b[31m\"POST https://upload.box.com/api/2.0/files/content\" 409 475\n",
      "{'Server': 'nginx', 'Date': 'Thu, 06 Apr 2023 15:22:37 GMT', 'Content-Type': 'application/json', 'Content-Length': '475', 'Cache-Control': 'no-cache, no-store', 'X-Envoy-Upstream-Service-Time': '338', 'Strict-Transport-Security': 'max-age=31536000', 'X-Box-Original-Ingress-ADC-Host': 'prod-b-traffic-manager-nm4f', 'Via': '1.1 google', 'Alt-Svc': 'h3=\":443\"; ma=2592000,h3-29=\":443\"; ma=2592000,h3-Q050=\":443\"; ma=2592000,h3-Q046=\":443\"; ma=2592000,h3-Q043=\":443\"; ma=2592000,quic=\":443\"; ma=2592000; v=\"46,43\"'}\n",
      "<No content or content unavailable for logging>\n",
      "\u001b[0m\n",
      "\u001b[31m\"POST https://upload.box.com/api/2.0/files/content\" 409 475              |\n",
      "{'Server': 'nginx', 'Date': 'Thu, 06 Apr 2023 15:22:40 GMT', 'Content-Type': 'application/json', 'Content-Length': '475', 'Cache-Control': 'no-cache, no-store', 'X-Envoy-Upstream-Service-Time': '293', 'Strict-Transport-Security': 'max-age=31536000', 'X-Box-Original-Ingress-ADC-Host': 'prod-b-traffic-manager-1qpl', 'Via': '1.1 google', 'Alt-Svc': 'h3=\":443\"; ma=2592000,h3-29=\":443\"; ma=2592000,h3-Q050=\":443\"; ma=2592000,h3-Q046=\":443\"; ma=2592000,h3-Q043=\":443\"; ma=2592000,quic=\":443\"; ma=2592000; v=\"46,43\"'}\n",
      "<No content or content unavailable for logging>\n",
      "\u001b[0m\n",
      "\u001b[31m\"POST https://upload.box.com/api/2.0/files/content\" 409 475\n",
      "{'Server': 'nginx', 'Date': 'Thu, 06 Apr 2023 15:22:42 GMT', 'Content-Type': 'application/json', 'Content-Length': '475', 'Cache-Control': 'no-cache, no-store', 'X-Envoy-Upstream-Service-Time': '290', 'Strict-Transport-Security': 'max-age=31536000', 'X-Box-Original-Ingress-ADC-Host': 'prod-b-traffic-manager-9s9g', 'Via': '1.1 google', 'Alt-Svc': 'h3=\":443\"; ma=2592000,h3-29=\":443\"; ma=2592000,h3-Q050=\":443\"; ma=2592000,h3-Q046=\":443\"; ma=2592000,h3-Q043=\":443\"; ma=2592000,quic=\":443\"; ma=2592000; v=\"46,43\"'}\n",
      "<No content or content unavailable for logging>\n",
      "\u001b[0m\n",
      "\u001b[31m\"POST https://upload.box.com/api/2.0/files/content\" 409 475              |\n",
      "{'Server': 'nginx', 'Date': 'Thu, 06 Apr 2023 15:22:44 GMT', 'Content-Type': 'application/json', 'Content-Length': '475', 'Cache-Control': 'no-cache, no-store', 'X-Envoy-Upstream-Service-Time': '385', 'Strict-Transport-Security': 'max-age=31536000', 'X-Box-Original-Ingress-ADC-Host': 'prod-c-traffic-manager-3mpp', 'Via': '1.1 google', 'Alt-Svc': 'h3=\":443\"; ma=2592000,h3-29=\":443\"; ma=2592000,h3-Q050=\":443\"; ma=2592000,h3-Q046=\":443\"; ma=2592000,h3-Q043=\":443\"; ma=2592000,quic=\":443\"; ma=2592000; v=\"46,43\"'}\n",
      "<No content or content unavailable for logging>\n",
      "\u001b[0m\n",
      "\u001b[31m\"POST https://upload.box.com/api/2.0/files/content\" 409 475\n",
      "{'Server': 'nginx', 'Date': 'Thu, 06 Apr 2023 15:22:46 GMT', 'Content-Type': 'application/json', 'Content-Length': '475', 'Cache-Control': 'no-cache, no-store', 'X-Envoy-Upstream-Service-Time': '263', 'Strict-Transport-Security': 'max-age=31536000', 'X-Box-Original-Ingress-ADC-Host': 'prod-a-traffic-manager-d27x', 'Via': '1.1 google', 'Alt-Svc': 'h3=\":443\"; ma=2592000,h3-29=\":443\"; ma=2592000,h3-Q050=\":443\"; ma=2592000,h3-Q046=\":443\"; ma=2592000,h3-Q043=\":443\"; ma=2592000,quic=\":443\"; ma=2592000; v=\"46,43\"'}\n",
      "<No content or content unavailable for logging>\n",
      "\u001b[0m\n",
      "\u001b[31m\"POST https://upload.box.com/api/2.0/files/content\" 409 475              |\n",
      "{'Server': 'nginx', 'Date': 'Thu, 06 Apr 2023 15:22:48 GMT', 'Content-Type': 'application/json', 'Content-Length': '475', 'Cache-Control': 'no-cache, no-store', 'X-Envoy-Upstream-Service-Time': '212', 'Strict-Transport-Security': 'max-age=31536000', 'X-Box-Original-Ingress-ADC-Host': 'prod-a-traffic-manager-nh03', 'Via': '1.1 google', 'Alt-Svc': 'h3=\":443\"; ma=2592000,h3-29=\":443\"; ma=2592000,h3-Q050=\":443\"; ma=2592000,h3-Q046=\":443\"; ma=2592000,h3-Q043=\":443\"; ma=2592000,quic=\":443\"; ma=2592000; v=\"46,43\"'}\n",
      "<No content or content unavailable for logging>\n",
      "\u001b[0m\n",
      "\u001b[31m\"POST https://upload.box.com/api/2.0/files/content\" 409 475\n",
      "{'Server': 'nginx', 'Date': 'Thu, 06 Apr 2023 15:22:50 GMT', 'Content-Type': 'application/json', 'Content-Length': '475', 'Cache-Control': 'no-cache, no-store', 'X-Envoy-Upstream-Service-Time': '230', 'Strict-Transport-Security': 'max-age=31536000', 'X-Box-Original-Ingress-ADC-Host': 'prod-b-traffic-manager-1qpl', 'Via': '1.1 google', 'Alt-Svc': 'h3=\":443\"; ma=2592000,h3-29=\":443\"; ma=2592000,h3-Q050=\":443\"; ma=2592000,h3-Q046=\":443\"; ma=2592000,h3-Q043=\":443\"; ma=2592000,quic=\":443\"; ma=2592000; v=\"46,43\"'}\n",
      "<No content or content unavailable for logging>\n",
      "\u001b[0m\n",
      "\u001b[31m\"POST https://upload.box.com/api/2.0/files/content\" 409 475              |\n",
      "{'Server': 'nginx', 'Date': 'Thu, 06 Apr 2023 15:22:52 GMT', 'Content-Type': 'application/json', 'Content-Length': '475', 'Cache-Control': 'no-cache, no-store', 'X-Envoy-Upstream-Service-Time': '319', 'Strict-Transport-Security': 'max-age=31536000', 'X-Box-Original-Ingress-ADC-Host': 'prod-c-traffic-manager-mcr5', 'Via': '1.1 google', 'Alt-Svc': 'h3=\":443\"; ma=2592000,h3-29=\":443\"; ma=2592000,h3-Q050=\":443\"; ma=2592000,h3-Q046=\":443\"; ma=2592000,h3-Q043=\":443\"; ma=2592000,quic=\":443\"; ma=2592000; v=\"46,43\"'}\n",
      "<No content or content unavailable for logging>\n",
      "\u001b[0m\n",
      "\u001b[31m\"POST https://upload.box.com/api/2.0/files/content\" 409 475\n",
      "{'Server': 'nginx', 'Date': 'Thu, 06 Apr 2023 15:22:54 GMT', 'Content-Type': 'application/json', 'Content-Length': '475', 'Cache-Control': 'no-cache, no-store', 'X-Envoy-Upstream-Service-Time': '207', 'Strict-Transport-Security': 'max-age=31536000', 'X-Box-Original-Ingress-ADC-Host': 'prod-b-traffic-manager-9s9g', 'Via': '1.1 google', 'Alt-Svc': 'h3=\":443\"; ma=2592000,h3-29=\":443\"; ma=2592000,h3-Q050=\":443\"; ma=2592000,h3-Q046=\":443\"; ma=2592000,h3-Q043=\":443\"; ma=2592000,quic=\":443\"; ma=2592000; v=\"46,43\"'}\n",
      "<No content or content unavailable for logging>\n",
      "\u001b[0m\n",
      "\u001b[31m\"POST https://upload.box.com/api/2.0/files/content\" 409 475              |\n",
      "{'Server': 'nginx', 'Date': 'Thu, 06 Apr 2023 15:22:56 GMT', 'Content-Type': 'application/json', 'Content-Length': '475', 'Cache-Control': 'no-cache, no-store', 'X-Envoy-Upstream-Service-Time': '274', 'Strict-Transport-Security': 'max-age=31536000', 'X-Box-Original-Ingress-ADC-Host': 'prod-c-traffic-manager-3mpp', 'Via': '1.1 google', 'Alt-Svc': 'h3=\":443\"; ma=2592000,h3-29=\":443\"; ma=2592000,h3-Q050=\":443\"; ma=2592000,h3-Q046=\":443\"; ma=2592000,h3-Q043=\":443\"; ma=2592000,quic=\":443\"; ma=2592000; v=\"46,43\"'}\n",
      "<No content or content unavailable for logging>\n",
      "\u001b[0m\n",
      "\u001b[31m\"POST https://upload.box.com/api/2.0/files/content\" 409 474\n",
      "{'Server': 'nginx', 'Date': 'Thu, 06 Apr 2023 15:22:58 GMT', 'Content-Type': 'application/json', 'Content-Length': '474', 'Cache-Control': 'no-cache, no-store', 'X-Envoy-Upstream-Service-Time': '312', 'Strict-Transport-Security': 'max-age=31536000', 'X-Box-Original-Ingress-ADC-Host': 'prod-a-traffic-manager-fsx8', 'Via': '1.1 google', 'Alt-Svc': 'h3=\":443\"; ma=2592000,h3-29=\":443\"; ma=2592000,h3-Q050=\":443\"; ma=2592000,h3-Q046=\":443\"; ma=2592000,h3-Q043=\":443\"; ma=2592000,quic=\":443\"; ma=2592000; v=\"46,43\"'}\n",
      "<No content or content unavailable for logging>\n",
      "\u001b[0m\n",
      "\u001b[31m\"POST https://upload.box.com/api/2.0/files/content\" 409 475              |\n",
      "{'Server': 'nginx', 'Date': 'Thu, 06 Apr 2023 15:23:00 GMT', 'Content-Type': 'application/json', 'Content-Length': '475', 'Cache-Control': 'no-cache, no-store', 'X-Envoy-Upstream-Service-Time': '239', 'Strict-Transport-Security': 'max-age=31536000', 'X-Box-Original-Ingress-ADC-Host': 'prod-b-traffic-manager-f8n6', 'Via': '1.1 google', 'Alt-Svc': 'h3=\":443\"; ma=2592000,h3-29=\":443\"; ma=2592000,h3-Q050=\":443\"; ma=2592000,h3-Q046=\":443\"; ma=2592000,h3-Q043=\":443\"; ma=2592000,quic=\":443\"; ma=2592000; v=\"46,43\"'}\n",
      "<No content or content unavailable for logging>\n",
      "\u001b[0m\n"
     ]
    },
    {
     "name": "stderr",
     "output_type": "stream",
     "text": [
      "\u001b[31m\"POST https://upload.box.com/api/2.0/files/content\" 409 475\n",
      "{'Server': 'nginx', 'Date': 'Thu, 06 Apr 2023 15:23:03 GMT', 'Content-Type': 'application/json', 'Content-Length': '475', 'Cache-Control': 'no-cache, no-store', 'X-Envoy-Upstream-Service-Time': '246', 'Strict-Transport-Security': 'max-age=31536000', 'X-Box-Original-Ingress-ADC-Host': 'prod-b-traffic-manager-j25t', 'Via': '1.1 google', 'Alt-Svc': 'h3=\":443\"; ma=2592000,h3-29=\":443\"; ma=2592000,h3-Q050=\":443\"; ma=2592000,h3-Q046=\":443\"; ma=2592000,h3-Q043=\":443\"; ma=2592000,quic=\":443\"; ma=2592000; v=\"46,43\"'}\n",
      "<No content or content unavailable for logging>\n",
      "\u001b[0m\n",
      "\u001b[31m\"POST https://upload.box.com/api/2.0/files/content\" 409 475              |\n",
      "{'Server': 'nginx', 'Date': 'Thu, 06 Apr 2023 15:23:04 GMT', 'Content-Type': 'application/json', 'Content-Length': '475', 'Cache-Control': 'no-cache, no-store', 'X-Envoy-Upstream-Service-Time': '211', 'Strict-Transport-Security': 'max-age=31536000', 'X-Box-Original-Ingress-ADC-Host': 'prod-b-traffic-manager-92gb', 'Via': '1.1 google', 'Alt-Svc': 'h3=\":443\"; ma=2592000,h3-29=\":443\"; ma=2592000,h3-Q050=\":443\"; ma=2592000,h3-Q046=\":443\"; ma=2592000,h3-Q043=\":443\"; ma=2592000,quic=\":443\"; ma=2592000; v=\"46,43\"'}\n",
      "<No content or content unavailable for logging>\n",
      "\u001b[0m\n",
      "\u001b[31m\"POST https://upload.box.com/api/2.0/files/content\" 409 475\n",
      "{'Server': 'nginx', 'Date': 'Thu, 06 Apr 2023 15:23:06 GMT', 'Content-Type': 'application/json', 'Content-Length': '475', 'Cache-Control': 'no-cache, no-store', 'X-Envoy-Upstream-Service-Time': '238', 'Strict-Transport-Security': 'max-age=31536000', 'X-Box-Original-Ingress-ADC-Host': 'prod-b-traffic-manager-92gb', 'Via': '1.1 google', 'Alt-Svc': 'h3=\":443\"; ma=2592000,h3-29=\":443\"; ma=2592000,h3-Q050=\":443\"; ma=2592000,h3-Q046=\":443\"; ma=2592000,h3-Q043=\":443\"; ma=2592000,quic=\":443\"; ma=2592000; v=\"46,43\"'}\n",
      "<No content or content unavailable for logging>\n",
      "\u001b[0m\n",
      "\u001b[31m\"POST https://upload.box.com/api/2.0/files/content\" 409 474              |\n",
      "{'Server': 'nginx', 'Date': 'Thu, 06 Apr 2023 15:23:09 GMT', 'Content-Type': 'application/json', 'Content-Length': '474', 'Cache-Control': 'no-cache, no-store', 'X-Envoy-Upstream-Service-Time': '295', 'Strict-Transport-Security': 'max-age=31536000', 'X-Box-Original-Ingress-ADC-Host': 'prod-a-traffic-manager-d27x', 'Via': '1.1 google', 'Alt-Svc': 'h3=\":443\"; ma=2592000,h3-29=\":443\"; ma=2592000,h3-Q050=\":443\"; ma=2592000,h3-Q046=\":443\"; ma=2592000,h3-Q043=\":443\"; ma=2592000,quic=\":443\"; ma=2592000; v=\"46,43\"'}\n",
      "<No content or content unavailable for logging>\n",
      "\u001b[0m\n",
      "\u001b[31m\"POST https://upload.box.com/api/2.0/files/content\" 409 475\n",
      "{'Server': 'nginx', 'Date': 'Thu, 06 Apr 2023 15:23:11 GMT', 'Content-Type': 'application/json', 'Content-Length': '475', 'Cache-Control': 'no-cache, no-store', 'X-Envoy-Upstream-Service-Time': '195', 'Strict-Transport-Security': 'max-age=31536000', 'X-Box-Original-Ingress-ADC-Host': 'prod-b-traffic-manager-x6zx', 'Via': '1.1 google', 'Alt-Svc': 'h3=\":443\"; ma=2592000,h3-29=\":443\"; ma=2592000,h3-Q050=\":443\"; ma=2592000,h3-Q046=\":443\"; ma=2592000,h3-Q043=\":443\"; ma=2592000,quic=\":443\"; ma=2592000; v=\"46,43\"'}\n",
      "<No content or content unavailable for logging>\n",
      "\u001b[0m\n",
      "\u001b[31m\"POST https://upload.box.com/api/2.0/files/content\" 409 475              |\n",
      "{'Server': 'nginx', 'Date': 'Thu, 06 Apr 2023 15:23:13 GMT', 'Content-Type': 'application/json', 'Content-Length': '475', 'Cache-Control': 'no-cache, no-store', 'X-Envoy-Upstream-Service-Time': '197', 'Strict-Transport-Security': 'max-age=31536000', 'X-Box-Original-Ingress-ADC-Host': 'prod-b-traffic-manager-fxns', 'Via': '1.1 google', 'Alt-Svc': 'h3=\":443\"; ma=2592000,h3-29=\":443\"; ma=2592000,h3-Q050=\":443\"; ma=2592000,h3-Q046=\":443\"; ma=2592000,h3-Q043=\":443\"; ma=2592000,quic=\":443\"; ma=2592000; v=\"46,43\"'}\n",
      "<No content or content unavailable for logging>\n",
      "\u001b[0m\n",
      "\u001b[31m\"POST https://upload.box.com/api/2.0/files/content\" 409 475\n",
      "{'Server': 'nginx', 'Date': 'Thu, 06 Apr 2023 15:23:15 GMT', 'Content-Type': 'application/json', 'Content-Length': '475', 'Cache-Control': 'no-cache, no-store', 'X-Envoy-Upstream-Service-Time': '306', 'Strict-Transport-Security': 'max-age=31536000', 'X-Box-Original-Ingress-ADC-Host': 'prod-b-traffic-manager-92gb', 'Via': '1.1 google', 'Alt-Svc': 'h3=\":443\"; ma=2592000,h3-29=\":443\"; ma=2592000,h3-Q050=\":443\"; ma=2592000,h3-Q046=\":443\"; ma=2592000,h3-Q043=\":443\"; ma=2592000,quic=\":443\"; ma=2592000; v=\"46,43\"'}\n",
      "<No content or content unavailable for logging>\n",
      "\u001b[0m\n",
      "\u001b[31m\"POST https://upload.box.com/api/2.0/files/content\" 409 475              |\n",
      "{'Server': 'nginx', 'Date': 'Thu, 06 Apr 2023 15:23:18 GMT', 'Content-Type': 'application/json', 'Content-Length': '475', 'Cache-Control': 'no-cache, no-store', 'X-Envoy-Upstream-Service-Time': '413', 'Strict-Transport-Security': 'max-age=31536000', 'X-Box-Original-Ingress-ADC-Host': 'prod-a-traffic-manager-gt93', 'Via': '1.1 google', 'Alt-Svc': 'h3=\":443\"; ma=2592000,h3-29=\":443\"; ma=2592000,h3-Q050=\":443\"; ma=2592000,h3-Q046=\":443\"; ma=2592000,h3-Q043=\":443\"; ma=2592000,quic=\":443\"; ma=2592000; v=\"46,43\"'}\n",
      "<No content or content unavailable for logging>\n",
      "\u001b[0m\n",
      "\u001b[31m\"POST https://upload.box.com/api/2.0/files/content\" 409 475\n",
      "{'Server': 'nginx', 'Date': 'Thu, 06 Apr 2023 15:23:20 GMT', 'Content-Type': 'application/json', 'Content-Length': '475', 'Cache-Control': 'no-cache, no-store', 'X-Envoy-Upstream-Service-Time': '236', 'Strict-Transport-Security': 'max-age=31536000', 'X-Box-Original-Ingress-ADC-Host': 'prod-a-traffic-manager-d27x', 'Via': '1.1 google', 'Alt-Svc': 'h3=\":443\"; ma=2592000,h3-29=\":443\"; ma=2592000,h3-Q050=\":443\"; ma=2592000,h3-Q046=\":443\"; ma=2592000,h3-Q043=\":443\"; ma=2592000,quic=\":443\"; ma=2592000; v=\"46,43\"'}\n",
      "<No content or content unavailable for logging>\n",
      "\u001b[0m\n",
      "\u001b[31m\"POST https://upload.box.com/api/2.0/files/content\" 409 475              |\n",
      "{'Server': 'nginx', 'Date': 'Thu, 06 Apr 2023 15:23:22 GMT', 'Content-Type': 'application/json', 'Content-Length': '475', 'Cache-Control': 'no-cache, no-store', 'X-Envoy-Upstream-Service-Time': '323', 'Strict-Transport-Security': 'max-age=31536000', 'X-Box-Original-Ingress-ADC-Host': 'prod-c-traffic-manager-l2fv', 'Via': '1.1 google', 'Alt-Svc': 'h3=\":443\"; ma=2592000,h3-29=\":443\"; ma=2592000,h3-Q050=\":443\"; ma=2592000,h3-Q046=\":443\"; ma=2592000,h3-Q043=\":443\"; ma=2592000,quic=\":443\"; ma=2592000; v=\"46,43\"'}\n",
      "<No content or content unavailable for logging>\n",
      "\u001b[0m\n",
      "\u001b[31m\"POST https://upload.box.com/api/2.0/files/content\" 409 475\n",
      "{'Server': 'nginx', 'Date': 'Thu, 06 Apr 2023 15:23:24 GMT', 'Content-Type': 'application/json', 'Content-Length': '475', 'Cache-Control': 'no-cache, no-store', 'X-Envoy-Upstream-Service-Time': '289', 'Strict-Transport-Security': 'max-age=31536000', 'X-Box-Original-Ingress-ADC-Host': 'prod-a-traffic-manager-0hqf', 'Via': '1.1 google', 'Alt-Svc': 'h3=\":443\"; ma=2592000,h3-29=\":443\"; ma=2592000,h3-Q050=\":443\"; ma=2592000,h3-Q046=\":443\"; ma=2592000,h3-Q043=\":443\"; ma=2592000,quic=\":443\"; ma=2592000; v=\"46,43\"'}\n",
      "<No content or content unavailable for logging>\n",
      "\u001b[0m\n",
      "\u001b[31m\"POST https://upload.box.com/api/2.0/files/content\" 409 474              |\n",
      "{'Server': 'nginx', 'Date': 'Thu, 06 Apr 2023 15:23:26 GMT', 'Content-Type': 'application/json', 'Content-Length': '474', 'Cache-Control': 'no-cache, no-store', 'X-Envoy-Upstream-Service-Time': '221', 'Strict-Transport-Security': 'max-age=31536000', 'X-Box-Original-Ingress-ADC-Host': 'prod-b-traffic-manager-nm4f', 'Via': '1.1 google', 'Alt-Svc': 'h3=\":443\"; ma=2592000,h3-29=\":443\"; ma=2592000,h3-Q050=\":443\"; ma=2592000,h3-Q046=\":443\"; ma=2592000,h3-Q043=\":443\"; ma=2592000,quic=\":443\"; ma=2592000; v=\"46,43\"'}\n",
      "<No content or content unavailable for logging>\n",
      "\u001b[0m\n",
      "\u001b[31m\"POST https://upload.box.com/api/2.0/files/content\" 409 475\n",
      "{'Server': 'nginx', 'Date': 'Thu, 06 Apr 2023 15:23:28 GMT', 'Content-Type': 'application/json', 'Content-Length': '475', 'Cache-Control': 'no-cache, no-store', 'X-Envoy-Upstream-Service-Time': '223', 'Strict-Transport-Security': 'max-age=31536000', 'X-Box-Original-Ingress-ADC-Host': 'prod-c-traffic-manager-hcjw', 'Via': '1.1 google', 'Alt-Svc': 'h3=\":443\"; ma=2592000,h3-29=\":443\"; ma=2592000,h3-Q050=\":443\"; ma=2592000,h3-Q046=\":443\"; ma=2592000,h3-Q043=\":443\"; ma=2592000,quic=\":443\"; ma=2592000; v=\"46,43\"'}\n",
      "<No content or content unavailable for logging>\n",
      "\u001b[0m\n"
     ]
    },
    {
     "name": "stderr",
     "output_type": "stream",
     "text": [
      "\u001b[31m\"POST https://upload.box.com/api/2.0/files/content\" 409 475              |\n",
      "{'Server': 'nginx', 'Date': 'Thu, 06 Apr 2023 15:23:30 GMT', 'Content-Type': 'application/json', 'Content-Length': '475', 'Cache-Control': 'no-cache, no-store', 'X-Envoy-Upstream-Service-Time': '222', 'Strict-Transport-Security': 'max-age=31536000', 'X-Box-Original-Ingress-ADC-Host': 'prod-b-traffic-manager-n6n0', 'Via': '1.1 google', 'Alt-Svc': 'h3=\":443\"; ma=2592000,h3-29=\":443\"; ma=2592000,h3-Q050=\":443\"; ma=2592000,h3-Q046=\":443\"; ma=2592000,h3-Q043=\":443\"; ma=2592000,quic=\":443\"; ma=2592000; v=\"46,43\"'}\n",
      "<No content or content unavailable for logging>\n",
      "\u001b[0m\n",
      "\u001b[31m\"POST https://upload.box.com/api/2.0/files/content\" 409 475\n",
      "{'Server': 'nginx', 'Date': 'Thu, 06 Apr 2023 15:23:32 GMT', 'Content-Type': 'application/json', 'Content-Length': '475', 'Cache-Control': 'no-cache, no-store', 'X-Envoy-Upstream-Service-Time': '228', 'Strict-Transport-Security': 'max-age=31536000', 'X-Box-Original-Ingress-ADC-Host': 'prod-c-traffic-manager-l2fv', 'Via': '1.1 google', 'Alt-Svc': 'h3=\":443\"; ma=2592000,h3-29=\":443\"; ma=2592000,h3-Q050=\":443\"; ma=2592000,h3-Q046=\":443\"; ma=2592000,h3-Q043=\":443\"; ma=2592000,quic=\":443\"; ma=2592000; v=\"46,43\"'}\n",
      "<No content or content unavailable for logging>\n",
      "\u001b[0m\n",
      "\u001b[31m\"POST https://upload.box.com/api/2.0/files/content\" 409 475              |\n",
      "{'Server': 'nginx', 'Date': 'Thu, 06 Apr 2023 15:23:34 GMT', 'Content-Type': 'application/json', 'Content-Length': '475', 'Cache-Control': 'no-cache, no-store', 'X-Envoy-Upstream-Service-Time': '220', 'Strict-Transport-Security': 'max-age=31536000', 'X-Box-Original-Ingress-ADC-Host': 'prod-a-traffic-manager-0hqf', 'Via': '1.1 google', 'Alt-Svc': 'h3=\":443\"; ma=2592000,h3-29=\":443\"; ma=2592000,h3-Q050=\":443\"; ma=2592000,h3-Q046=\":443\"; ma=2592000,h3-Q043=\":443\"; ma=2592000,quic=\":443\"; ma=2592000; v=\"46,43\"'}\n",
      "<No content or content unavailable for logging>\n",
      "\u001b[0m\n",
      "\u001b[31m\"POST https://upload.box.com/api/2.0/files/content\" 409 474\n",
      "{'Server': 'nginx', 'Date': 'Thu, 06 Apr 2023 15:23:36 GMT', 'Content-Type': 'application/json', 'Content-Length': '474', 'Cache-Control': 'no-cache, no-store', 'X-Envoy-Upstream-Service-Time': '183', 'Strict-Transport-Security': 'max-age=31536000', 'X-Box-Original-Ingress-ADC-Host': 'prod-b-traffic-manager-48rc', 'Via': '1.1 google', 'Alt-Svc': 'h3=\":443\"; ma=2592000,h3-29=\":443\"; ma=2592000,h3-Q050=\":443\"; ma=2592000,h3-Q046=\":443\"; ma=2592000,h3-Q043=\":443\"; ma=2592000,quic=\":443\"; ma=2592000; v=\"46,43\"'}\n",
      "<No content or content unavailable for logging>\n",
      "\u001b[0m\n",
      "\u001b[31m\"POST https://upload.box.com/api/2.0/files/content\" 409 475              |\n",
      "{'Server': 'nginx', 'Date': 'Thu, 06 Apr 2023 15:23:38 GMT', 'Content-Type': 'application/json', 'Content-Length': '475', 'Cache-Control': 'no-cache, no-store', 'X-Envoy-Upstream-Service-Time': '214', 'Strict-Transport-Security': 'max-age=31536000', 'X-Box-Original-Ingress-ADC-Host': 'prod-b-traffic-manager-x6zx', 'Via': '1.1 google', 'Alt-Svc': 'h3=\":443\"; ma=2592000,h3-29=\":443\"; ma=2592000,h3-Q050=\":443\"; ma=2592000,h3-Q046=\":443\"; ma=2592000,h3-Q043=\":443\"; ma=2592000,quic=\":443\"; ma=2592000; v=\"46,43\"'}\n",
      "<No content or content unavailable for logging>\n",
      "\u001b[0m\n",
      "\u001b[31m\"POST https://upload.box.com/api/2.0/files/content\" 409 475\n",
      "{'Server': 'nginx', 'Date': 'Thu, 06 Apr 2023 15:23:40 GMT', 'Content-Type': 'application/json', 'Content-Length': '475', 'Cache-Control': 'no-cache, no-store', 'X-Envoy-Upstream-Service-Time': '203', 'Strict-Transport-Security': 'max-age=31536000', 'X-Box-Original-Ingress-ADC-Host': 'prod-b-traffic-manager-48rc', 'Via': '1.1 google', 'Alt-Svc': 'h3=\":443\"; ma=2592000,h3-29=\":443\"; ma=2592000,h3-Q050=\":443\"; ma=2592000,h3-Q046=\":443\"; ma=2592000,h3-Q043=\":443\"; ma=2592000,quic=\":443\"; ma=2592000; v=\"46,43\"'}\n",
      "<No content or content unavailable for logging>\n",
      "\u001b[0m\n",
      "\u001b[31m\"POST https://upload.box.com/api/2.0/files/content\" 409 475              |\n",
      "{'Server': 'nginx', 'Date': 'Thu, 06 Apr 2023 15:23:42 GMT', 'Content-Type': 'application/json', 'Content-Length': '475', 'Cache-Control': 'no-cache, no-store', 'X-Envoy-Upstream-Service-Time': '301', 'Strict-Transport-Security': 'max-age=31536000', 'X-Box-Original-Ingress-ADC-Host': 'prod-b-traffic-manager-nm4f', 'Via': '1.1 google', 'Alt-Svc': 'h3=\":443\"; ma=2592000,h3-29=\":443\"; ma=2592000,h3-Q050=\":443\"; ma=2592000,h3-Q046=\":443\"; ma=2592000,h3-Q043=\":443\"; ma=2592000,quic=\":443\"; ma=2592000; v=\"46,43\"'}\n",
      "<No content or content unavailable for logging>\n",
      "\u001b[0m\n",
      "\u001b[31m\"POST https://upload.box.com/api/2.0/files/content\" 409 475\n",
      "{'Server': 'nginx', 'Date': 'Thu, 06 Apr 2023 15:23:44 GMT', 'Content-Type': 'application/json', 'Content-Length': '475', 'Cache-Control': 'no-cache, no-store', 'X-Envoy-Upstream-Service-Time': '246', 'Strict-Transport-Security': 'max-age=31536000', 'X-Box-Original-Ingress-ADC-Host': 'prod-c-traffic-manager-j0wb', 'Via': '1.1 google', 'Alt-Svc': 'h3=\":443\"; ma=2592000,h3-29=\":443\"; ma=2592000,h3-Q050=\":443\"; ma=2592000,h3-Q046=\":443\"; ma=2592000,h3-Q043=\":443\"; ma=2592000,quic=\":443\"; ma=2592000; v=\"46,43\"'}\n",
      "<No content or content unavailable for logging>\n",
      "\u001b[0m\n",
      "\u001b[31m\"POST https://upload.box.com/api/2.0/files/content\" 409 475              |\n",
      "{'Server': 'nginx', 'Date': 'Thu, 06 Apr 2023 15:23:46 GMT', 'Content-Type': 'application/json', 'Content-Length': '475', 'Cache-Control': 'no-cache, no-store', 'X-Envoy-Upstream-Service-Time': '232', 'Strict-Transport-Security': 'max-age=31536000', 'X-Box-Original-Ingress-ADC-Host': 'prod-b-traffic-manager-fxns', 'Via': '1.1 google', 'Alt-Svc': 'h3=\":443\"; ma=2592000,h3-29=\":443\"; ma=2592000,h3-Q050=\":443\"; ma=2592000,h3-Q046=\":443\"; ma=2592000,h3-Q043=\":443\"; ma=2592000,quic=\":443\"; ma=2592000; v=\"46,43\"'}\n",
      "<No content or content unavailable for logging>\n",
      "\u001b[0m\n",
      "\u001b[31m\"POST https://upload.box.com/api/2.0/files/content\" 409 475\n",
      "{'Server': 'nginx', 'Date': 'Thu, 06 Apr 2023 15:23:48 GMT', 'Content-Type': 'application/json', 'Content-Length': '475', 'Cache-Control': 'no-cache, no-store', 'X-Envoy-Upstream-Service-Time': '224', 'Strict-Transport-Security': 'max-age=31536000', 'X-Box-Original-Ingress-ADC-Host': 'prod-b-traffic-manager-x6zx', 'Via': '1.1 google', 'Alt-Svc': 'h3=\":443\"; ma=2592000,h3-29=\":443\"; ma=2592000,h3-Q050=\":443\"; ma=2592000,h3-Q046=\":443\"; ma=2592000,h3-Q043=\":443\"; ma=2592000,quic=\":443\"; ma=2592000; v=\"46,43\"'}\n",
      "<No content or content unavailable for logging>\n",
      "\u001b[0m\n",
      "\u001b[31m\"POST https://upload.box.com/api/2.0/files/content\" 409 475              |\n",
      "{'Server': 'nginx', 'Date': 'Thu, 06 Apr 2023 15:23:51 GMT', 'Content-Type': 'application/json', 'Content-Length': '475', 'Cache-Control': 'no-cache, no-store', 'X-Envoy-Upstream-Service-Time': '210', 'Strict-Transport-Security': 'max-age=31536000', 'X-Box-Original-Ingress-ADC-Host': 'prod-c-traffic-manager-j0wb', 'Via': '1.1 google', 'Alt-Svc': 'h3=\":443\"; ma=2592000,h3-29=\":443\"; ma=2592000,h3-Q050=\":443\"; ma=2592000,h3-Q046=\":443\"; ma=2592000,h3-Q043=\":443\"; ma=2592000,quic=\":443\"; ma=2592000; v=\"46,43\"'}\n",
      "<No content or content unavailable for logging>\n",
      "\u001b[0m\n",
      "\u001b[31m\"POST https://upload.box.com/api/2.0/files/content\" 409 475\n",
      "{'Server': 'nginx', 'Date': 'Thu, 06 Apr 2023 15:23:53 GMT', 'Content-Type': 'application/json', 'Content-Length': '475', 'Cache-Control': 'no-cache, no-store', 'X-Envoy-Upstream-Service-Time': '313', 'Strict-Transport-Security': 'max-age=31536000', 'X-Box-Original-Ingress-ADC-Host': 'prod-c-traffic-manager-l2fv', 'Via': '1.1 google', 'Alt-Svc': 'h3=\":443\"; ma=2592000,h3-29=\":443\"; ma=2592000,h3-Q050=\":443\"; ma=2592000,h3-Q046=\":443\"; ma=2592000,h3-Q043=\":443\"; ma=2592000,quic=\":443\"; ma=2592000; v=\"46,43\"'}\n",
      "<No content or content unavailable for logging>\n",
      "\u001b[0m\n",
      "\u001b[31m\"POST https://upload.box.com/api/2.0/files/content\" 409 475              |\n",
      "{'Server': 'nginx', 'Date': 'Thu, 06 Apr 2023 15:23:55 GMT', 'Content-Type': 'application/json', 'Content-Length': '475', 'Cache-Control': 'no-cache, no-store', 'X-Envoy-Upstream-Service-Time': '210', 'Strict-Transport-Security': 'max-age=31536000', 'X-Box-Original-Ingress-ADC-Host': 'prod-c-traffic-manager-hcjw', 'Via': '1.1 google', 'Alt-Svc': 'h3=\":443\"; ma=2592000,h3-29=\":443\"; ma=2592000,h3-Q050=\":443\"; ma=2592000,h3-Q046=\":443\"; ma=2592000,h3-Q043=\":443\"; ma=2592000,quic=\":443\"; ma=2592000; v=\"46,43\"'}\n",
      "<No content or content unavailable for logging>\n",
      "\u001b[0m\n"
     ]
    },
    {
     "name": "stderr",
     "output_type": "stream",
     "text": [
      "\u001b[31m\"POST https://upload.box.com/api/2.0/files/content\" 409 475\n",
      "{'Server': 'nginx', 'Date': 'Thu, 06 Apr 2023 15:23:57 GMT', 'Content-Type': 'application/json', 'Content-Length': '475', 'Cache-Control': 'no-cache, no-store', 'X-Envoy-Upstream-Service-Time': '329', 'Strict-Transport-Security': 'max-age=31536000', 'X-Box-Original-Ingress-ADC-Host': 'prod-b-traffic-manager-n6n0', 'Via': '1.1 google', 'Alt-Svc': 'h3=\":443\"; ma=2592000,h3-29=\":443\"; ma=2592000,h3-Q050=\":443\"; ma=2592000,h3-Q046=\":443\"; ma=2592000,h3-Q043=\":443\"; ma=2592000,quic=\":443\"; ma=2592000; v=\"46,43\"'}\n",
      "<No content or content unavailable for logging>\n",
      "\u001b[0m\n",
      "\u001b[31m\"POST https://upload.box.com/api/2.0/files/content\" 409 475              |\n",
      "{'Server': 'nginx', 'Date': 'Thu, 06 Apr 2023 15:23:59 GMT', 'Content-Type': 'application/json', 'Content-Length': '475', 'Cache-Control': 'no-cache, no-store', 'X-Envoy-Upstream-Service-Time': '201', 'Strict-Transport-Security': 'max-age=31536000', 'X-Box-Original-Ingress-ADC-Host': 'prod-b-traffic-manager-x6zx', 'Via': '1.1 google', 'Alt-Svc': 'h3=\":443\"; ma=2592000,h3-29=\":443\"; ma=2592000,h3-Q050=\":443\"; ma=2592000,h3-Q046=\":443\"; ma=2592000,h3-Q043=\":443\"; ma=2592000,quic=\":443\"; ma=2592000; v=\"46,43\"'}\n",
      "<No content or content unavailable for logging>\n",
      "\u001b[0m\n",
      "\u001b[31m\"POST https://upload.box.com/api/2.0/files/content\" 409 475\n",
      "{'Server': 'nginx', 'Date': 'Thu, 06 Apr 2023 15:24:01 GMT', 'Content-Type': 'application/json', 'Content-Length': '475', 'Cache-Control': 'no-cache, no-store', 'X-Envoy-Upstream-Service-Time': '230', 'Strict-Transport-Security': 'max-age=31536000', 'X-Box-Original-Ingress-ADC-Host': 'prod-c-traffic-manager-l2fv', 'Via': '1.1 google', 'Alt-Svc': 'h3=\":443\"; ma=2592000,h3-29=\":443\"; ma=2592000,h3-Q050=\":443\"; ma=2592000,h3-Q046=\":443\"; ma=2592000,h3-Q043=\":443\"; ma=2592000,quic=\":443\"; ma=2592000; v=\"46,43\"'}\n",
      "<No content or content unavailable for logging>\n",
      "\u001b[0m\n",
      "\u001b[31m\"POST https://upload.box.com/api/2.0/files/content\" 409 475              |\n",
      "{'Server': 'nginx', 'Date': 'Thu, 06 Apr 2023 15:24:03 GMT', 'Content-Type': 'application/json', 'Content-Length': '475', 'Cache-Control': 'no-cache, no-store', 'X-Envoy-Upstream-Service-Time': '207', 'Strict-Transport-Security': 'max-age=31536000', 'X-Box-Original-Ingress-ADC-Host': 'prod-c-traffic-manager-jcnl', 'Via': '1.1 google', 'Alt-Svc': 'h3=\":443\"; ma=2592000,h3-29=\":443\"; ma=2592000,h3-Q050=\":443\"; ma=2592000,h3-Q046=\":443\"; ma=2592000,h3-Q043=\":443\"; ma=2592000,quic=\":443\"; ma=2592000; v=\"46,43\"'}\n",
      "<No content or content unavailable for logging>\n",
      "\u001b[0m\n",
      "\u001b[31m\"POST https://upload.box.com/api/2.0/files/content\" 409 475\n",
      "{'Server': 'nginx', 'Date': 'Thu, 06 Apr 2023 15:24:05 GMT', 'Content-Type': 'application/json', 'Content-Length': '475', 'Cache-Control': 'no-cache, no-store', 'X-Envoy-Upstream-Service-Time': '229', 'Strict-Transport-Security': 'max-age=31536000', 'X-Box-Original-Ingress-ADC-Host': 'prod-b-traffic-manager-fxns', 'Via': '1.1 google', 'Alt-Svc': 'h3=\":443\"; ma=2592000,h3-29=\":443\"; ma=2592000,h3-Q050=\":443\"; ma=2592000,h3-Q046=\":443\"; ma=2592000,h3-Q043=\":443\"; ma=2592000,quic=\":443\"; ma=2592000; v=\"46,43\"'}\n",
      "<No content or content unavailable for logging>\n",
      "\u001b[0m\n",
      "\u001b[31m\"POST https://upload.box.com/api/2.0/files/content\" 409 475              |\n",
      "{'Server': 'nginx', 'Date': 'Thu, 06 Apr 2023 15:24:07 GMT', 'Content-Type': 'application/json', 'Content-Length': '475', 'Cache-Control': 'no-cache, no-store', 'X-Envoy-Upstream-Service-Time': '225', 'Strict-Transport-Security': 'max-age=31536000', 'X-Box-Original-Ingress-ADC-Host': 'prod-b-traffic-manager-n6n0', 'Via': '1.1 google', 'Alt-Svc': 'h3=\":443\"; ma=2592000,h3-29=\":443\"; ma=2592000,h3-Q050=\":443\"; ma=2592000,h3-Q046=\":443\"; ma=2592000,h3-Q043=\":443\"; ma=2592000,quic=\":443\"; ma=2592000; v=\"46,43\"'}\n",
      "<No content or content unavailable for logging>\n",
      "\u001b[0m\n",
      "\u001b[31m\"POST https://upload.box.com/api/2.0/files/content\" 409 475\n",
      "{'Server': 'nginx', 'Date': 'Thu, 06 Apr 2023 15:24:09 GMT', 'Content-Type': 'application/json', 'Content-Length': '475', 'Cache-Control': 'no-cache, no-store', 'X-Envoy-Upstream-Service-Time': '333', 'Strict-Transport-Security': 'max-age=31536000', 'X-Box-Original-Ingress-ADC-Host': 'prod-a-traffic-manager-01sx', 'Via': '1.1 google', 'Alt-Svc': 'h3=\":443\"; ma=2592000,h3-29=\":443\"; ma=2592000,h3-Q050=\":443\"; ma=2592000,h3-Q046=\":443\"; ma=2592000,h3-Q043=\":443\"; ma=2592000,quic=\":443\"; ma=2592000; v=\"46,43\"'}\n",
      "<No content or content unavailable for logging>\n",
      "\u001b[0m\n",
      "\u001b[31m\"POST https://upload.box.com/api/2.0/files/content\" 409 475              |\n",
      "{'Server': 'nginx', 'Date': 'Thu, 06 Apr 2023 15:24:11 GMT', 'Content-Type': 'application/json', 'Content-Length': '475', 'Cache-Control': 'no-cache, no-store', 'X-Envoy-Upstream-Service-Time': '242', 'Strict-Transport-Security': 'max-age=31536000', 'X-Box-Original-Ingress-ADC-Host': 'prod-a-traffic-manager-01sx', 'Via': '1.1 google', 'Alt-Svc': 'h3=\":443\"; ma=2592000,h3-29=\":443\"; ma=2592000,h3-Q050=\":443\"; ma=2592000,h3-Q046=\":443\"; ma=2592000,h3-Q043=\":443\"; ma=2592000,quic=\":443\"; ma=2592000; v=\"46,43\"'}\n",
      "<No content or content unavailable for logging>\n",
      "\u001b[0m\n",
      "\u001b[31m\"POST https://upload.box.com/api/2.0/files/content\" 409 475\n",
      "{'Server': 'nginx', 'Date': 'Thu, 06 Apr 2023 15:24:13 GMT', 'Content-Type': 'application/json', 'Content-Length': '475', 'Cache-Control': 'no-cache, no-store', 'X-Envoy-Upstream-Service-Time': '216', 'Strict-Transport-Security': 'max-age=31536000', 'X-Box-Original-Ingress-ADC-Host': 'prod-b-traffic-manager-nm4f', 'Via': '1.1 google', 'Alt-Svc': 'h3=\":443\"; ma=2592000,h3-29=\":443\"; ma=2592000,h3-Q050=\":443\"; ma=2592000,h3-Q046=\":443\"; ma=2592000,h3-Q043=\":443\"; ma=2592000,quic=\":443\"; ma=2592000; v=\"46,43\"'}\n",
      "<No content or content unavailable for logging>\n",
      "\u001b[0m\n",
      "\u001b[31m\"POST https://upload.box.com/api/2.0/files/content\" 409 475              |\n",
      "{'Server': 'nginx', 'Date': 'Thu, 06 Apr 2023 15:24:16 GMT', 'Content-Type': 'application/json', 'Content-Length': '475', 'Cache-Control': 'no-cache, no-store', 'X-Envoy-Upstream-Service-Time': '247', 'Strict-Transport-Security': 'max-age=31536000', 'X-Box-Original-Ingress-ADC-Host': 'prod-c-traffic-manager-qhst', 'Via': '1.1 google', 'Alt-Svc': 'h3=\":443\"; ma=2592000,h3-29=\":443\"; ma=2592000,h3-Q050=\":443\"; ma=2592000,h3-Q046=\":443\"; ma=2592000,h3-Q043=\":443\"; ma=2592000,quic=\":443\"; ma=2592000; v=\"46,43\"'}\n",
      "<No content or content unavailable for logging>\n",
      "\u001b[0m\n",
      "\u001b[31m\"POST https://upload.box.com/api/2.0/files/content\" 409 475\n",
      "{'Server': 'nginx', 'Date': 'Thu, 06 Apr 2023 15:24:18 GMT', 'Content-Type': 'application/json', 'Content-Length': '475', 'Cache-Control': 'no-cache, no-store', 'X-Envoy-Upstream-Service-Time': '191', 'Strict-Transport-Security': 'max-age=31536000', 'X-Box-Original-Ingress-ADC-Host': 'prod-a-traffic-manager-w3k4', 'Via': '1.1 google', 'Alt-Svc': 'h3=\":443\"; ma=2592000,h3-29=\":443\"; ma=2592000,h3-Q050=\":443\"; ma=2592000,h3-Q046=\":443\"; ma=2592000,h3-Q043=\":443\"; ma=2592000,quic=\":443\"; ma=2592000; v=\"46,43\"'}\n",
      "<No content or content unavailable for logging>\n",
      "\u001b[0m\n",
      "\u001b[31m\"POST https://upload.box.com/api/2.0/files/content\" 409 475              |\n",
      "{'Server': 'nginx', 'Date': 'Thu, 06 Apr 2023 15:24:20 GMT', 'Content-Type': 'application/json', 'Content-Length': '475', 'Cache-Control': 'no-cache, no-store', 'X-Envoy-Upstream-Service-Time': '236', 'Strict-Transport-Security': 'max-age=31536000', 'X-Box-Original-Ingress-ADC-Host': 'prod-a-traffic-manager-0hqf', 'Via': '1.1 google', 'Alt-Svc': 'h3=\":443\"; ma=2592000,h3-29=\":443\"; ma=2592000,h3-Q050=\":443\"; ma=2592000,h3-Q046=\":443\"; ma=2592000,h3-Q043=\":443\"; ma=2592000,quic=\":443\"; ma=2592000; v=\"46,43\"'}\n",
      "<No content or content unavailable for logging>\n",
      "\u001b[0m\n",
      "\u001b[31m\"POST https://upload.box.com/api/2.0/files/content\" 409 475\n",
      "{'Server': 'nginx', 'Date': 'Thu, 06 Apr 2023 15:24:22 GMT', 'Content-Type': 'application/json', 'Content-Length': '475', 'Cache-Control': 'no-cache, no-store', 'X-Envoy-Upstream-Service-Time': '292', 'Strict-Transport-Security': 'max-age=31536000', 'X-Box-Original-Ingress-ADC-Host': 'prod-b-traffic-manager-nm4f', 'Via': '1.1 google', 'Alt-Svc': 'h3=\":443\"; ma=2592000,h3-29=\":443\"; ma=2592000,h3-Q050=\":443\"; ma=2592000,h3-Q046=\":443\"; ma=2592000,h3-Q043=\":443\"; ma=2592000,quic=\":443\"; ma=2592000; v=\"46,43\"'}\n",
      "<No content or content unavailable for logging>\n",
      "\u001b[0m\n"
     ]
    },
    {
     "name": "stderr",
     "output_type": "stream",
     "text": [
      "\u001b[31m\"POST https://upload.box.com/api/2.0/files/content\" 409 475              |\n",
      "{'Server': 'nginx', 'Date': 'Thu, 06 Apr 2023 15:24:24 GMT', 'Content-Type': 'application/json', 'Content-Length': '475', 'Cache-Control': 'no-cache, no-store', 'X-Envoy-Upstream-Service-Time': '207', 'Strict-Transport-Security': 'max-age=31536000', 'X-Box-Original-Ingress-ADC-Host': 'prod-b-traffic-manager-fxns', 'Via': '1.1 google', 'Alt-Svc': 'h3=\":443\"; ma=2592000,h3-29=\":443\"; ma=2592000,h3-Q050=\":443\"; ma=2592000,h3-Q046=\":443\"; ma=2592000,h3-Q043=\":443\"; ma=2592000,quic=\":443\"; ma=2592000; v=\"46,43\"'}\n",
      "<No content or content unavailable for logging>\n",
      "\u001b[0m\n",
      "\u001b[31m\"POST https://upload.box.com/api/2.0/files/content\" 409 475\n",
      "{'Server': 'nginx', 'Date': 'Thu, 06 Apr 2023 15:24:26 GMT', 'Content-Type': 'application/json', 'Content-Length': '475', 'Cache-Control': 'no-cache, no-store', 'X-Envoy-Upstream-Service-Time': '222', 'Strict-Transport-Security': 'max-age=31536000', 'X-Box-Original-Ingress-ADC-Host': 'prod-c-traffic-manager-l2fv', 'Via': '1.1 google', 'Alt-Svc': 'h3=\":443\"; ma=2592000,h3-29=\":443\"; ma=2592000,h3-Q050=\":443\"; ma=2592000,h3-Q046=\":443\"; ma=2592000,h3-Q043=\":443\"; ma=2592000,quic=\":443\"; ma=2592000; v=\"46,43\"'}\n",
      "<No content or content unavailable for logging>\n",
      "\u001b[0m\n",
      "\u001b[31m\"POST https://upload.box.com/api/2.0/files/content\" 409 475              |\n",
      "{'Server': 'nginx', 'Date': 'Thu, 06 Apr 2023 15:24:28 GMT', 'Content-Type': 'application/json', 'Content-Length': '475', 'Cache-Control': 'no-cache, no-store', 'X-Envoy-Upstream-Service-Time': '259', 'Strict-Transport-Security': 'max-age=31536000', 'X-Box-Original-Ingress-ADC-Host': 'prod-a-traffic-manager-gt93', 'Via': '1.1 google', 'Alt-Svc': 'h3=\":443\"; ma=2592000,h3-29=\":443\"; ma=2592000,h3-Q050=\":443\"; ma=2592000,h3-Q046=\":443\"; ma=2592000,h3-Q043=\":443\"; ma=2592000,quic=\":443\"; ma=2592000; v=\"46,43\"'}\n",
      "<No content or content unavailable for logging>\n",
      "\u001b[0m\n",
      "\u001b[31m\"POST https://upload.box.com/api/2.0/files/content\" 409 475\n",
      "{'Server': 'nginx', 'Date': 'Thu, 06 Apr 2023 15:24:30 GMT', 'Content-Type': 'application/json', 'Content-Length': '475', 'Cache-Control': 'no-cache, no-store', 'X-Envoy-Upstream-Service-Time': '294', 'Strict-Transport-Security': 'max-age=31536000', 'X-Box-Original-Ingress-ADC-Host': 'prod-c-traffic-manager-thk1', 'Via': '1.1 google', 'Alt-Svc': 'h3=\":443\"; ma=2592000,h3-29=\":443\"; ma=2592000,h3-Q050=\":443\"; ma=2592000,h3-Q046=\":443\"; ma=2592000,h3-Q043=\":443\"; ma=2592000,quic=\":443\"; ma=2592000; v=\"46,43\"'}\n",
      "<No content or content unavailable for logging>\n",
      "\u001b[0m\n",
      "\u001b[31m\"POST https://upload.box.com/api/2.0/files/content\" 409 475              |\n",
      "{'Server': 'nginx', 'Date': 'Thu, 06 Apr 2023 15:24:32 GMT', 'Content-Type': 'application/json', 'Content-Length': '475', 'Cache-Control': 'no-cache, no-store', 'X-Envoy-Upstream-Service-Time': '301', 'Strict-Transport-Security': 'max-age=31536000', 'X-Box-Original-Ingress-ADC-Host': 'prod-c-traffic-manager-thk1', 'Via': '1.1 google', 'Alt-Svc': 'h3=\":443\"; ma=2592000,h3-29=\":443\"; ma=2592000,h3-Q050=\":443\"; ma=2592000,h3-Q046=\":443\"; ma=2592000,h3-Q043=\":443\"; ma=2592000,quic=\":443\"; ma=2592000; v=\"46,43\"'}\n",
      "<No content or content unavailable for logging>\n",
      "\u001b[0m\n",
      "\u001b[31m\"POST https://upload.box.com/api/2.0/files/content\" 409 475\n",
      "{'Server': 'nginx', 'Date': 'Thu, 06 Apr 2023 15:24:34 GMT', 'Content-Type': 'application/json', 'Content-Length': '475', 'Cache-Control': 'no-cache, no-store', 'X-Envoy-Upstream-Service-Time': '237', 'Strict-Transport-Security': 'max-age=31536000', 'X-Box-Original-Ingress-ADC-Host': 'prod-c-traffic-manager-l2fv', 'Via': '1.1 google', 'Alt-Svc': 'h3=\":443\"; ma=2592000,h3-29=\":443\"; ma=2592000,h3-Q050=\":443\"; ma=2592000,h3-Q046=\":443\"; ma=2592000,h3-Q043=\":443\"; ma=2592000,quic=\":443\"; ma=2592000; v=\"46,43\"'}\n",
      "<No content or content unavailable for logging>\n",
      "\u001b[0m\n",
      "\u001b[31m\"POST https://upload.box.com/api/2.0/files/content\" 409 475              |\n",
      "{'Server': 'nginx', 'Date': 'Thu, 06 Apr 2023 15:24:36 GMT', 'Content-Type': 'application/json', 'Content-Length': '475', 'Cache-Control': 'no-cache, no-store', 'X-Envoy-Upstream-Service-Time': '364', 'Strict-Transport-Security': 'max-age=31536000', 'X-Box-Original-Ingress-ADC-Host': 'prod-c-traffic-manager-qhst', 'Via': '1.1 google', 'Alt-Svc': 'h3=\":443\"; ma=2592000,h3-29=\":443\"; ma=2592000,h3-Q050=\":443\"; ma=2592000,h3-Q046=\":443\"; ma=2592000,h3-Q043=\":443\"; ma=2592000,quic=\":443\"; ma=2592000; v=\"46,43\"'}\n",
      "<No content or content unavailable for logging>\n",
      "\u001b[0m\n",
      "\u001b[31m\"POST https://upload.box.com/api/2.0/files/content\" 409 475\n",
      "{'Server': 'nginx', 'Date': 'Thu, 06 Apr 2023 15:24:39 GMT', 'Content-Type': 'application/json', 'Content-Length': '475', 'Cache-Control': 'no-cache, no-store', 'X-Envoy-Upstream-Service-Time': '256', 'Strict-Transport-Security': 'max-age=31536000', 'X-Box-Original-Ingress-ADC-Host': 'prod-c-traffic-manager-thk1', 'Via': '1.1 google', 'Alt-Svc': 'h3=\":443\"; ma=2592000,h3-29=\":443\"; ma=2592000,h3-Q050=\":443\"; ma=2592000,h3-Q046=\":443\"; ma=2592000,h3-Q043=\":443\"; ma=2592000,quic=\":443\"; ma=2592000; v=\"46,43\"'}\n",
      "<No content or content unavailable for logging>\n",
      "\u001b[0m\n",
      " 48% |##################################                                      |\r"
     ]
    },
    {
     "name": "stdout",
     "output_type": "stream",
     "text": [
      "File \"NWM_13633025.csv\" uploaded to Box with file ID 1184097686936\n"
     ]
    },
    {
     "name": "stderr",
     "output_type": "stream",
     "text": [
      " 49% |###################################                                     |\r"
     ]
    },
    {
     "name": "stdout",
     "output_type": "stream",
     "text": [
      "File \"NWM_13633137.csv\" uploaded to Box with file ID 1184094072949\n",
      "File \"NWM_13633173.csv\" uploaded to Box with file ID 1184093469973\n"
     ]
    },
    {
     "name": "stderr",
     "output_type": "stream",
     "text": [
      " 51% |####################################                                    |\r"
     ]
    },
    {
     "name": "stdout",
     "output_type": "stream",
     "text": [
      "File \"NWM_13633821.csv\" uploaded to Box with file ID 1184093045158\n",
      "File \"NWM_13654300.csv\" uploaded to Box with file ID 1184094154737\n"
     ]
    },
    {
     "name": "stderr",
     "output_type": "stream",
     "text": [
      " 52% |######################################                                  |\r"
     ]
    },
    {
     "name": "stdout",
     "output_type": "stream",
     "text": [
      "File \"NWM_14446262.csv\" uploaded to Box with file ID 1184093923800\n",
      "File \"NWM_14446282.csv\" uploaded to Box with file ID 1184095954341\n"
     ]
    },
    {
     "name": "stderr",
     "output_type": "stream",
     "text": [
      " 54% |#######################################                                 |\r"
     ]
    },
    {
     "name": "stdout",
     "output_type": "stream",
     "text": [
      "File \"NWM_14704932.csv\" uploaded to Box with file ID 1184096419697\n",
      "File \"NWM_14705020.csv\" uploaded to Box with file ID 1184094279094\n"
     ]
    },
    {
     "name": "stderr",
     "output_type": "stream",
     "text": [
      " 56% |########################################                                |\r"
     ]
    },
    {
     "name": "stdout",
     "output_type": "stream",
     "text": [
      "File \"NWM_14706344.csv\" uploaded to Box with file ID 1184093626146\n",
      "File \"NWM_14708194.csv\" uploaded to Box with file ID 1184094466230\n"
     ]
    },
    {
     "name": "stderr",
     "output_type": "stream",
     "text": [
      " 57% |#########################################                               |\r"
     ]
    },
    {
     "name": "stdout",
     "output_type": "stream",
     "text": [
      "File \"NWM_14709874.csv\" uploaded to Box with file ID 1184096021428\n",
      "File \"NWM_14711142.csv\" uploaded to Box with file ID 1184093052368\n"
     ]
    },
    {
     "name": "stderr",
     "output_type": "stream",
     "text": [
      " 59% |##########################################                              |\r"
     ]
    },
    {
     "name": "stdout",
     "output_type": "stream",
     "text": [
      "File \"NWM_14727088.csv\" uploaded to Box with file ID 1184095056384\n",
      "File \"NWM_14728798.csv\" uploaded to Box with file ID 1184093287558\n"
     ]
    },
    {
     "name": "stderr",
     "output_type": "stream",
     "text": [
      " 60% |###########################################                             |\r"
     ]
    },
    {
     "name": "stdout",
     "output_type": "stream",
     "text": [
      "File \"NWM_14730490.csv\" uploaded to Box with file ID 1184093340243\n",
      "File \"NWM_14730982.csv\" uploaded to Box with file ID 1184093335408\n"
     ]
    },
    {
     "name": "stderr",
     "output_type": "stream",
     "text": [
      " 62% |############################################                            |\r"
     ]
    },
    {
     "name": "stdout",
     "output_type": "stream",
     "text": [
      "File \"NWM_14732372.csv\" uploaded to Box with file ID 1184095274670\n",
      "File \"NWM_14733228.csv\" uploaded to Box with file ID 1184070504581\n"
     ]
    },
    {
     "name": "stderr",
     "output_type": "stream",
     "text": [
      " 64% |##############################################                          |\r"
     ]
    },
    {
     "name": "stdout",
     "output_type": "stream",
     "text": [
      "File \"NWM_14767570.csv\" uploaded to Box with file ID 1184097766325\n",
      "File \"NWM_14768304.csv\" uploaded to Box with file ID 1184094202546\n"
     ]
    },
    {
     "name": "stderr",
     "output_type": "stream",
     "text": [
      " 65% |###############################################                         |\r"
     ]
    },
    {
     "name": "stdout",
     "output_type": "stream",
     "text": [
      "File \"NWM_14769576.csv\" uploaded to Box with file ID 1184100689520\n",
      "File \"NWM_1797149.csv\" uploaded to Box with file ID 1184093851605\n"
     ]
    },
    {
     "name": "stderr",
     "output_type": "stream",
     "text": [
      " 67% |################################################                        |\r"
     ]
    },
    {
     "name": "stdout",
     "output_type": "stream",
     "text": [
      "File \"NWM_1798839.csv\" uploaded to Box with file ID 1184095630161\n",
      "File \"NWM_1814463.csv\" uploaded to Box with file ID 1184099779280\n"
     ]
    },
    {
     "name": "stderr",
     "output_type": "stream",
     "text": [
      " 68% |#################################################                       |\r"
     ]
    },
    {
     "name": "stdout",
     "output_type": "stream",
     "text": [
      "File \"NWM_1814983.csv\" uploaded to Box with file ID 1184075513105\n",
      "File \"NWM_1815879.csv\" uploaded to Box with file ID 1184094766470\n"
     ]
    },
    {
     "name": "stderr",
     "output_type": "stream",
     "text": [
      " 70% |##################################################                      |\r"
     ]
    },
    {
     "name": "stdout",
     "output_type": "stream",
     "text": [
      "File \"NWM_1850373.csv\" uploaded to Box with file ID 1184095450062\n",
      "File \"NWM_1874965.csv\" uploaded to Box with file ID 1184098442887\n"
     ]
    },
    {
     "name": "stderr",
     "output_type": "stream",
     "text": [
      " 72% |###################################################                     |\r"
     ]
    },
    {
     "name": "stdout",
     "output_type": "stream",
     "text": [
      "File \"NWM_19285051.csv\" uploaded to Box with file ID 1184094130540\n",
      "File \"NWM_2118562.csv\" uploaded to Box with file ID 1184094319528\n"
     ]
    },
    {
     "name": "stderr",
     "output_type": "stream",
     "text": [
      " 73% |####################################################                    |\r"
     ]
    },
    {
     "name": "stdout",
     "output_type": "stream",
     "text": [
      "File \"NWM_2263699.csv\" uploaded to Box with file ID 1184094396479\n",
      "File \"NWM_2453120.csv\" uploaded to Box with file ID 1184094766044\n"
     ]
    },
    {
     "name": "stderr",
     "output_type": "stream",
     "text": [
      " 75% |######################################################                  |\r"
     ]
    },
    {
     "name": "stdout",
     "output_type": "stream",
     "text": [
      "File \"NWM_2453132.csv\" uploaded to Box with file ID 1184099314621\n",
      "File \"NWM_2454010.csv\" uploaded to Box with file ID 1184095529263\n"
     ]
    },
    {
     "name": "stderr",
     "output_type": "stream",
     "text": [
      " 76% |#######################################################                 |\r"
     ]
    },
    {
     "name": "stdout",
     "output_type": "stream",
     "text": [
      "File \"NWM_2454098.csv\" uploaded to Box with file ID 1184094271924\n",
      "File \"NWM_2454518.csv\" uploaded to Box with file ID 1184094343310\n"
     ]
    },
    {
     "name": "stderr",
     "output_type": "stream",
     "text": [
      " 78% |########################################################                |\r"
     ]
    },
    {
     "name": "stdout",
     "output_type": "stream",
     "text": [
      "File \"NWM_2456124.csv\" uploaded to Box with file ID 1184094175395\n",
      "File \"NWM_2649086.csv\" uploaded to Box with file ID 1184095661262\n"
     ]
    },
    {
     "name": "stderr",
     "output_type": "stream",
     "text": [
      " 80% |#########################################################               |\r"
     ]
    },
    {
     "name": "stdout",
     "output_type": "stream",
     "text": [
      "File \"NWM_2649362.csv\" uploaded to Box with file ID 1184094226455\n",
      "File \"NWM_2651708.csv\" uploaded to Box with file ID 1184100710906\n"
     ]
    },
    {
     "name": "stderr",
     "output_type": "stream",
     "text": [
      " 81% |##########################################################              |\r"
     ]
    },
    {
     "name": "stdout",
     "output_type": "stream",
     "text": [
      "File \"NWM_2651896.csv\" uploaded to Box with file ID 1184094192232\n",
      "File \"NWM_6801806.csv\" uploaded to Box with file ID 1184094725387\n"
     ]
    },
    {
     "name": "stderr",
     "output_type": "stream",
     "text": [
      " 83% |###########################################################             |\r"
     ]
    },
    {
     "name": "stdout",
     "output_type": "stream",
     "text": [
      "File \"NWM_6802796.csv\" uploaded to Box with file ID 1184094444470\n",
      "File \"NWM_6810626.csv\" uploaded to Box with file ID 1184095963441\n"
     ]
    },
    {
     "name": "stderr",
     "output_type": "stream",
     "text": [
      " 84% |#############################################################           |\r"
     ]
    },
    {
     "name": "stdout",
     "output_type": "stream",
     "text": [
      "File \"NWM_6812142.csv\" uploaded to Box with file ID 1184099220508\n",
      "File \"NWM_6818950.csv\" uploaded to Box with file ID 1184101625445\n"
     ]
    },
    {
     "name": "stderr",
     "output_type": "stream",
     "text": [
      " 86% |##############################################################          |\r"
     ]
    },
    {
     "name": "stdout",
     "output_type": "stream",
     "text": [
      "File \"NWM_6819040.csv\" uploaded to Box with file ID 1184081954755\n",
      "File \"NWM_6841809.csv\" uploaded to Box with file ID 1184094986492\n"
     ]
    },
    {
     "name": "stderr",
     "output_type": "stream",
     "text": [
      " 88% |###############################################################         |\r"
     ]
    },
    {
     "name": "stdout",
     "output_type": "stream",
     "text": [
      "File \"NWM_6841845.csv\" uploaded to Box with file ID 1184099806580\n",
      "File \"NWM_6843293.csv\" uploaded to Box with file ID 1184095642609\n"
     ]
    },
    {
     "name": "stderr",
     "output_type": "stream",
     "text": [
      " 89% |################################################################        |\r"
     ]
    },
    {
     "name": "stdout",
     "output_type": "stream",
     "text": [
      "File \"NWM_6844165.csv\" uploaded to Box with file ID 1184099850000\n",
      "File \"NWM_6844381.csv\" uploaded to Box with file ID 1184095397807\n"
     ]
    },
    {
     "name": "stderr",
     "output_type": "stream",
     "text": [
      " 91% |#################################################################       |\r"
     ]
    },
    {
     "name": "stdout",
     "output_type": "stream",
     "text": [
      "File \"NWM_6847893.csv\" uploaded to Box with file ID 1184094929249\n",
      "File \"NWM_6848607.csv\" uploaded to Box with file ID 1184099259419\n"
     ]
    },
    {
     "name": "stderr",
     "output_type": "stream",
     "text": [
      " 92% |##################################################################      |\r"
     ]
    },
    {
     "name": "stdout",
     "output_type": "stream",
     "text": [
      "File \"NWM_6863677.csv\" uploaded to Box with file ID 1184097401189\n",
      "File \"NWM_6866199.csv\" uploaded to Box with file ID 1184101612937\n"
     ]
    },
    {
     "name": "stderr",
     "output_type": "stream",
     "text": [
      " 94% |###################################################################     |\r"
     ]
    },
    {
     "name": "stdout",
     "output_type": "stream",
     "text": [
      "File \"NWM_6866997.csv\" uploaded to Box with file ID 1184101500576\n",
      "File \"NWM_6867135.csv\" uploaded to Box with file ID 1184095375644\n"
     ]
    },
    {
     "name": "stderr",
     "output_type": "stream",
     "text": [
      " 96% |#####################################################################   |\r"
     ]
    },
    {
     "name": "stdout",
     "output_type": "stream",
     "text": [
      "File \"NWM_9027875.csv\" uploaded to Box with file ID 1184095371142\n",
      "File \"NWM_9030269.csv\" uploaded to Box with file ID 1184097689918\n"
     ]
    },
    {
     "name": "stderr",
     "output_type": "stream",
     "text": [
      " 97% |######################################################################  |\r"
     ]
    },
    {
     "name": "stdout",
     "output_type": "stream",
     "text": [
      "File \"NWM_9030507.csv\" uploaded to Box with file ID 1184096077136\n",
      "File \"NWM_9033255.csv\" uploaded to Box with file ID 1184095162309\n"
     ]
    },
    {
     "name": "stderr",
     "output_type": "stream",
     "text": [
      " 99% |####################################################################### |\r"
     ]
    },
    {
     "name": "stdout",
     "output_type": "stream",
     "text": [
      "File \"NWM_904030532.csv\" uploaded to Box with file ID 1184094705752\n"
     ]
    },
    {
     "name": "stderr",
     "output_type": "stream",
     "text": [
      "100% |########################################################################|\r"
     ]
    },
    {
     "name": "stdout",
     "output_type": "stream",
     "text": [
      "File \"NWM_904040051.csv\" uploaded to Box with file ID 1184094857366\n"
     ]
    },
    {
     "name": "stderr",
     "output_type": "stream",
     "text": [
      "\n",
      "  0% |                                                                        |\r"
     ]
    },
    {
     "name": "stdout",
     "output_type": "stream",
     "text": [
      "Folder NHD_segments_wv.h5 created with id:  202277990873\n"
     ]
    },
    {
     "name": "stderr",
     "output_type": "stream",
     "text": [
      "  1% |                                                                        |\r"
     ]
    },
    {
     "name": "stdout",
     "output_type": "stream",
     "text": [
      "File \"NWM_12103826.csv\" uploaded to Box with file ID 1184081736127\n"
     ]
    },
    {
     "name": "stderr",
     "output_type": "stream",
     "text": [
      "  2% |#                                                                       |\r"
     ]
    },
    {
     "name": "stdout",
     "output_type": "stream",
     "text": [
      "File \"NWM_12105064.csv\" uploaded to Box with file ID 1184096357070\n"
     ]
    },
    {
     "name": "stderr",
     "output_type": "stream",
     "text": [
      "  3% |##                                                                      |\r"
     ]
    },
    {
     "name": "stdout",
     "output_type": "stream",
     "text": [
      "File \"NWM_12107522.csv\" uploaded to Box with file ID 1184096474641\n"
     ]
    },
    {
     "name": "stderr",
     "output_type": "stream",
     "text": [
      "  4% |###                                                                     |\r"
     ]
    },
    {
     "name": "stdout",
     "output_type": "stream",
     "text": [
      "File \"NWM_12107594.csv\" uploaded to Box with file ID 1184096544561\n"
     ]
    },
    {
     "name": "stderr",
     "output_type": "stream",
     "text": [
      "  5% |####                                                                    |\r"
     ]
    },
    {
     "name": "stdout",
     "output_type": "stream",
     "text": [
      "File \"NWM_14363552.csv\" uploaded to Box with file ID 1184097769059\n"
     ]
    },
    {
     "name": "stderr",
     "output_type": "stream",
     "text": [
      "  6% |####                                                                    |\r"
     ]
    },
    {
     "name": "stdout",
     "output_type": "stream",
     "text": [
      "File \"NWM_14364372.csv\" uploaded to Box with file ID 1184095037783\n"
     ]
    },
    {
     "name": "stderr",
     "output_type": "stream",
     "text": [
      "  7% |#####                                                                   |\r"
     ]
    },
    {
     "name": "stdout",
     "output_type": "stream",
     "text": [
      "File \"NWM_14364980.csv\" uploaded to Box with file ID 1184096246781\n"
     ]
    },
    {
     "name": "stderr",
     "output_type": "stream",
     "text": [
      "  9% |######                                                                  |\r"
     ]
    },
    {
     "name": "stdout",
     "output_type": "stream",
     "text": [
      "File \"NWM_14365060.csv\" uploaded to Box with file ID 1184095613851\n"
     ]
    },
    {
     "name": "stderr",
     "output_type": "stream",
     "text": [
      " 10% |#######                                                                 |\r"
     ]
    },
    {
     "name": "stdout",
     "output_type": "stream",
     "text": [
      "File \"NWM_14365250.csv\" uploaded to Box with file ID 1184059684319\n"
     ]
    },
    {
     "name": "stderr",
     "output_type": "stream",
     "text": [
      " 11% |########                                                                |\r"
     ]
    },
    {
     "name": "stdout",
     "output_type": "stream",
     "text": [
      "File \"NWM_15429794.csv\" uploaded to Box with file ID 1184095046815\n"
     ]
    },
    {
     "name": "stderr",
     "output_type": "stream",
     "text": [
      " 12% |#########                                                               |\r"
     ]
    },
    {
     "name": "stdout",
     "output_type": "stream",
     "text": [
      "File \"NWM_15431972.csv\" uploaded to Box with file ID 1184103089730\n"
     ]
    },
    {
     "name": "stderr",
     "output_type": "stream",
     "text": [
      " 13% |#########                                                               |\r"
     ]
    },
    {
     "name": "stdout",
     "output_type": "stream",
     "text": [
      "File \"NWM_19293432.csv\" uploaded to Box with file ID 1184095541301\n"
     ]
    },
    {
     "name": "stderr",
     "output_type": "stream",
     "text": [
      " 14% |##########                                                              |\r"
     ]
    },
    {
     "name": "stdout",
     "output_type": "stream",
     "text": [
      "File \"NWM_19315490.csv\" uploaded to Box with file ID 1184094703735\n"
     ]
    },
    {
     "name": "stderr",
     "output_type": "stream",
     "text": [
      " 15% |###########                                                             |\r"
     ]
    },
    {
     "name": "stdout",
     "output_type": "stream",
     "text": [
      "File \"NWM_19315642.csv\" uploaded to Box with file ID 1184100641661\n"
     ]
    },
    {
     "name": "stderr",
     "output_type": "stream",
     "text": [
      " 17% |############                                                            |\r"
     ]
    },
    {
     "name": "stdout",
     "output_type": "stream",
     "text": [
      "File \"NWM_19322127.csv\" uploaded to Box with file ID 1184095001205\n"
     ]
    },
    {
     "name": "stderr",
     "output_type": "stream",
     "text": [
      " 18% |#############                                                           |\r"
     ]
    },
    {
     "name": "stdout",
     "output_type": "stream",
     "text": [
      "File \"NWM_19325043.csv\" uploaded to Box with file ID 1184094957711\n"
     ]
    },
    {
     "name": "stderr",
     "output_type": "stream",
     "text": [
      " 19% |#############                                                           |\r"
     ]
    },
    {
     "name": "stdout",
     "output_type": "stream",
     "text": [
      "File \"NWM_19325045.csv\" uploaded to Box with file ID 1184100828080\n"
     ]
    },
    {
     "name": "stderr",
     "output_type": "stream",
     "text": [
      " 20% |##############                                                          |\r"
     ]
    },
    {
     "name": "stdout",
     "output_type": "stream",
     "text": [
      "File \"NWM_19414869.csv\" uploaded to Box with file ID 1184095505409\n"
     ]
    },
    {
     "name": "stderr",
     "output_type": "stream",
     "text": [
      " 21% |###############                                                         |\r"
     ]
    },
    {
     "name": "stdout",
     "output_type": "stream",
     "text": [
      "File \"NWM_19415571.csv\" uploaded to Box with file ID 1184096383662\n"
     ]
    },
    {
     "name": "stderr",
     "output_type": "stream",
     "text": [
      " 22% |################                                                        |\r"
     ]
    },
    {
     "name": "stdout",
     "output_type": "stream",
     "text": [
      "File \"NWM_19417429.csv\" uploaded to Box with file ID 1184100350411\n"
     ]
    },
    {
     "name": "stderr",
     "output_type": "stream",
     "text": [
      " 23% |#################                                                       |\r"
     ]
    },
    {
     "name": "stdout",
     "output_type": "stream",
     "text": [
      "File \"NWM_19418679.csv\" uploaded to Box with file ID 1184094605388\n"
     ]
    },
    {
     "name": "stderr",
     "output_type": "stream",
     "text": [
      " 25% |##################                                                      |\r"
     ]
    },
    {
     "name": "stdout",
     "output_type": "stream",
     "text": [
      "File \"NWM_19452609.csv\" uploaded to Box with file ID 1184097838757\n"
     ]
    },
    {
     "name": "stderr",
     "output_type": "stream",
     "text": [
      " 26% |##################                                                      |\r"
     ]
    },
    {
     "name": "stdout",
     "output_type": "stream",
     "text": [
      "File \"NWM_3715602.csv\" uploaded to Box with file ID 1184097939550\n"
     ]
    },
    {
     "name": "stderr",
     "output_type": "stream",
     "text": [
      " 27% |###################                                                     |\r"
     ]
    },
    {
     "name": "stdout",
     "output_type": "stream",
     "text": [
      "File \"NWM_3716188.csv\" uploaded to Box with file ID 1184095750737\n"
     ]
    },
    {
     "name": "stderr",
     "output_type": "stream",
     "text": [
      " 28% |####################                                                    |\r"
     ]
    },
    {
     "name": "stdout",
     "output_type": "stream",
     "text": [
      "File \"NWM_3717136.csv\" uploaded to Box with file ID 1184095370558\n"
     ]
    },
    {
     "name": "stderr",
     "output_type": "stream",
     "text": [
      " 29% |#####################                                                   |\r"
     ]
    },
    {
     "name": "stdout",
     "output_type": "stream",
     "text": [
      "File \"NWM_3768536.csv\" uploaded to Box with file ID 1184095800742\n"
     ]
    },
    {
     "name": "stderr",
     "output_type": "stream",
     "text": [
      " 30% |######################                                                  |\r"
     ]
    },
    {
     "name": "stdout",
     "output_type": "stream",
     "text": [
      "File \"NWM_3769770.csv\" uploaded to Box with file ID 1184095032010\n"
     ]
    },
    {
     "name": "stderr",
     "output_type": "stream",
     "text": [
      " 31% |######################                                                  |\r"
     ]
    },
    {
     "name": "stdout",
     "output_type": "stream",
     "text": [
      "File \"NWM_3773681.csv\" uploaded to Box with file ID 1184095416719\n"
     ]
    },
    {
     "name": "stderr",
     "output_type": "stream",
     "text": [
      " 32% |#######################                                                 |\r"
     ]
    },
    {
     "name": "stdout",
     "output_type": "stream",
     "text": [
      "File \"NWM_3775187.csv\" uploaded to Box with file ID 1184095332799\n"
     ]
    },
    {
     "name": "stderr",
     "output_type": "stream",
     "text": [
      " 34% |########################                                                |\r"
     ]
    },
    {
     "name": "stdout",
     "output_type": "stream",
     "text": [
      "File \"NWM_3775599.csv\" uploaded to Box with file ID 1184100509771\n"
     ]
    },
    {
     "name": "stderr",
     "output_type": "stream",
     "text": [
      " 35% |#########################                                               |\r"
     ]
    },
    {
     "name": "stdout",
     "output_type": "stream",
     "text": [
      "File \"NWM_3775649.csv\" uploaded to Box with file ID 1184100451299\n"
     ]
    },
    {
     "name": "stderr",
     "output_type": "stream",
     "text": [
      " 36% |##########################                                              |\r"
     ]
    },
    {
     "name": "stdout",
     "output_type": "stream",
     "text": [
      "File \"NWM_3775993.csv\" uploaded to Box with file ID 1184095529642\n"
     ]
    },
    {
     "name": "stderr",
     "output_type": "stream",
     "text": [
      " 37% |###########################                                             |\r"
     ]
    },
    {
     "name": "stdout",
     "output_type": "stream",
     "text": [
      "File \"NWM_3776515.csv\" uploaded to Box with file ID 1184097706601\n"
     ]
    },
    {
     "name": "stderr",
     "output_type": "stream",
     "text": [
      " 38% |###########################                                             |\r"
     ]
    },
    {
     "name": "stdout",
     "output_type": "stream",
     "text": [
      "File \"NWM_3787957.csv\" uploaded to Box with file ID 1184104596689\n"
     ]
    },
    {
     "name": "stderr",
     "output_type": "stream",
     "text": [
      " 39% |############################                                            |\r"
     ]
    },
    {
     "name": "stdout",
     "output_type": "stream",
     "text": [
      "File \"NWM_3788105.csv\" uploaded to Box with file ID 1184071356179\n"
     ]
    },
    {
     "name": "stderr",
     "output_type": "stream",
     "text": [
      " 40% |#############################                                           |\r"
     ]
    },
    {
     "name": "stdout",
     "output_type": "stream",
     "text": [
      "File \"NWM_3822659.csv\" uploaded to Box with file ID 1184095133149\n"
     ]
    },
    {
     "name": "stderr",
     "output_type": "stream",
     "text": [
      " 42% |##############################                                          |\r"
     ]
    },
    {
     "name": "stdout",
     "output_type": "stream",
     "text": [
      "File \"NWM_3964810.csv\" uploaded to Box with file ID 1184094804243\n"
     ]
    },
    {
     "name": "stderr",
     "output_type": "stream",
     "text": [
      " 43% |###############################                                         |\r"
     ]
    },
    {
     "name": "stdout",
     "output_type": "stream",
     "text": [
      "File \"NWM_434540.csv\" uploaded to Box with file ID 1184095826854\n"
     ]
    },
    {
     "name": "stderr",
     "output_type": "stream",
     "text": [
      " 44% |###############################                                         |\r"
     ]
    },
    {
     "name": "stdout",
     "output_type": "stream",
     "text": [
      "File \"NWM_4350794.csv\" uploaded to Box with file ID 1184095699298\n"
     ]
    },
    {
     "name": "stderr",
     "output_type": "stream",
     "text": [
      " 45% |################################                                        |\r"
     ]
    },
    {
     "name": "stdout",
     "output_type": "stream",
     "text": [
      "File \"NWM_4351512.csv\" uploaded to Box with file ID 1184098150750\n"
     ]
    },
    {
     "name": "stderr",
     "output_type": "stream",
     "text": [
      " 46% |#################################                                       |\r"
     ]
    },
    {
     "name": "stdout",
     "output_type": "stream",
     "text": [
      "File \"NWM_435154.csv\" uploaded to Box with file ID 1184098516914\n"
     ]
    },
    {
     "name": "stderr",
     "output_type": "stream",
     "text": [
      " 47% |##################################                                      |\r"
     ]
    },
    {
     "name": "stdout",
     "output_type": "stream",
     "text": [
      "File \"NWM_4352064.csv\" uploaded to Box with file ID 1184095257752\n"
     ]
    },
    {
     "name": "stderr",
     "output_type": "stream",
     "text": [
      " 48% |###################################                                     |\r"
     ]
    },
    {
     "name": "stdout",
     "output_type": "stream",
     "text": [
      "File \"NWM_4352070.csv\" uploaded to Box with file ID 1184096985857\n"
     ]
    },
    {
     "name": "stderr",
     "output_type": "stream",
     "text": [
      " 50% |####################################                                    |\r"
     ]
    },
    {
     "name": "stdout",
     "output_type": "stream",
     "text": [
      "File \"NWM_4352082.csv\" uploaded to Box with file ID 1184102710454\n"
     ]
    },
    {
     "name": "stderr",
     "output_type": "stream",
     "text": [
      " 51% |####################################                                    |\r"
     ]
    },
    {
     "name": "stdout",
     "output_type": "stream",
     "text": [
      "File \"NWM_4352134.csv\" uploaded to Box with file ID 1184103245406\n"
     ]
    },
    {
     "name": "stderr",
     "output_type": "stream",
     "text": [
      " 52% |#####################################                                   |\r"
     ]
    },
    {
     "name": "stdout",
     "output_type": "stream",
     "text": [
      "File \"NWM_4352178.csv\" uploaded to Box with file ID 1184096545085\n"
     ]
    },
    {
     "name": "stderr",
     "output_type": "stream",
     "text": [
      " 53% |######################################                                  |\r"
     ]
    },
    {
     "name": "stdout",
     "output_type": "stream",
     "text": [
      "File \"NWM_4353002.csv\" uploaded to Box with file ID 1184100917216\n"
     ]
    },
    {
     "name": "stderr",
     "output_type": "stream",
     "text": [
      " 54% |#######################################                                 |\r"
     ]
    },
    {
     "name": "stdout",
     "output_type": "stream",
     "text": [
      "File \"NWM_4353810.csv\" uploaded to Box with file ID 1184095767109\n"
     ]
    },
    {
     "name": "stderr",
     "output_type": "stream",
     "text": [
      " 55% |########################################                                |\r"
     ]
    },
    {
     "name": "stdout",
     "output_type": "stream",
     "text": [
      "File \"NWM_4354466.csv\" uploaded to Box with file ID 1184065318247\n"
     ]
    },
    {
     "name": "stderr",
     "output_type": "stream",
     "text": [
      " 56% |########################################                                |\r"
     ]
    },
    {
     "name": "stdout",
     "output_type": "stream",
     "text": [
      "File \"NWM_436048.csv\" uploaded to Box with file ID 1184096258272\n"
     ]
    },
    {
     "name": "stderr",
     "output_type": "stream",
     "text": [
      " 57% |#########################################                               |\r"
     ]
    },
    {
     "name": "stdout",
     "output_type": "stream",
     "text": [
      "File \"NWM_437262.csv\" uploaded to Box with file ID 1184095898505\n"
     ]
    },
    {
     "name": "stderr",
     "output_type": "stream",
     "text": [
      " 59% |##########################################                              |\r"
     ]
    },
    {
     "name": "stdout",
     "output_type": "stream",
     "text": [
      "File \"NWM_4547166.csv\" uploaded to Box with file ID 1184096625887\n"
     ]
    },
    {
     "name": "stderr",
     "output_type": "stream",
     "text": [
      " 60% |###########################################                             |\r"
     ]
    },
    {
     "name": "stdout",
     "output_type": "stream",
     "text": [
      "File \"NWM_4547810.csv\" uploaded to Box with file ID 1184065304029\n"
     ]
    },
    {
     "name": "stderr",
     "output_type": "stream",
     "text": [
      " 61% |############################################                            |\r"
     ]
    },
    {
     "name": "stdout",
     "output_type": "stream",
     "text": [
      "File \"NWM_4547840.csv\" uploaded to Box with file ID 1184095982985\n"
     ]
    },
    {
     "name": "stderr",
     "output_type": "stream",
     "text": [
      " 62% |#############################################                           |\r"
     ]
    },
    {
     "name": "stdout",
     "output_type": "stream",
     "text": [
      "File \"NWM_4547946.csv\" uploaded to Box with file ID 1184096129282\n"
     ]
    },
    {
     "name": "stderr",
     "output_type": "stream",
     "text": [
      " 63% |#############################################                           |\r"
     ]
    },
    {
     "name": "stdout",
     "output_type": "stream",
     "text": [
      "File \"NWM_4547996.csv\" uploaded to Box with file ID 1184095901989\n"
     ]
    },
    {
     "name": "stderr",
     "output_type": "stream",
     "text": [
      " 64% |##############################################                          |\r"
     ]
    },
    {
     "name": "stdout",
     "output_type": "stream",
     "text": [
      "File \"NWM_4548546.csv\" uploaded to Box with file ID 1184095968345\n"
     ]
    },
    {
     "name": "stderr",
     "output_type": "stream",
     "text": [
      " 65% |###############################################                         |\r"
     ]
    },
    {
     "name": "stdout",
     "output_type": "stream",
     "text": [
      "File \"NWM_4552334.csv\" uploaded to Box with file ID 1184096017194\n"
     ]
    },
    {
     "name": "stderr",
     "output_type": "stream",
     "text": [
      " 67% |################################################                        |\r"
     ]
    },
    {
     "name": "stdout",
     "output_type": "stream",
     "text": [
      "File \"NWM_5892920.csv\" uploaded to Box with file ID 1184096840237\n"
     ]
    },
    {
     "name": "stderr",
     "output_type": "stream",
     "text": [
      " 68% |#################################################                       |\r"
     ]
    },
    {
     "name": "stdout",
     "output_type": "stream",
     "text": [
      "File \"NWM_5893170.csv\" uploaded to Box with file ID 1184096643217\n"
     ]
    },
    {
     "name": "stderr",
     "output_type": "stream",
     "text": [
      " 69% |#################################################                       |\r"
     ]
    },
    {
     "name": "stdout",
     "output_type": "stream",
     "text": [
      "File \"NWM_5893338.csv\" uploaded to Box with file ID 1184097334042\n"
     ]
    },
    {
     "name": "stderr",
     "output_type": "stream",
     "text": [
      " 70% |##################################################                      |\r"
     ]
    },
    {
     "name": "stdout",
     "output_type": "stream",
     "text": [
      "File \"NWM_5894272.csv\" uploaded to Box with file ID 1184095551520\n"
     ]
    },
    {
     "name": "stderr",
     "output_type": "stream",
     "text": [
      " 71% |###################################################                     |\r"
     ]
    },
    {
     "name": "stdout",
     "output_type": "stream",
     "text": [
      "File \"NWM_5894280.csv\" uploaded to Box with file ID 1184095457785\n"
     ]
    },
    {
     "name": "stderr",
     "output_type": "stream",
     "text": [
      " 72% |####################################################                    |\r"
     ]
    },
    {
     "name": "stdout",
     "output_type": "stream",
     "text": [
      "File \"NWM_5894384.csv\" uploaded to Box with file ID 1184100048487\n"
     ]
    },
    {
     "name": "stderr",
     "output_type": "stream",
     "text": [
      " 73% |#####################################################                   |\r"
     ]
    },
    {
     "name": "stdout",
     "output_type": "stream",
     "text": [
      "File \"NWM_5894792.csv\" uploaded to Box with file ID 1184102527729\n"
     ]
    },
    {
     "name": "stderr",
     "output_type": "stream",
     "text": [
      " 75% |######################################################                  |\r"
     ]
    },
    {
     "name": "stdout",
     "output_type": "stream",
     "text": [
      "File \"NWM_5895480.csv\" uploaded to Box with file ID 1184095169388\n"
     ]
    },
    {
     "name": "stderr",
     "output_type": "stream",
     "text": [
      " 76% |######################################################                  |\r"
     ]
    },
    {
     "name": "stdout",
     "output_type": "stream",
     "text": [
      "File \"NWM_5895964.csv\" uploaded to Box with file ID 1184095639670\n"
     ]
    },
    {
     "name": "stderr",
     "output_type": "stream",
     "text": [
      " 77% |#######################################################                 |\r"
     ]
    },
    {
     "name": "stdout",
     "output_type": "stream",
     "text": [
      "File \"NWM_6906905.csv\" uploaded to Box with file ID 1184096208454\n"
     ]
    },
    {
     "name": "stderr",
     "output_type": "stream",
     "text": [
      " 78% |########################################################                |\r"
     ]
    },
    {
     "name": "stdout",
     "output_type": "stream",
     "text": [
      "File \"NWM_6908699.csv\" uploaded to Box with file ID 1184102731495\n"
     ]
    },
    {
     "name": "stderr",
     "output_type": "stream",
     "text": [
      " 79% |#########################################################               |\r"
     ]
    },
    {
     "name": "stdout",
     "output_type": "stream",
     "text": [
      "File \"NWM_6909539.csv\" uploaded to Box with file ID 1184098565859\n"
     ]
    },
    {
     "name": "stderr",
     "output_type": "stream",
     "text": [
      " 80% |##########################################################              |\r"
     ]
    },
    {
     "name": "stdout",
     "output_type": "stream",
     "text": [
      "File \"NWM_6920810.csv\" uploaded to Box with file ID 1184096445888\n"
     ]
    },
    {
     "name": "stderr",
     "output_type": "stream",
     "text": [
      " 81% |##########################################################              |\r"
     ]
    },
    {
     "name": "stdout",
     "output_type": "stream",
     "text": [
      "File \"NWM_6920932.csv\" uploaded to Box with file ID 1184096170255\n"
     ]
    },
    {
     "name": "stderr",
     "output_type": "stream",
     "text": [
      " 82% |###########################################################             |\r"
     ]
    },
    {
     "name": "stdout",
     "output_type": "stream",
     "text": [
      "File \"NWM_6925383.csv\" uploaded to Box with file ID 1184097585650\n"
     ]
    },
    {
     "name": "stderr",
     "output_type": "stream",
     "text": [
      " 84% |############################################################            |\r"
     ]
    },
    {
     "name": "stdout",
     "output_type": "stream",
     "text": [
      "File \"NWM_6929014.csv\" uploaded to Box with file ID 1184094987113\n"
     ]
    },
    {
     "name": "stderr",
     "output_type": "stream",
     "text": [
      " 85% |#############################################################           |\r"
     ]
    },
    {
     "name": "stdout",
     "output_type": "stream",
     "text": [
      "File \"NWM_6929270.csv\" uploaded to Box with file ID 1184096393494\n"
     ]
    },
    {
     "name": "stderr",
     "output_type": "stream",
     "text": [
      " 86% |##############################################################          |\r"
     ]
    },
    {
     "name": "stdout",
     "output_type": "stream",
     "text": [
      "File \"NWM_6934710.csv\" uploaded to Box with file ID 1184096556199\n"
     ]
    },
    {
     "name": "stderr",
     "output_type": "stream",
     "text": [
      " 87% |###############################################################         |\r"
     ]
    },
    {
     "name": "stdout",
     "output_type": "stream",
     "text": [
      "File \"NWM_6934802.csv\" uploaded to Box with file ID 1184096427325\n"
     ]
    },
    {
     "name": "stderr",
     "output_type": "stream",
     "text": [
      " 88% |###############################################################         |\r"
     ]
    },
    {
     "name": "stdout",
     "output_type": "stream",
     "text": [
      "File \"NWM_6935684.csv\" uploaded to Box with file ID 1184099462524\n"
     ]
    },
    {
     "name": "stderr",
     "output_type": "stream",
     "text": [
      " 89% |################################################################        |\r"
     ]
    },
    {
     "name": "stdout",
     "output_type": "stream",
     "text": [
      "File \"NWM_8420098.csv\" uploaded to Box with file ID 1184095555453\n"
     ]
    },
    {
     "name": "stderr",
     "output_type": "stream",
     "text": [
      " 90% |#################################################################       |\r"
     ]
    },
    {
     "name": "stdout",
     "output_type": "stream",
     "text": [
      "File \"NWM_8420360.csv\" uploaded to Box with file ID 1184095399645\n"
     ]
    },
    {
     "name": "stderr",
     "output_type": "stream",
     "text": [
      " 92% |##################################################################      |\r"
     ]
    },
    {
     "name": "stdout",
     "output_type": "stream",
     "text": [
      "File \"NWM_8423278.csv\" uploaded to Box with file ID 1184095056713\n"
     ]
    },
    {
     "name": "stderr",
     "output_type": "stream",
     "text": [
      " 93% |###################################################################     |\r"
     ]
    },
    {
     "name": "stdout",
     "output_type": "stream",
     "text": [
      "File \"NWM_8423282.csv\" uploaded to Box with file ID 1184099312031\n"
     ]
    },
    {
     "name": "stderr",
     "output_type": "stream",
     "text": [
      " 94% |###################################################################     |\r"
     ]
    },
    {
     "name": "stdout",
     "output_type": "stream",
     "text": [
      "File \"NWM_8423458.csv\" uploaded to Box with file ID 1184095966023\n"
     ]
    },
    {
     "name": "stderr",
     "output_type": "stream",
     "text": [
      " 95% |####################################################################    |\r"
     ]
    },
    {
     "name": "stdout",
     "output_type": "stream",
     "text": [
      "File \"NWM_8423460.csv\" uploaded to Box with file ID 1184099695932\n"
     ]
    },
    {
     "name": "stderr",
     "output_type": "stream",
     "text": [
      " 96% |#####################################################################   |\r"
     ]
    },
    {
     "name": "stdout",
     "output_type": "stream",
     "text": [
      "File \"NWM_8431736.csv\" uploaded to Box with file ID 1184103116396\n"
     ]
    },
    {
     "name": "stderr",
     "output_type": "stream",
     "text": [
      " 97% |######################################################################  |\r"
     ]
    },
    {
     "name": "stdout",
     "output_type": "stream",
     "text": [
      "File \"NWM_8433400.csv\" uploaded to Box with file ID 1184096287909\n"
     ]
    },
    {
     "name": "stderr",
     "output_type": "stream",
     "text": [
      " 98% |####################################################################### |\r"
     ]
    },
    {
     "name": "stdout",
     "output_type": "stream",
     "text": [
      "File \"NWM_8444776.csv\" uploaded to Box with file ID 1184096568493\n"
     ]
    },
    {
     "name": "stderr",
     "output_type": "stream",
     "text": [
      "100% |########################################################################|\r"
     ]
    },
    {
     "name": "stdout",
     "output_type": "stream",
     "text": [
      "File \"NWM_8445070.csv\" uploaded to Box with file ID 1184096165580\n"
     ]
    },
    {
     "name": "stderr",
     "output_type": "stream",
     "text": [
      "\n",
      "  0% |                                                                        |\r"
     ]
    },
    {
     "name": "stdout",
     "output_type": "stream",
     "text": [
      "Folder NHD_segments_wy.h5 created with id:  202278425560\n"
     ]
    },
    {
     "name": "stderr",
     "output_type": "stream",
     "text": [
      "  4% |###                                                                     |\r"
     ]
    },
    {
     "name": "stdout",
     "output_type": "stream",
     "text": [
      "File \"NWM_10040950.csv\" uploaded to Box with file ID 1184096977125\n"
     ]
    },
    {
     "name": "stderr",
     "output_type": "stream",
     "text": [
      "  9% |######                                                                  |\r"
     ]
    },
    {
     "name": "stdout",
     "output_type": "stream",
     "text": [
      "File \"NWM_12771343.csv\" uploaded to Box with file ID 1184098006351\n"
     ]
    },
    {
     "name": "stderr",
     "output_type": "stream",
     "text": [
      " 14% |##########                                                              |\r"
     ]
    },
    {
     "name": "stdout",
     "output_type": "stream",
     "text": [
      "File \"NWM_18279713.csv\" uploaded to Box with file ID 1184096523027\n"
     ]
    },
    {
     "name": "stderr",
     "output_type": "stream",
     "text": [
      " 19% |#############                                                           |\r"
     ]
    },
    {
     "name": "stdout",
     "output_type": "stream",
     "text": [
      "File \"NWM_18279725.csv\" uploaded to Box with file ID 1184097586161\n"
     ]
    },
    {
     "name": "stderr",
     "output_type": "stream",
     "text": [
      " 23% |#################                                                       |\r"
     ]
    },
    {
     "name": "stdout",
     "output_type": "stream",
     "text": [
      "File \"NWM_2898187.csv\" uploaded to Box with file ID 1184096599641\n"
     ]
    },
    {
     "name": "stderr",
     "output_type": "stream",
     "text": [
      " 28% |####################                                                    |\r"
     ]
    },
    {
     "name": "stdout",
     "output_type": "stream",
     "text": [
      "File \"NWM_2900061.csv\" uploaded to Box with file ID 1184095798149\n"
     ]
    },
    {
     "name": "stderr",
     "output_type": "stream",
     "text": [
      " 33% |########################                                                |\r"
     ]
    },
    {
     "name": "stdout",
     "output_type": "stream",
     "text": [
      "File \"NWM_2900123.csv\" uploaded to Box with file ID 1184099647324\n"
     ]
    },
    {
     "name": "stderr",
     "output_type": "stream",
     "text": [
      " 38% |###########################                                             |\r"
     ]
    },
    {
     "name": "stdout",
     "output_type": "stream",
     "text": [
      "File \"NWM_2900149.csv\" uploaded to Box with file ID 1184099136344\n"
     ]
    },
    {
     "name": "stderr",
     "output_type": "stream",
     "text": [
      " 42% |##############################                                          |\r"
     ]
    },
    {
     "name": "stdout",
     "output_type": "stream",
     "text": [
      "File \"NWM_2900581.csv\" uploaded to Box with file ID 1184099162834\n"
     ]
    },
    {
     "name": "stderr",
     "output_type": "stream",
     "text": [
      " 47% |##################################                                      |\r"
     ]
    },
    {
     "name": "stdout",
     "output_type": "stream",
     "text": [
      "File \"NWM_2962790.csv\" uploaded to Box with file ID 1184095618045\n"
     ]
    },
    {
     "name": "stderr",
     "output_type": "stream",
     "text": [
      " 52% |#####################################                                   |\r"
     ]
    },
    {
     "name": "stdout",
     "output_type": "stream",
     "text": [
      "File \"NWM_2965566.csv\" uploaded to Box with file ID 1184097355584\n"
     ]
    },
    {
     "name": "stderr",
     "output_type": "stream",
     "text": [
      " 57% |#########################################                               |\r"
     ]
    },
    {
     "name": "stdout",
     "output_type": "stream",
     "text": [
      "File \"NWM_3059764.csv\" uploaded to Box with file ID 1184065349709\n"
     ]
    },
    {
     "name": "stderr",
     "output_type": "stream",
     "text": [
      " 61% |############################################                            |\r"
     ]
    },
    {
     "name": "stdout",
     "output_type": "stream",
     "text": [
      "File \"NWM_3199586.csv\" uploaded to Box with file ID 1184096561843\n"
     ]
    },
    {
     "name": "stderr",
     "output_type": "stream",
     "text": [
      " 66% |################################################                        |\r"
     ]
    },
    {
     "name": "stdout",
     "output_type": "stream",
     "text": [
      "File \"NWM_3855315.csv\" uploaded to Box with file ID 1184096019124\n"
     ]
    },
    {
     "name": "stderr",
     "output_type": "stream",
     "text": [
      " 71% |###################################################                     |\r"
     ]
    },
    {
     "name": "stdout",
     "output_type": "stream",
     "text": [
      "File \"NWM_4265860.csv\" uploaded to Box with file ID 1184097601005\n"
     ]
    },
    {
     "name": "stderr",
     "output_type": "stream",
     "text": [
      " 76% |######################################################                  |\r"
     ]
    },
    {
     "name": "stdout",
     "output_type": "stream",
     "text": [
      "File \"NWM_4369760.csv\" uploaded to Box with file ID 1184096153576\n"
     ]
    },
    {
     "name": "stderr",
     "output_type": "stream",
     "text": [
      " 80% |##########################################################              |\r"
     ]
    },
    {
     "name": "stdout",
     "output_type": "stream",
     "text": [
      "File \"NWM_5334435.csv\" uploaded to Box with file ID 1184096741282\n"
     ]
    },
    {
     "name": "stderr",
     "output_type": "stream",
     "text": [
      " 85% |#############################################################           |\r"
     ]
    },
    {
     "name": "stdout",
     "output_type": "stream",
     "text": [
      "File \"NWM_5334799.csv\" uploaded to Box with file ID 1184096071486\n"
     ]
    },
    {
     "name": "stderr",
     "output_type": "stream",
     "text": [
      " 90% |#################################################################       |\r"
     ]
    },
    {
     "name": "stdout",
     "output_type": "stream",
     "text": [
      "File \"NWM_5387929.csv\" uploaded to Box with file ID 1184096619524\n"
     ]
    },
    {
     "name": "stderr",
     "output_type": "stream",
     "text": [
      " 95% |####################################################################    |\r"
     ]
    },
    {
     "name": "stdout",
     "output_type": "stream",
     "text": [
      "File \"NWM_7887898.csv\" uploaded to Box with file ID 1184096657843\n"
     ]
    },
    {
     "name": "stderr",
     "output_type": "stream",
     "text": [
      "100% |########################################################################|\r"
     ]
    },
    {
     "name": "stdout",
     "output_type": "stream",
     "text": [
      "File \"NWM_7898927.csv\" uploaded to Box with file ID 1184096273587\n"
     ]
    },
    {
     "name": "stderr",
     "output_type": "stream",
     "text": [
      "\n"
     ]
    }
   ],
   "source": [
    "#Make files in BoxSDK for all NWIS sites\n",
    "Drive_to_SDK(state_dictionary, NWM_dictionary, 'NWM')"
   ]
  },
  {
   "cell_type": "code",
   "execution_count": 162,
   "id": "f69fee5d",
   "metadata": {},
   "outputs": [],
   "source": [
    "\n",
    "import pickle\n",
    "f = open('./Streamflow_App/NWM_state_keys.pkl', 'wb')\n",
    "pickle.dump(state_dictionary, f)\n",
    "f.close()\n",
    "\n",
    "n = open('./Streamflow_App/NWM_site_keys.pkl', 'wb')\n",
    "pickle.dump(NWM_Dictionary, n)\n",
    "n.close()\n"
   ]
  },
  {
   "cell_type": "code",
   "execution_count": 29,
   "id": "7dfe6854",
   "metadata": {},
   "outputs": [
    {
     "name": "stderr",
     "output_type": "stream",
     "text": [
      "100% |########################################################################|\n"
     ]
    },
    {
     "name": "stdout",
     "output_type": "stream",
     "text": [
      "File \"NWIS_state_keys.csv\" uploaded to Box with file ID 1185051421057\n"
     ]
    }
   ],
   "source": [
    "#Need to put the segment id dictionaries into a csv\n",
    "dataname = 'NWIS_state'\n",
    "dataid = dataname+'_id'\n",
    "Searchable_filename = dataname+'_keys.csv'\n",
    "\n",
    "#load dictionary\n",
    "Dictionary = pickle.load(open(cwd+'/Streamflow_App/'+dataname+'_keys.pkl', 'rb'))\n",
    "\n",
    "columns = [dataname, dataid]\n",
    "DF = pd.DataFrame(columns = columns)\n",
    "\n",
    "pbar = ProgressBar()\n",
    "for site in pbar(Dictionary.keys()):\n",
    "    #remove .csv from any id's\n",
    "    if '.csv' in site:\n",
    "        sitename = site[:-4]\n",
    "    else:\n",
    "        sitename = site\n",
    "    siteinfo = [site, Dictionary[site]]\n",
    "    #DF = DF.append(siteinfo, ignore_index = True)\n",
    "    DF.loc[len(DF)] = siteinfo\n",
    "    \n",
    "#save as stringIO    \n",
    "s_buf = StringIO()\n",
    "DF.to_csv(s_buf)\n",
    "new_file = client.folder('0').upload_stream(s_buf, Searchable_filename)\n",
    "print(f'File \"{new_file.name}\" uploaded to Box with file ID {new_file.id}')\n",
    "\n",
    "#updated_file = client.file('1184303261277').update_contents(s_buf)\n",
    "#print(f'File \"{updated_file.name}\" with id: \"{updated_file.id}\" has been updated')\n",
    "#File \"NWM_site_keys.csv\" uploaded to Box with file ID 1184296622892\n",
    "#File \"NWIS_site_keys.csv\" uploaded to Box with file ID 1184303261277\n",
    "#File \"NWIS_site_keys_Conus.csv\" uploaded to Box with file ID 1184330851812 -- use this one\n",
    "#File 'streamstats' uploaded to Box with file ID '1182325029983'\n",
    "#File \"NWM_v2.1_state_keys.csv\" uploaded to Box with file ID 1185045021944\n",
    "#File \"NWIS_state_keys.csv\" uploaded to Box with file ID 1185051421057"
   ]
  },
  {
   "cell_type": "markdown",
   "id": "5490a0e6",
   "metadata": {},
   "source": [
    "## Code for finding folder id from name"
   ]
  },
  {
   "cell_type": "code",
   "execution_count": 4,
   "id": "78310517",
   "metadata": {},
   "outputs": [
    {
     "name": "stdout",
     "output_type": "stream",
     "text": [
      "The item ID is 184102567655 and the item name is WBD_01_HU2_GDB.gdb\n"
     ]
    }
   ],
   "source": [
    "folders = [\n",
    "    'WBD_01_HU2_GDB.gdb'\n",
    "]\n",
    "\n",
    "for folder_name in folders:\n",
    "    #folder_name = 'NHD_segments_al.h5'\n",
    "    results = client.search().query(query = folder_name,type = 'folder', limit = 1)\n",
    "\n",
    "    for result in results:\n",
    "        name = result.name\n",
    "        if name == folder_name:\n",
    "            print(f'The item ID is {result.id} and the item name is {name}')\n",
    "            break\n",
    "            \n",
    "#The item ID is 202307017034 and the item name is NWM_testing_this_one"
   ]
  },
  {
   "cell_type": "markdown",
   "id": "baef987b",
   "metadata": {},
   "source": [
    "## Code for finding all files in a folder\n"
   ]
  },
  {
   "cell_type": "code",
   "execution_count": null,
   "id": "2b7cd9df",
   "metadata": {},
   "outputs": [],
   "source": [
    "#load NWIS State Keys\n",
    "#load dictionary\n",
    "NWIS_State_Dict = pickle.load(open(cwd+'/Streamflow_App/NWIS_state_keys.pkl', 'rb'))\n",
    "NWIS_State_Dict"
   ]
  },
  {
   "cell_type": "code",
   "execution_count": 87,
   "id": "cb59c553",
   "metadata": {
    "scrolled": true
   },
   "outputs": [
    {
     "name": "stderr",
     "output_type": "stream",
     "text": [
      "  0% |                                                                        |\r"
     ]
    },
    {
     "name": "stdout",
     "output_type": "stream",
     "text": [
      "NWIS_sites_al.h5\n"
     ]
    },
    {
     "name": "stderr",
     "output_type": "stream",
     "text": [
      "100% |########################################################################|\r"
     ]
    },
    {
     "name": "stdout",
     "output_type": "stream",
     "text": [
      "The item ID is 1182375176391 and the item name is NWIS_02469761\n",
      "The item ID is 1182374635943 and the item name is NWIS_02479945\n",
      "The item ID is 1182374151370 and the item name is NWIS_02466030\n",
      "The item ID is 1182374222854 and the item name is NWIS_02465493\n",
      "The item ID is 1182374400199 and the item name is NWIS_02455185\n",
      "The item ID is 1182374318415 and the item name is NWIS_02454055\n",
      "The item ID is 1182371653121 and the item name is NWIS_02453500\n",
      "The item ID is 1182374241909 and the item name is NWIS_02453000\n",
      "The item ID is 1182374026579 and the item name is NWIS_02438000\n",
      "The item ID is 1182374960366 and the item name is NWIS_02423500\n",
      "The item ID is 1182375055663 and the item name is NWIS_02425000\n",
      "The item ID is 1182374624183 and the item name is NWIS_02423425\n",
      "The item ID is 1182374297872 and the item name is NWIS_02418760\n",
      "The item ID is 1182370687925 and the item name is NWIS_02413300\n",
      "The item ID is 1182375149039 and the item name is NWIS_03592500\n",
      "The item ID is 1182365328018 and the item name is NWIS_02406500\n",
      "The item ID is 1182370544335 and the item name is NWIS_02401895\n",
      "The item ID is 1182374038665 and the item name is NWIS_02458600\n",
      "The item ID is 1182370699917 and the item name is NWIS_02457595\n",
      "The item ID is 1182373803306 and the item name is NWIS_02397530\n",
      "The item ID is 1182375519028 and the item name is NWIS_02364500\n",
      "The item ID is 1182373884996 and the item name is NWIS_02375000\n",
      "The item ID is 1182373663249 and the item name is NWIS_02374500\n",
      "The item ID is 1182375386422 and the item name is NWIS_02450000\n",
      "The item ID is 1182373315670 and the item name is NWIS_02361500\n",
      "The item ID is 1182374021086 and the item name is NWIS_02450825\n",
      "The item ID is 1182374198958 and the item name is NWIS_02428400\n",
      "The item ID is 1182374156261 and the item name is NWIS_02419000\n",
      "The item ID is 1182372907985 and the item name is NWIS_02423130\n",
      "The item ID is 1182375958568 and the item name is NWIS_02415000\n",
      "The item ID is 1182373582546 and the item name is NWIS_02378500\n",
      "The item ID is 1182371444128 and the item name is NWIS_02374250\n",
      "The item ID is 1182376284384 and the item name is NWIS_03576250\n",
      "The item ID is 1182375304940 and the item name is NWIS_03586500\n",
      "The item ID is 1182374525897 and the item name is NWIS_02471001\n",
      "The item ID is 1182374576165 and the item name is NWIS_02465000\n",
      "The item ID is 1182374340135 and the item name is NWIS_02458148\n",
      "The item ID is 1182374688755 and the item name is NWIS_02447025\n",
      "The item ID is 1182372307780 and the item name is NWIS_02423630\n",
      "The item ID is 1182373977924 and the item name is NWIS_02423380\n",
      "The item ID is 1182375634605 and the item name is NWIS_02423400\n",
      "The item ID is 1182365436356 and the item name is NWIS_02423397\n",
      "The item ID is 1182373503370 and the item name is NWIS_02406930\n",
      "The item ID is 1182375231427 and the item name is NWIS_02400100\n",
      "The item ID is 1182374158402 and the item name is NWIS_02400680\n",
      "The item ID is 1182375716295 and the item name is NWIS_02401000\n",
      "The item ID is 1182374285477 and the item name is NWIS_02398300\n",
      "The item ID is 1182374112731 and the item name is NWIS_02373000\n",
      "The item ID is 1182375480389 and the item name is NWIS_02372422\n",
      "The item ID is 1182373503185 and the item name is NWIS_03574500\n",
      "The item ID is 1182376409478 and the item name is NWIS_02465292\n",
      "The item ID is 1182375358266 and the item name is NWIS_02467500\n",
      "The item ID is 1182375233807 and the item name is NWIS_03576500\n",
      "The item ID is 1182374446493 and the item name is NWIS_02464000\n",
      "The item ID is 1182374464892 and the item name is NWIS_03572690\n",
      "The item ID is 1182365233056 and the item name is NWIS_02469800\n",
      "The item ID is 1182374859077 and the item name is NWIS_02456500\n",
      "The item ID is 1182374782672 and the item name is NWIS_02467000\n",
      "The item ID is 1182374841740 and the item name is NWIS_02450180\n",
      "The item ID is 1182369692317 and the item name is NWIS_02462000\n",
      "The item ID is 1182374868106 and the item name is NWIS_02448900\n",
      "The item ID is 1182375838349 and the item name is NWIS_02449882\n",
      "The item ID is 1182365081856 and the item name is NWIS_02423555\n",
      "The item ID is 1182370968487 and the item name is NWIS_02446500\n",
      "The item ID is 1182373997398 and the item name is NWIS_02423160\n",
      "The item ID is 1182372843185 and the item name is NWIS_02414500\n",
      "The item ID is 1182374438717 and the item name is NWIS_02423496\n",
      "The item ID is 1182375888968 and the item name is NWIS_02407514\n",
      "The item ID is 1182373966198 and the item name is NWIS_02421000\n",
      "The item ID is 1182373767292 and the item name is NWIS_02405500\n",
      "The item ID is 1182375586738 and the item name is NWIS_02372430\n",
      "The item ID is 1182371060321 and the item name is NWIS_02377570\n",
      "The item ID is 1182370839012 and the item name is NWIS_02374700\n",
      "The item ID is 1182373750526 and the item name is NWIS_02371500\n",
      "The item ID is 1182374834731 and the item name is NWIS_03590000\n",
      "The item ID is 1182365497112 and the item name is NWIS_02480002\n",
      "The item ID is 1182375027157 and the item name is NWIS_03574100\n",
      "The item ID is 1182375048794 and the item name is NWIS_03575100\n",
      "The item ID is 1182372727780 and the item name is NWIS_02470072\n",
      "The item ID is 1182372867132 and the item name is NWIS_02458502\n",
      "The item ID is 1182374177785 and the item name is NWIS_02449838\n",
      "The item ID is 1182374079475 and the item name is NWIS_02424000\n",
      "The item ID is 1182374371245 and the item name is NWIS_02423414\n",
      "The item ID is 1182373352054 and the item name is NWIS_02418230\n",
      "The item ID is 1182371155374 and the item name is NWIS_02411930\n",
      "The item ID is 1182375497722 and the item name is NWIS_02412000\n",
      "The item ID is 1182374565981 and the item name is NWIS_02408150\n",
      "The item ID is 1182370450663 and the item name is NWIS_02374950\n",
      "The item ID is 1182373620957 and the item name is NWIS_02372250\n",
      "The item ID is 1182370760397 and the item name is NWIS_02362240\n",
      "The item ID is 1182373172037 and the item name is NWIS_02361000\n",
      "The item ID is 1182370287125 and the item name is NWIS_02339495\n",
      "The item ID is 1182375591260 and the item name is NWIS_02479980\n",
      "The item ID is 1182375810527 and the item name is NWIS_02471078\n",
      "The item ID is 1182376253420 and the item name is NWIS_02458190\n",
      "The item ID is 1182375837887 and the item name is NWIS_02458300\n",
      "The item ID is 1182374897662 and the item name is NWIS_02461500\n",
      "The item ID is 1182371806423 and the item name is NWIS_02455980\n",
      "The item ID is 1182374729594 and the item name is NWIS_02455000\n",
      "The item ID is 1182373860150 and the item name is NWIS_02444160\n",
      "The item ID is 1182370493517 and the item name is NWIS_02427250\n",
      "The item ID is 1182374974460 and the item name is NWIS_02422500\n",
      "The item ID is 1182373786572 and the item name is NWIS_02414715\n",
      "The item ID is 1182373397279 and the item name is NWIS_02404400\n",
      "The item ID is 1182375377549 and the item name is NWIS_02399200\n",
      "The item ID is 1182374054416 and the item name is NWIS_02378300\n",
      "The item ID is 1182374983540 and the item name is NWIS_02378170\n",
      "The item ID is 1182373997273 and the item name is NWIS_02342500\n",
      "The item ID is 1182374609576 and the item name is NWIS_03575830\n",
      "The item ID is 1182366314622 and the item name is NWIS_03577225\n",
      "The item ID is 1182374187594 and the item name is NWIS_02450250\n",
      "The item ID is 1182374796793 and the item name is NWIS_02448500\n",
      "The item ID is 1182373934712 and the item name is NWIS_02419890\n",
      "The item ID is 1182374300341 and the item name is NWIS_02408540\n",
      "The item ID is 1182370940208 and the item name is NWIS_02401390\n",
      "The item ID is 1182374549229 and the item name is NWIS_02374745\n",
      "The item ID is 1182374042957 and the item name is NWIS_02369800\n",
      "The item ID is 1182374146511 and the item name is NWIS_02363000\n"
     ]
    },
    {
     "name": "stderr",
     "output_type": "stream",
     "text": [
      "\n"
     ]
    }
   ],
   "source": [
    "r_dict = {}\n",
    "pbar = ProgressBar()\n",
    "#for key in pbar(state_dictionary.keys()):\n",
    "#s = ['NWIS_sites_al.h5']\n",
    "folder_id = \n",
    "for key in pbar(s):\n",
    "    print(key)\n",
    "    #streamstats_folder_id =  state_dictionary[key]#Folder_Dictionary['NWIS_sites_ar.h5'] # '201963057861'\n",
    "    streamstats_folder_id =  NWIS_State_Dict[key]#Folder_Dictionary['NWIS_sites_ar.h5'] # '201963057861'\n",
    "    folder = client.folder(streamstats_folder_id)\n",
    "        #reach = 'NWIS_BoxSDK_test_02364500.csv'\n",
    "    results = client.search().query(query = '.csv', limit=200, file_extensions=['csv'], ancestor_folders=[folder])\n",
    "    for result in results:\n",
    "        name = result.name[:-4]\n",
    "        r_dict[name] = result.id\n",
    "        print(f'The item ID is {result.id} and the item name is {name}')"
   ]
  },
  {
   "cell_type": "code",
   "execution_count": 93,
   "id": "831a7a8f",
   "metadata": {},
   "outputs": [
    {
     "name": "stdout",
     "output_type": "stream",
     "text": [
      "The item ID is 1056174272228 and the item name is StreamStats_sc.csv\n",
      "The item ID is 1056175532301 and the item name is StreamStats_il.csv\n",
      "The item ID is 1056173858702 and the item name is StreamStats_al.csv\n",
      "The item ID is 1056173693016 and the item name is StreamStats_ne.csv\n",
      "The item ID is 1056176784633 and the item name is StreamStats_pa.csv\n",
      "The item ID is 1056176223313 and the item name is StreamStats_wi.csv\n",
      "The item ID is 1056174471062 and the item name is StreamStats_in.csv\n",
      "The item ID is 1056173143734 and the item name is StreamStats_md.csv\n",
      "The item ID is 1056184853848 and the item name is StreamStats_va.csv\n",
      "The item ID is 1056146119429 and the item name is StreamStats_ca.csv\n",
      "The item ID is 1056147615371 and the item name is StreamStats_ny.csv\n",
      "The item ID is 1056142696872 and the item name is StreamStats_la.csv\n",
      "The item ID is 1056145384846 and the item name is StreamStats_wi.csv\n",
      "The item ID is 1056151144857 and the item name is StreamStats_nj.csv\n",
      "The item ID is 1056150754227 and the item name is StreamStats_id.csv\n",
      "The item ID is 1056147368168 and the item name is StreamStats_az.csv\n",
      "The item ID is 1056144912821 and the item name is StreamStats_ok.csv\n",
      "The item ID is 1056144278542 and the item name is StreamStats_ri.csv\n",
      "The item ID is 1056154966195 and the item name is StreamStats_tn.csv\n",
      "The item ID is 1056142582572 and the item name is StreamStats_fl.csv\n",
      "The item ID is 1056145233680 and the item name is StreamStats_ms.csv\n",
      "The item ID is 1056145718943 and the item name is StreamStats_wv.csv\n",
      "The item ID is 1056149374166 and the item name is StreamStats_mn.csv\n",
      "The item ID is 1056144382535 and the item name is StreamStats_ne.csv\n",
      "The item ID is 1056154236504 and the item name is StreamStats_in.csv\n",
      "The item ID is 1056180329830 and the item name is StreamStats_me.csv\n",
      "The item ID is 1056178809944 and the item name is StreamStats_ky.csv\n",
      "The item ID is 1056183391368 and the item name is StreamStats_ks.csv\n",
      "The item ID is 1056154666361 and the item name is StreamStats_mo.csv\n",
      "The item ID is 1056145005783 and the item name is StreamStats_ky.csv\n",
      "The item ID is 1056142761672 and the item name is StreamStats_mt.csv\n",
      "The item ID is 1056184397206 and the item name is StreamStats_wv.csv\n",
      "The item ID is 1056173856199 and the item name is StreamStats_ms.csv\n",
      "The item ID is 1056172903273 and the item name is StreamStats_ar.csv\n",
      "The item ID is 1056148582741 and the item name is StreamStats_pa.csv\n",
      "The item ID is 1056142873023 and the item name is StreamStats_wy.csv\n",
      "The item ID is 1056154839271 and the item name is StreamStats_de.csv\n",
      "The item ID is 1056154754843 and the item name is StreamStats_co.csv\n",
      "The item ID is 1048553062372 and the item name is StreamStats_wa.csv\n",
      "The item ID is 1048546255660 and the item name is StreamStats_oh.csv\n",
      "The item ID is 1048552245699 and the item name is StreamStats_az.csv\n",
      "The item ID is 1048553681830 and the item name is StreamStats_ma.csv\n",
      "The item ID is 1048549049167 and the item name is StreamStats_la.csv\n",
      "The item ID is 1048544973990 and the item name is StreamStats_hi.csv\n",
      "The item ID is 1048548178388 and the item name is StreamStats_mn.csv\n",
      "The item ID is 1048557549857 and the item name is StreamStats_co.csv\n",
      "The item ID is 1048546126423 and the item name is StreamStats_nm.csv\n",
      "The item ID is 1048544597005 and the item name is StreamStats_ia.csv\n",
      "The item ID is 1048551254874 and the item name is StreamStats_ok.csv\n",
      "The item ID is 1048346293087 and the item name is StreamStats_wy.csv\n",
      "The item ID is 1056174367491 and the item name is StreamStats_ma.csv\n",
      "The item ID is 1056174127418 and the item name is StreamStats_fl.csv\n",
      "The item ID is 1056183293029 and the item name is StreamStats_nd.csv\n",
      "The item ID is 1056184125646 and the item name is StreamStats_ri.csv\n",
      "The item ID is 1056176253749 and the item name is StreamStats_hi.csv\n",
      "The item ID is 1056175426581 and the item name is StreamStats_tx.csv\n",
      "The item ID is 1056180216282 and the item name is StreamStats_nc.csv\n",
      "The item ID is 1056181191183 and the item name is StreamStats_tn.csv\n",
      "The item ID is 1056142322372 and the item name is StreamStats_ma.csv\n",
      "The item ID is 1056150723027 and the item name is StreamStats_ga.csv\n",
      "The item ID is 1056149194279 and the item name is StreamStats_ak.csv\n",
      "The item ID is 1056150514048 and the item name is StreamStats_hi.csv\n",
      "The item ID is 1048550396366 and the item name is StreamStats_or.csv\n",
      "The item ID is 1048552253265 and the item name is StreamStats_fl.csv\n",
      "The item ID is 1048549562438 and the item name is StreamStats_nd.csv\n",
      "The item ID is 1048557318073 and the item name is StreamStats_md.csv\n",
      "The item ID is 1048547828068 and the item name is StreamStats_va.csv\n",
      "The item ID is 1048544307154 and the item name is StreamStats_in.csv\n",
      "The item ID is 1048557072604 and the item name is StreamStats_ga.csv\n",
      "The item ID is 1048550662792 and the item name is StreamStats_ct.csv\n",
      "The item ID is 1048511947545 and the item name is StreamStats_ri.csv\n",
      "The item ID is 1048550282483 and the item name is StreamStats_dc.csv\n",
      "The item ID is 1048557132251 and the item name is StreamStats_nc.csv\n",
      "The item ID is 1048546500022 and the item name is StreamStats_ar.csv\n",
      "The item ID is 1048555882688 and the item name is StreamStats_nj.csv\n",
      "The item ID is 1056182131238 and the item name is StreamStats_mn.csv\n",
      "The item ID is 1056183468738 and the item name is StreamStats_ga.csv\n",
      "The item ID is 1056164923423 and the item name is StreamStats_oh.csv\n",
      "The item ID is 1056175366581 and the item name is StreamStats_de.csv\n",
      "The item ID is 1056150019736 and the item name is StreamStats_nm.csv\n",
      "The item ID is 1056143467792 and the item name is StreamStats_wa.csv\n",
      "The item ID is 1056152830330 and the item name is StreamStats_nc.csv\n",
      "The item ID is 1056153001100 and the item name is StreamStats_va.csv\n",
      "The item ID is 1056142414024 and the item name is StreamStats_nd.csv\n",
      "The item ID is 1056150881884 and the item name is StreamStats_me.csv\n",
      "The item ID is 1056147399368 and the item name is StreamStats_ar.csv\n",
      "The item ID is 1048549471011 and the item name is StreamStats_me.csv\n",
      "The item ID is 1048557694019 and the item name is StreamStats_sc.csv\n",
      "The item ID is 1048556943546 and the item name is StreamStats_ak.csv\n",
      "The item ID is 1048553912212 and the item name is StreamStats_mi.csv\n",
      "The item ID is 1048553373777 and the item name is StreamStats_ny.csv\n",
      "The item ID is 1048547522585 and the item name is StreamStats_mo.csv\n",
      "The item ID is 1048547945447 and the item name is StreamStats_ms.csv\n",
      "The item ID is 1048552920551 and the item name is StreamStats_id.csv\n",
      "The item ID is 1056173309004 and the item name is StreamStats_co.csv\n",
      "The item ID is 1056174953697 and the item name is StreamStats_nj.csv\n",
      "The item ID is 1056184750571 and the item name is StreamStats_ok.csv\n",
      "The item ID is 1056178879590 and the item name is StreamStats_ny.csv\n",
      "The item ID is 1056184229983 and the item name is StreamStats_la.csv\n",
      "The item ID is 1056143784039 and the item name is StreamStats_tx.csv\n",
      "The item ID is 1056151320863 and the item name is StreamStats_ut.csv\n",
      "The item ID is 1056149357540 and the item name is StreamStats_ct.csv\n",
      "The item ID is 1056150939334 and the item name is StreamStats_al.csv\n",
      "The item ID is 1056143784039 and the item name is StreamStats_tx.csv\n",
      "The item ID is 1056144636763 and the item name is StreamStats_nv.csv\n",
      "The item ID is 1056146062216 and the item name is StreamStats_dc.csv\n",
      "The item ID is 1048550359492 and the item name is StreamStats_ne.csv\n",
      "The item ID is 1048546520373 and the item name is StreamStats_wy.csv\n",
      "The item ID is 1048555065710 and the item name is StreamStats_il.csv\n",
      "The item ID is 1048552819701 and the item name is StreamStats_ut.csv\n",
      "The item ID is 1048557324525 and the item name is StreamStats_de.csv\n",
      "The item ID is 1048557490690 and the item name is StreamStats_wi.csv\n",
      "The item ID is 1009637023824 and the item name is StreamStats_ca.csv\n",
      "The item ID is 1010862753998 and the item name is StreamStats_az.csv\n",
      "The item ID is 1010437694784 and the item name is StreamStats_mt.csv\n",
      "The item ID is 1010073015589 and the item name is StreamStats_wa.csv\n",
      "The item ID is 1011036808954 and the item name is StreamStats_nm.csv\n",
      "The item ID is 1009974999423 and the item name is StreamStats_id.csv\n",
      "The item ID is 1008816751400 and the item name is StreamStats_ut.csv\n",
      "The item ID is 1056176393778 and the item name is StreamStats_dc.csv\n",
      "The item ID is 1056179189790 and the item name is StreamStats_mi.csv\n",
      "The item ID is 1056184253908 and the item name is StreamStats_ct.csv\n",
      "The item ID is 1056182041019 and the item name is StreamStats_mo.csv\n",
      "The item ID is 1056143438870 and the item name is StreamStats_or.csv\n",
      "The item ID is 1056152837530 and the item name is StreamStats_md.csv\n",
      "The item ID is 1056152304286 and the item name is StreamStats_sc.csv\n",
      "The item ID is 1056145824959 and the item name is StreamStats_oh.csv\n",
      "The item ID is 1056145956725 and the item name is StreamStats_il.csv\n",
      "The item ID is 1056142539600 and the item name is StreamStats_mi.csv\n",
      "The item ID is 1010178668361 and the item name is StreamStats_or.csv\n",
      "The item ID is 1048556921386 and the item name is StreamStats_nv.csv\n",
      "The item ID is 1048550871073 and the item name is StreamStats_tn.csv\n",
      "The item ID is 1048546289263 and the item name is StreamStats_ky.csv\n",
      "The item ID is 1048551602595 and the item name is StreamStats_ks.csv\n",
      "The item ID is 1048557538694 and the item name is StreamStats_al.csv\n",
      "The item ID is 1048546358960 and the item name is StreamStats_wv.csv\n",
      "The item ID is 1048548776245 and the item name is StreamStats_tx.csv\n",
      "The item ID is 1048545005313 and the item name is StreamStats_ca.csv\n",
      "The item ID is 1048552519871 and the item name is StreamStats_pa.csv\n",
      "The item ID is 1011285417869 and the item name is StreamStats_wy.csv\n",
      "The item ID is 1182222430529 and the item name is StreamStats.csv\n",
      "The item ID is 1009330311398 and the item name is StreamStats_nv.csv\n",
      "The item ID is 1182325029983 and the item name is Streamstats.csv\n",
      "The item ID is 1179309788063 and the item name is StreamStats.csv\n",
      "The item ID is 1182217714685 and the item name is StreamStats.csv\n",
      "The item ID is 1056142524147 and the item name is StreamStats_az-checkpoint.csv\n",
      "The item ID is 1056151371031 and the item name is StreamStats_ks-checkpoint.csv\n",
      "The item ID is 1077618732666 and the item name is StreamStats.csv\n",
      "The item ID is 1002792075938 and the item name is State_NWIS_StreamStats_ut.csv\n"
     ]
    }
   ],
   "source": [
    "#streamstats_folder_id =  'Streamflow_App'#Folder_Dictionary['NWIS_sites_ar.h5'] # '201963057861'\n",
    "#folder = client.folder(streamstats_folder_id)\n",
    "    #reach = 'NWIS_BoxSDK_test_02364500.csv'\n",
    "results = client.search().query(query = 'Streamstats', limit=100, file_extensions=['csv'])#, ancestor_folders=[folder])\n",
    "for result in results:\n",
    "    name = result.name\n",
    "    #r_dict[name] = result.id\n",
    "    print(f'The item ID is {result.id} and the item name is {name}')"
   ]
  },
  {
   "cell_type": "markdown",
   "id": "b274f043",
   "metadata": {},
   "source": [
    "# Code for extracting data from boxsdk api\n"
   ]
  },
  {
   "cell_type": "code",
   "execution_count": 6,
   "id": "0d4d6a4f",
   "metadata": {},
   "outputs": [
    {
     "data": {
      "text/plain": [
       "{'NWM_789206': '1183265937780',\n",
       " 'NWM_3296804': '1183231862880',\n",
       " 'NWM_22274612': '1183266127472',\n",
       " 'NWM_22206103': '1183266073186',\n",
       " 'NWM_22203349': '1183264989758',\n",
       " 'NWM_22038591': '1183266504340',\n",
       " 'NWM_2189757': '1183272017729',\n",
       " 'NWM_21712732': '1183265578147',\n",
       " 'NWM_21661814': '1183264957097',\n",
       " 'NWM_21655740': '1183265252320',\n",
       " 'NWM_19621426': '1183334654887',\n",
       " 'NWM_18634030': '1183265249673',\n",
       " 'NWM_933140017': '1183265926480',\n",
       " 'NWM_18566179': '1183266843936',\n",
       " 'NWM_18566317': '1183264467049',\n",
       " 'NWM_18523647': '1183264810741',\n",
       " 'NWM_18229157': '1183265673998',\n",
       " 'NWM_18215736': '1183273851420',\n",
       " 'NWM_166759201': '1183263900199',\n",
       " 'NWM_15823141': '1183264865131',\n",
       " 'NWM_15810691': '1183231598622',\n",
       " 'NWM_18225427': '1183231181063',\n",
       " 'NWM_10854075': '1183264377621',\n",
       " 'NWM_18094191': '1183253534832',\n",
       " 'NWM_18094345': '1183270236060',\n",
       " 'NWM_446386': '1183274352134',\n",
       " 'NWM_2413994': '1183264927486',\n",
       " 'NWM_22274808': '1183272331851',\n",
       " 'NWM_22271288': '1183266031758',\n",
       " 'NWM_22204871': '1183267539378',\n",
       " 'NWM_2188031': '1183265870416',\n",
       " 'NWM_21717690': '1183266058600',\n",
       " 'NWM_21655896': '1183265345229',\n",
       " 'NWM_21655568': '1183265943325',\n",
       " 'NWM_21654312': '1183264672858',\n",
       " 'NWM_21654166': '1183266314798',\n",
       " 'NWM_18566335': '1183230369956',\n",
       " 'NWM_18563487': '1183270430868',\n",
       " 'NWM_18239649': '1183264453124',\n",
       " 'NWM_15811667': '1183265047943',\n",
       " 'NWM_445834': '1183265170299',\n",
       " 'NWM_2413254': '1183266394286',\n",
       " 'NWM_2378189': '1183265374752',\n",
       " 'NWM_2377281': '1183266154499',\n",
       " 'NWM_22201495': '1183271544536',\n",
       " 'NWM_3435970': '1183265776898',\n",
       " 'NWM_2188549': '1183265237692',\n",
       " 'NWM_2402121': '1183242136942',\n",
       " 'NWM_21676818': '1183264954455',\n",
       " 'NWM_21654200': '1183265386393',\n",
       " 'NWM_21638314': '1183264635201',\n",
       " 'NWM_19647854': '1183328853808',\n",
       " 'NWM_21719268': '1183271013613',\n",
       " 'NWM_2171465': '1183231894260',\n",
       " 'NWM_21712124': '1183265792183',\n",
       " 'NWM_19619792': '1183253734032',\n",
       " 'NWM_19567882': '1183266158577',\n",
       " 'NWM_18592074': '1183265540096',\n",
       " 'NWM_21655412': '1183267056697',\n",
       " 'NWM_21655328': '1183264430553',\n",
       " 'NWM_19626108': '1183271909744',\n",
       " 'NWM_19621374': '1183264876959',\n",
       " 'NWM_19621386': '1183329829173',\n",
       " 'NWM_18565189': '1183264119281',\n",
       " 'NWM_19581347': '1183264358752',\n",
       " 'NWM_18590788': '1183270546228',\n",
       " 'NWM_18588844': '1183270284749',\n",
       " 'NWM_18566201': '1183264781083',\n",
       " 'NWM_18540822': '1183264096916',\n",
       " 'NWM_18515610': '1183263953865',\n",
       " 'NWM_18514402': '1183265264033',\n",
       " 'NWM_2378929': '1183265563549',\n",
       " 'NWM_22206629': '1183273227307',\n",
       " 'NWM_22198487': '1183265928870',\n",
       " 'NWM_2210130': '1183265056952',\n",
       " 'NWM_22042575': '1183265285772',\n",
       " 'NWM_22035157': '1183265719674',\n",
       " 'NWM_2413350': '1183271561621',\n",
       " 'NWM_21655464': '1183265072172',\n",
       " 'NWM_19621328': '1183329173106',\n",
       " 'NWM_2323396': '1183266871306',\n",
       " 'NWM_18591758': '1183265432111',\n",
       " 'NWM_21640642': '1183266830563',\n",
       " 'NWM_18566197': '1183264628196',\n",
       " 'NWM_2214110': '1183274112134',\n",
       " 'NWM_21457950': '1183266092271',\n",
       " 'NWM_18566081': '1183265246879',\n",
       " 'NWM_19618866': '1183334576335',\n",
       " 'NWM_19581387': '1183264954685',\n",
       " 'NWM_18604744': '1183265544686',\n",
       " 'NWM_18604196': '1183264860672',\n",
       " 'NWM_21656498': '1183264831573',\n",
       " 'NWM_18206880': '1183264240825',\n",
       " 'NWM_18095029': '1183263747492',\n",
       " 'NWM_18531726': '1183265992850',\n",
       " 'NWM_18208346': '1183265369740',\n",
       " 'NWM_18588458': '1183265038725',\n",
       " 'NWM_18578829': '1183269672302',\n",
       " 'NWM_18566151': '1183265897749',\n",
       " 'NWM_18565735': '1183265016952',\n",
       " 'NWM_18516128': '1183269835560',\n",
       " 'NWM_18229143': '1183263739353',\n",
       " 'NWM_15810649': '1183284161202',\n",
       " 'NWM_22271988': '1183271188961',\n",
       " 'NWM_22200595': '1183266266639',\n",
       " 'NWM_21682252': '1183265383357',\n",
       " 'NWM_21662336': '1183270291584',\n",
       " 'NWM_21655350': '1183270587141',\n",
       " 'NWM_18670534': '1183264875264',\n",
       " 'NWM_18631042': '1183264952320',\n",
       " 'NWM_18591938': '1183270107537',\n",
       " 'NWM_18590656': '1183266322135',\n",
       " 'NWM_18579837': '1183268768005',\n",
       " 'NWM_18548516': '1183264605649',\n",
       " 'NWM_18229923': '1183269773842',\n",
       " 'NWM_15823427': '1183264428757',\n",
       " 'NWM_15822929': '1183264591528',\n",
       " 'NWM_15822925': '1183229885062',\n",
       " 'NWM_9544237': '1183269056178',\n",
       " 'NWM_9273022': '1183267459757',\n",
       " 'NWM_8586784': '1183272897694',\n",
       " 'NWM_7830338': '1183272447275',\n",
       " 'NWM_7817578': '1183267106895',\n",
       " 'NWM_7817394': '1183266389499',\n",
       " 'NWM_7787118': '1183272389503',\n",
       " 'NWM_7561723': '1183267889978',\n",
       " 'NWM_7561625': '1183265869148',\n",
       " 'NWM_7559729': '1183274324397',\n",
       " 'NWM_7474830': '1183335919388',\n",
       " 'NWM_400822': '1183326648238',\n",
       " 'NWM_398478': '1183253933884',\n",
       " 'NWM_397814': '1183266079552',\n",
       " 'NWM_3672682': '1183266158754',\n",
       " 'NWM_22848029': '1183266271803',\n",
       " 'NWM_22860477': '1183272756487',\n",
       " 'NWM_11834118': '1183272185995',\n",
       " 'NWM_15234772': '1183267051928',\n",
       " 'NWM_21950596': '1183271489070',\n",
       " 'NWM_22846155': '1183266221315',\n",
       " 'NWM_11818809': '1183267164956',\n",
       " 'NWM_11819355': '1183245163482',\n",
       " 'NWM_21813112': '1183271770220',\n",
       " 'NWM_15233768': '1183266771233',\n",
       " 'NWM_11818755': '1183271180350',\n",
       " 'NWM_11799733': '1183272735041',\n",
       " 'NWM_8588002': '1183267419142',\n",
       " 'NWM_7752938': '1183268784978',\n",
       " 'NWM_7549123': '1183267179383',\n",
       " 'NWM_6048196': '1183321217273',\n",
       " 'NWM_22864529': '1183266175358',\n",
       " 'NWM_25189323': '1183265393474',\n",
       " 'NWM_21928243': '1183274304730',\n",
       " 'NWM_19470295': '1183266178674',\n",
       " 'NWM_1539671': '1183321109225',\n",
       " 'NWM_11830684': '1183265845151',\n",
       " 'NWM_11802423': '1183266305896',\n",
       " 'NWM_9278434': '1183270179078',\n",
       " 'NWM_8590430': '1183272444635',\n",
       " 'NWM_7769385': '1183274124980',\n",
       " 'NWM_7766271': '1183267085838',\n",
       " 'NWM_7752590': '1183267474496',\n",
       " 'NWM_6041516': '1183266999142',\n",
       " 'NWM_399500': '1183272490035',\n",
       " 'NWM_7803109': '1183272358519',\n",
       " 'NWM_398128': '1183268360188',\n",
       " 'NWM_7672652': '1183271767584',\n",
       " 'NWM_21999712': '1183266111552',\n",
       " 'NWM_21920889': '1183266394462',\n",
       " 'NWM_19950146': '1183299970710',\n",
       " 'NWM_3748876': '1183274050797',\n",
       " 'NWM_19345441': '1183266015000',\n",
       " 'NWM_1543497': '1183319980906',\n",
       " 'NWM_22699700': '1183266204627',\n",
       " 'NWM_14320639': '1183266389347',\n",
       " 'NWM_22000700': '1183266036309',\n",
       " 'NWM_21956120': '1183265960081',\n",
       " 'NWM_21926169': '1183272886529',\n",
       " 'NWM_11816879': '1183246447256',\n",
       " 'NWM_21771041': '1183320250491',\n",
       " 'NWM_19473063': '1183267787650',\n",
       " 'NWM_11798549': '1183265757958',\n",
       " 'NWM_11830560': '1183272602788',\n",
       " 'NWM_11817935': '1183271290738',\n",
       " 'NWM_11779377': '1183267524163',\n",
       " 'NWM_8586574': '1183267891305',\n",
       " 'NWM_7803469': '1183267608925',\n",
       " 'NWM_7561621': '1183270222243',\n",
       " 'NWM_938020696': '1183268245153',\n",
       " 'NWM_9273030': '1183273718792',\n",
       " 'NWM_397590': '1183320621924',\n",
       " 'NWM_7573907': '1183272908208',\n",
       " 'NWM_22846795': '1183268086266',\n",
       " 'NWM_7551125': '1183267690671',\n",
       " 'NWM_7548159': '1183266602803',\n",
       " 'NWM_8590894': '1183272796988',\n",
       " 'NWM_7835620': '1183273620388',\n",
       " 'NWM_7770981': '1183271837813',\n",
       " 'NWM_1543899': '1183266010062',\n",
       " 'NWM_1539341': '1183321801027',\n",
       " 'NWM_7628072': '1183268179698',\n",
       " 'NWM_22846153': '1183266281367',\n",
       " 'NWM_7560625': '1183265918777',\n",
       " 'NWM_399452': '1183320585719',\n",
       " 'NWM_21770953': '1183320816756',\n",
       " 'NWM_11777215': '1183266233896',\n",
       " 'NWM_397364': '1183272367635',\n",
       " 'NWM_3750770': '1183266821458',\n",
       " 'NWM_15233884': '1183267378061',\n",
       " 'NWM_11816353': '1183265832403',\n",
       " 'NWM_11778001': '1183271277989',\n",
       " 'NWM_19469497': '1183265433753',\n",
       " 'NWM_11816741': '1183266084504',\n",
       " 'NWM_11777113': '1183265726803',\n",
       " 'NWM_7753306': '1183273498170',\n",
       " 'NWM_398430': '1183320662957',\n",
       " 'NWM_397506': '1183266607785',\n",
       " 'NWM_3746094': '1183274045306',\n",
       " 'NWM_22698054': '1183266600860',\n",
       " 'NWM_21921793': '1183272897988',\n",
       " 'NWM_21919761': '1183266761259',\n",
       " 'NWM_19302981': '1183266720230',\n",
       " 'NWM_1540035': '1183319816272',\n",
       " 'NWM_948070372': '1183277204021',\n",
       " 'NWM_948060250': '1183271697610',\n",
       " 'NWM_948060170': '1183271875245',\n",
       " 'NWM_948060325': '1183271590029',\n",
       " 'NWM_948050091': '1183276645037',\n",
       " 'NWM_946050152': '1183315272756',\n",
       " 'NWM_8933876': '1183315203510',\n",
       " 'NWM_8933684': '1183320562016',\n",
       " 'NWM_8320019': '1183272201775',\n",
       " 'NWM_8287590': '1183272074904',\n",
       " 'NWM_8273161': '1183271165458',\n",
       " 'NWM_8272363': '1183270714442',\n",
       " 'NWM_8246406': '1183269672353',\n",
       " 'NWM_8246426': '1183270339558',\n",
       " 'NWM_8269091': '1183275939437',\n",
       " 'NWM_8245886': '1183270577920',\n",
       " 'NWM_2829226': '1183270044098',\n",
       " 'NWM_8212843': '1183270135267',\n",
       " 'NWM_8210533': '1183270774342',\n",
       " 'NWM_8205487': '1183233168330',\n",
       " 'NWM_8015823': '1183278693734',\n",
       " 'NWM_3798909': '1183271081140',\n",
       " 'NWM_8193647': '1183270625692',\n",
       " 'NWM_8200533': '1183270581890',\n",
       " 'NWM_5329621': '1183277972128',\n",
       " 'NWM_2823972': '1183276510544',\n",
       " 'NWM_2806745': '1183271530266',\n",
       " 'NWM_2804621': '1183275290561',\n",
       " 'NWM_2706571': '1183270685304',\n",
       " 'NWM_2704735': '1183269086841',\n",
       " 'NWM_24688709': '1183254549897',\n",
       " 'NWM_22598685': '1183269315485',\n",
       " 'NWM_22593463': '1183269072787',\n",
       " 'NWM_22592131': '1183274938228',\n",
       " 'NWM_22591931': '1183270507885',\n",
       " 'NWM_22557922': '1183269231370',\n",
       " 'NWM_22556372': '1183267798773',\n",
       " 'NWM_22554872': '1183268662489',\n",
       " 'NWM_22549471': '1183275327196',\n",
       " 'NWM_22514774': '1183268261713',\n",
       " 'NWM_21609533': '1183268705680',\n",
       " 'NWM_21412675': '1183269934482',\n",
       " 'NWM_21412615': '1183268155552',\n",
       " 'NWM_20355520': '1183269139472',\n",
       " 'NWM_20350869': '1183231924946',\n",
       " 'NWM_20351631': '1183270587936',\n",
       " 'NWM_20334508': '1183275221744',\n",
       " 'NWM_20333160': '1183274225268',\n",
       " 'NWM_20330878': '1183268175396',\n",
       " 'NWM_20330872': '1183274088732',\n",
       " 'NWM_20247362': '1183314061194',\n",
       " 'NWM_20192498': '1183267990455',\n",
       " 'NWM_17693217': '1183269236271',\n",
       " 'NWM_17688275': '1183269200339',\n",
       " 'NWM_17684378': '1183267860152',\n",
       " 'NWM_17663037': '1183274198634',\n",
       " 'NWM_17624441': '1183268134638',\n",
       " 'NWM_17620568': '1183268741961',\n",
       " 'NWM_17611425': '1183274410619',\n",
       " 'NWM_17611449': '1183267898485',\n",
       " 'NWM_17610919': '1183274480335',\n",
       " 'NWM_17607773': '1183268409736',\n",
       " 'NWM_17607945': '1183275273611',\n",
       " 'NWM_17596109': '1183267776579',\n",
       " 'NWM_17596111': '1183275207261',\n",
       " 'NWM_9998136': '1183274669225',\n",
       " 'NWM_17595453': '1183274504327',\n",
       " 'NWM_17595429': '1183267658683',\n",
       " 'NWM_17585808': '1183268273088',\n",
       " 'NWM_17572335': '1183232959847',\n",
       " 'NWM_948021150': '1183270762723',\n",
       " 'NWM_17081409': '1183268055144',\n",
       " 'NWM_1671509': '1183274249927',\n",
       " 'NWM_1669845': '1183267491119',\n",
       " 'NWM_15022679': '1183272924161',\n",
       " 'NWM_14930711': '1183272417714',\n",
       " 'NWM_14930789': '1183267174668',\n",
       " 'NWM_14917771': '1183273789019',\n",
       " 'NWM_8915935': '1183315932712',\n",
       " 'NWM_14883269': '1183231349094',\n",
       " 'NWM_12068830': '1183267112268',\n",
       " 'NWM_12068798': '1183266670015',\n",
       " 'NWM_10010646': '1183265900373',\n",
       " 'NWM_8315847': '1183253484355',\n",
       " 'NWM_8315607': '1183278319706',\n",
       " 'NWM_8281665': '1183270399286',\n",
       " 'NWM_8244344': '1183248007915',\n",
       " 'NWM_8205489': '1183271832053',\n",
       " 'NWM_8027910': '1183271722135',\n",
       " 'NWM_2827982': '1183269617976',\n",
       " 'NWM_2806865': '1183275955736',\n",
       " 'NWM_2805109': '1183277434785',\n",
       " 'NWM_2804901': '1183269820834',\n",
       " 'NWM_2665613': '1183269365901',\n",
       " 'NWM_2544433': '1183275662634',\n",
       " 'NWM_2495296': '1183269766277',\n",
       " 'NWM_2495212': '1183269987311',\n",
       " 'NWM_22592737': '1183269626944',\n",
       " 'NWM_22555344': '1183274167960',\n",
       " 'NWM_22549075': '1183269732254',\n",
       " 'NWM_22534666': '1183270145261',\n",
       " 'NWM_22532938': '1183268690865',\n",
       " 'NWM_22515762': '1183268887231',\n",
       " 'NWM_21609641': '1183276150422',\n",
       " 'NWM_22226812': '1183268971545',\n",
       " 'NWM_20247386': '1183319654779',\n",
       " 'NWM_19777307': '1183273467160',\n",
       " 'NWM_1897416': '1183269180728',\n",
       " 'NWM_17665649': '1183269113939',\n",
       " 'NWM_17663281': '1183272914784',\n",
       " 'NWM_17625465': '1183268102822',\n",
       " 'NWM_17609015': '1183231520086',\n",
       " 'NWM_17600477': '1183267716892',\n",
       " 'NWM_17599295': '1183267598647',\n",
       " 'NWM_17081559': '1183267582146',\n",
       " 'NWM_14882615': '1183268467830',\n",
       " 'NWM_948020363': '1183270989716',\n",
       " 'NWM_8944453': '1183314686754',\n",
       " 'NWM_8941733': '1183314646049',\n",
       " 'NWM_8934074': '1183314646579',\n",
       " 'NWM_8933706': '1183314883623',\n",
       " 'NWM_8924041': '1183314581871',\n",
       " 'NWM_948020963': '1183277861935',\n",
       " 'NWM_8287256': '1183272405763',\n",
       " 'NWM_8273659': '1183278055812',\n",
       " 'NWM_8933532': '1183313846458',\n",
       " 'NWM_8933494': '1183315939583',\n",
       " 'NWM_8272379': '1183233293037',\n",
       " 'NWM_8922761': '1183271033557',\n",
       " 'NWM_8922717': '1183271436345',\n",
       " 'NWM_8271917': '1183270721920',\n",
       " 'NWM_8922715': '1183314670319',\n",
       " 'NWM_8268521': '1183269485948',\n",
       " 'NWM_8319319': '1183270757601',\n",
       " 'NWM_8316811': '1183250412192',\n",
       " 'NWM_8284190': '1183278996785',\n",
       " 'NWM_8280869': '1183270601785',\n",
       " 'NWM_8212787': '1183277568388',\n",
       " 'NWM_8272605': '1183271335944',\n",
       " 'NWM_8261865': '1183272279097',\n",
       " 'NWM_7952754': '1183255433232',\n",
       " 'NWM_7932045': '1183277998002',\n",
       " 'NWM_4440524': '1183276855328',\n",
       " 'NWM_8205291': '1183276505121',\n",
       " 'NWM_4296241': '1183271573670',\n",
       " 'NWM_8029582': '1183270762265',\n",
       " 'NWM_8020924': '1183277390638',\n",
       " 'NWM_8009213': '1183271718527',\n",
       " 'NWM_8007863': '1183271045054',\n",
       " 'NWM_2806979': '1183270647547',\n",
       " 'NWM_7932193': '1183276342795',\n",
       " 'NWM_5329511': '1183270457531',\n",
       " 'NWM_2806725': '1183269725346',\n",
       " 'NWM_2805115': '1183271765994',\n",
       " 'NWM_3917058': '1183270651902',\n",
       " 'NWM_361671': '1183270396911',\n",
       " 'NWM_2495224': '1183274859199',\n",
       " 'NWM_2806807': '1183276450544',\n",
       " 'NWM_22658651': '1183269883413',\n",
       " 'NWM_2804369': '1183269348110',\n",
       " 'NWM_22563070': '1183270498061',\n",
       " 'NWM_22563116': '1183269698445',\n",
       " 'NWM_22560716': '1183270186739',\n",
       " 'NWM_2496048': '1183276918106',\n",
       " 'NWM_22558244': '1183269574791',\n",
       " 'NWM_22555756': '1183270514050',\n",
       " 'NWM_22599679': '1183276778993',\n",
       " 'NWM_22593497': '1183269031558',\n",
       " 'NWM_22548545': '1183269101523',\n",
       " 'NWM_22534638': '1183274091300',\n",
       " 'NWM_22557914': '1183274542475',\n",
       " 'NWM_22554826': '1183275009778',\n",
       " 'NWM_22548559': '1183268938464',\n",
       " 'NWM_22548441': '1183275773071',\n",
       " 'NWM_20331516': '1183273688242',\n",
       " 'NWM_20247214': '1183319443213',\n",
       " 'NWM_20351605': '1183269008342',\n",
       " 'NWM_20342539': '1183268177601',\n",
       " 'NWM_17684066': '1183268403142',\n",
       " 'NWM_17647991': '1183274971825',\n",
       " 'NWM_19771685': '1183268590552',\n",
       " 'NWM_17695611': '1183268998406',\n",
       " 'NWM_17694137': '1183268573710',\n",
       " 'NWM_17688105': '1183273546738',\n",
       " 'NWM_17567911': '1183266955399',\n",
       " 'NWM_17609017': '1183267731576',\n",
       " 'NWM_15039097': '1183267516980',\n",
       " 'NWM_15033009': '1183267632015',\n",
       " 'NWM_15027105': '1183267431242',\n",
       " 'NWM_8944439': '1183314154324',\n",
       " 'NWM_8933958': '1183319412968',\n",
       " 'NWM_948100389': '1183233559530',\n",
       " 'NWM_8273639': '1183277227229',\n",
       " 'NWM_8273287': '1183276800376',\n",
       " 'NWM_8272725': '1183271040452',\n",
       " 'NWM_8271049': '1183270894741',\n",
       " 'NWM_948100382': '1183272922135',\n",
       " 'NWM_948090919': '1183271489265',\n",
       " 'NWM_8915933': '1183293722797',\n",
       " 'NWM_8245896': '1183233265070',\n",
       " 'NWM_8245172': '1183270642417',\n",
       " 'NWM_8244482': '1183269660195',\n",
       " 'NWM_8232392': '1183271009358',\n",
       " 'NWM_8941693': '1183314298585',\n",
       " 'NWM_8211251': '1183269238274',\n",
       " 'NWM_8189809': '1183270435779',\n",
       " 'NWM_8933522': '1183313823202',\n",
       " 'NWM_8272211': '1183271928106',\n",
       " 'NWM_8933376': '1183301424517',\n",
       " 'NWM_8271445': '1183270771670',\n",
       " 'NWM_8915857': '1183305305861',\n",
       " 'NWM_8295207': '1183270738596',\n",
       " 'NWM_8242324': '1183270893876',\n",
       " 'NWM_4442602': '1183233266953',\n",
       " 'NWM_4440518': '1183270111255',\n",
       " 'NWM_348419': '1183269540354',\n",
       " 'NWM_8272227': '1183271345088',\n",
       " 'NWM_8271875': '1183270675665',\n",
       " 'NWM_2823750': '1183268820084',\n",
       " 'NWM_2809859': '1183275077035',\n",
       " 'NWM_2808553': '1183269934362',\n",
       " 'NWM_7981844': '1183270725872',\n",
       " 'NWM_7966063': '1183270356655',\n",
       " 'NWM_7952678': '1183273361478',\n",
       " 'NWM_5330719': '1183269469123',\n",
       " 'NWM_8241662': '1183271278703',\n",
       " 'NWM_2804929': '1183243738175',\n",
       " 'NWM_5329357': '1183276600915',\n",
       " 'NWM_2803945': '1183269681692',\n",
       " 'NWM_3917252': '1183271141304',\n",
       " 'NWM_2803935': '1183268323874',\n",
       " 'NWM_2705477': '1183269727290',\n",
       " 'NWM_2851625': '1183275579149',\n",
       " 'NWM_2829236': '1183270198515',\n",
       " 'NWM_2665525': '1183276285127',\n",
       " 'NWM_8019544': '1183270471215',\n",
       " 'NWM_2819818': '1183232311346',\n",
       " 'NWM_8009269': '1183246589898',\n",
       " 'NWM_24843752': '1183233038880',\n",
       " 'NWM_8005975': '1183276281921',\n",
       " 'NWM_22660265': '1183268650324',\n",
       " 'NWM_22660257': '1183274560887',\n",
       " 'NWM_2806611': '1183275339149',\n",
       " 'NWM_2806395': '1183269483385',\n",
       " 'NWM_2546355': '1183269519379',\n",
       " 'NWM_2828044': '1183270087728',\n",
       " 'NWM_2828012': '1183245103575',\n",
       " 'NWM_22557744': '1183252860355',\n",
       " 'NWM_22555860': '1183275800144',\n",
       " 'NWM_22555342': '1183270440630',\n",
       " 'NWM_22548547': '1183268798882',\n",
       " 'NWM_22547091': '1183269427245',\n",
       " 'NWM_2803983': '1183275100813',\n",
       " 'NWM_22563212': '1183275747535',\n",
       " 'NWM_2790443': '1183270121597',\n",
       " 'NWM_22524845': '1183270248535',\n",
       " 'NWM_21412135': '1183275012929',\n",
       " 'NWM_22684930': '1183275019361',\n",
       " 'NWM_22656105': '1183269070665',\n",
       " 'NWM_20350681': '1183272566973',\n",
       " 'NWM_22548457': '1183269008091',\n",
       " 'NWM_20331196': '1183268624115',\n",
       " 'NWM_22535256': '1183270144850',\n",
       " 'NWM_22592497': '1183269473000',\n",
       " 'NWM_22532978': '1183274030514',\n",
       " 'NWM_22591957': '1183269487210',\n",
       " 'NWM_22563210': '1183268875873',\n",
       " 'NWM_22521721': '1183269058393',\n",
       " 'NWM_22557960': '1183269520822',\n",
       " 'NWM_21412723': '1183269392303',\n",
       " 'NWM_17687547': '1183273882568',\n",
       " 'NWM_20334440': '1183268470272',\n",
       " 'NWM_17665491': '1183276116730',\n",
       " 'NWM_20331402': '1183268660257',\n",
       " 'NWM_22548429': '1183270331650',\n",
       " 'NWM_20330908': '1183274991419',\n",
       " 'NWM_20273931': '1183269878823',\n",
       " 'NWM_17632398': '1183267961885',\n",
       " 'NWM_17625379': '1183267629808',\n",
       " 'NWM_17625349': '1183273622897',\n",
       " 'NWM_22527375': '1183274060100',\n",
       " 'NWM_22515830': '1183268306799',\n",
       " 'NWM_948070502': '1183278199592',\n",
       " 'NWM_17572259': '1183267591429',\n",
       " 'NWM_17082139': '1183269696187',\n",
       " 'NWM_8941685': '1183314936501',\n",
       " 'NWM_8933890': '1183314076886',\n",
       " 'NWM_17610419': '1183268760381',\n",
       " 'NWM_17608959': '1183268549023',\n",
       " 'NWM_17694891': '1183273580119',\n",
       " 'NWM_17604479': '1183275380397',\n",
       " 'NWM_17693069': '1183268748756',\n",
       " 'NWM_14961121': '1183274007051',\n",
       " 'NWM_8915907': '1183314205046',\n",
       " 'NWM_17687965': '1183274049694',\n",
       " 'NWM_17575859': '1183268453633',\n",
       " 'NWM_17682474': '1183268212834',\n",
       " 'NWM_17573647': '1183267392462',\n",
       " 'NWM_8285120': '1183271376569',\n",
       " 'NWM_17082145': '1183269231589',\n",
       " 'NWM_1669045': '1183267666052',\n",
       " 'NWM_8269119': '1183271993263',\n",
       " 'NWM_8245912': '1183272259453',\n",
       " 'NWM_17574345': '1183273311126',\n",
       " 'NWM_17081685': '1183267054466',\n",
       " 'NWM_8209949': '1183270725646',\n",
       " 'NWM_17078425': '1183273738695',\n",
       " 'NWM_1670127': '1183231808312',\n",
       " 'NWM_1669113': '1183232160330',\n",
       " 'NWM_8061235': '1183276481426',\n",
       " 'NWM_15040999': '1183268529940',\n",
       " 'NWM_15030099': '1183266868923',\n",
       " 'NWM_14996611': '1183273104628',\n",
       " 'NWM_14934716': '1183272735460',\n",
       " 'NWM_10744424': '1183315036450',\n",
       " 'NWM_4438356': '1183269711176',\n",
       " 'NWM_2803985': '1183273632805',\n",
       " 'NWM_22593537': '1183276768811',\n",
       " 'NWM_22593529': '1183268750458',\n",
       " 'NWM_22593695': '1183269730602',\n",
       " 'NWM_22590267': '1183274684075',\n",
       " 'NWM_22549115': '1183270287282',\n",
       " 'NWM_22548475': '1183269662639',\n",
       " 'NWM_22527373': '1183275365935',\n",
       " 'NWM_22515826': '1183274967521',\n",
       " 'NWM_20326431': '1183268215447',\n",
       " 'NWM_20247268': '1183314195372',\n",
       " 'NWM_19791955': '1183267913706',\n",
       " 'NWM_19771455': '1183269929989',\n",
       " 'NWM_17663805': '1183268474731',\n",
       " 'NWM_17663521': '1183268692940',\n",
       " 'NWM_17633130': '1183275276930',\n",
       " 'NWM_17575785': '1183274386663',\n",
       " 'NWM_17081597': '1183270620957',\n",
       " 'NWM_17081431': '1183268064896',\n",
       " 'NWM_1180000535': '1183266565123',\n",
       " 'NWM_10016922': '1183273087635',\n",
       " 'NWM_9769826': '1183283696034',\n",
       " 'NWM_950441': '1183283671443',\n",
       " 'NWM_937330': '1183283961692',\n",
       " 'NWM_916565': '1183283489766',\n",
       " 'NWM_3262733': '1183283438510',\n",
       " 'NWM_3261785': '1183284180022',\n",
       " 'NWM_3252637': '1183280177287',\n",
       " 'NWM_3233449': '1183283909223',\n",
       " 'NWM_3175612': '1183283728940',\n",
       " 'NWM_2889346': '1183283366998',\n",
       " 'NWM_2888948': '1183283115266',\n",
       " 'NWM_2885552': '1183283151121',\n",
       " 'NWM_9767880': '1183284185594',\n",
       " 'NWM_9769472': '1183284465650',\n",
       " 'NWM_947431': '1183275899650',\n",
       " 'NWM_2884976': '1183278955361',\n",
       " 'NWM_230645': '1183280640416',\n",
       " 'NWM_229709': '1183273574498',\n",
       " 'NWM_194423': '1183282990402',\n",
       " 'NWM_18385551': '1183273915472',\n",
       " 'NWM_17013767': '1183272806421',\n",
       " 'NWM_17013769': '1183279336915',\n",
       " 'NWM_17013793': '1183273596272',\n",
       " 'NWM_18377654': '1183273486552',\n",
       " 'NWM_17034895': '1183234522689',\n",
       " 'NWM_1601209': '1183273896609',\n",
       " 'NWM_3253975': '1183284010143',\n",
       " 'NWM_3252623': '1183281058423',\n",
       " 'NWM_1594283': '1183272545785',\n",
       " 'NWM_3232569': '1183283834717',\n",
       " 'NWM_1529743': '1183273436200',\n",
       " 'NWM_2900123': '1184099647324',\n",
       " 'NWM_1357212': '1183272444049',\n",
       " 'NWM_2885330': '1183283400891',\n",
       " 'NWM_1354270': '1183271872999',\n",
       " 'NWM_1343194': '1183281180854',\n",
       " 'NWM_225687': '1183233415346',\n",
       " 'NWM_21247638': '1183295979236',\n",
       " 'NWM_1327173': '1183278493195',\n",
       " 'NWM_190643': '1183274117800',\n",
       " 'NWM_1325991': '1183272763423',\n",
       " 'NWM_1320264': '1183278108435',\n",
       " 'NWM_1319752': '1183277427538',\n",
       " 'NWM_1319426': '1183271743873',\n",
       " 'NWM_1319324': '1183233730670',\n",
       " 'NWM_17034665': '1183274110769',\n",
       " 'NWM_1312847': '1183272276469',\n",
       " 'NWM_1239663': '1183272367404',\n",
       " 'NWM_1239657': '1183275115878',\n",
       " 'NWM_17014207': '1183272560066',\n",
       " 'NWM_1239593': '1183277467324',\n",
       " 'NWM_16963957': '1183278149860',\n",
       " 'NWM_1596199': '1183233864141',\n",
       " 'NWM_1234501': '1183271121686',\n",
       " 'NWM_1234461': '1183277273420',\n",
       " 'NWM_1232797': '1183271873555',\n",
       " 'NWM_1529569': '1183273525153',\n",
       " 'NWM_1356774': '1183272367512',\n",
       " 'NWM_1327457': '1183272525622',\n",
       " 'NWM_1327239': '1183271402785',\n",
       " 'NWM_1320914': '1183277904968',\n",
       " 'NWM_1314083': '1183273214861',\n",
       " 'NWM_1239423': '1183271376119',\n",
       " 'NWM_1239233': '1183271804179',\n",
       " 'NWM_1238141': '1183273137653',\n",
       " 'NWM_9773129': '1183280710621',\n",
       " 'NWM_9769828': '1183238063427',\n",
       " 'NWM_938902': '1183283962343',\n",
       " 'NWM_916811': '1183283990602',\n",
       " 'NWM_3252173': '1183283664480',\n",
       " 'NWM_3240437': '1183281353393',\n",
       " 'NWM_2900061': '1184095798149',\n",
       " 'NWM_981799': '1183284502093',\n",
       " 'NWM_9773517': '1183280148620',\n",
       " 'NWM_2888828': '1183283100477',\n",
       " 'NWM_2885578': '1183273392673',\n",
       " 'NWM_9769790': '1183284317050',\n",
       " 'NWM_975692': '1183284665699',\n",
       " 'NWM_229717': '1183283112558',\n",
       " 'NWM_228553': '1183277292805',\n",
       " 'NWM_933650': '1183283854557',\n",
       " 'NWM_3262783': '1183283642729',\n",
       " 'NWM_18384141': '1183274770257',\n",
       " 'NWM_3232789': '1183274789181',\n",
       " 'NWM_3179298': '1183283604469',\n",
       " 'NWM_17034425': '1183273308452',\n",
       " 'NWM_3111399': '1183279761976',\n",
       " 'NWM_17014841': '1183273360950',\n",
       " 'NWM_17015233': '1183273930607',\n",
       " 'NWM_2889214': '1183283158169',\n",
       " 'NWM_1532253': '1183272398425',\n",
       " 'NWM_1531159': '1183272315326',\n",
       " 'NWM_1530529': '1183272665346',\n",
       " 'NWM_231167': '1183282952163',\n",
       " 'NWM_1529693': '1183272776042',\n",
       " 'NWM_189869': '1183282803124',\n",
       " 'NWM_1403494': '1183317432620',\n",
       " 'NWM_1358214': '1183275629225',\n",
       " 'NWM_1358238': '1183272889057',\n",
       " 'NWM_1333418': '1183272824354',\n",
       " 'NWM_1327153': '1183271897368',\n",
       " 'NWM_1324997': '1183272267468',\n",
       " 'NWM_1319214': '1183278154621',\n",
       " 'NWM_1314289': '1183233703530',\n",
       " 'NWM_1313213': '1183271349799',\n",
       " 'NWM_1312885': '1183272093692',\n",
       " 'NWM_1529787': '1183272852015',\n",
       " 'NWM_1239255': '1183272101942',\n",
       " 'NWM_1238533': '1183272156896',\n",
       " 'NWM_1237943': '1183271472787',\n",
       " 'NWM_1232803': '1183273846402',\n",
       " 'NWM_1231205': '1183270952117',\n",
       " 'NWM_1352678': '1183274006823',\n",
       " 'NWM_1352642': '1183273857653',\n",
       " 'NWM_1333564': '1183272765750',\n",
       " 'NWM_1326465': '1183277403437',\n",
       " 'NWM_1326889': '1183272565057',\n",
       " 'NWM_1319442': '1183274280802',\n",
       " 'NWM_12932': '1183271686011',\n",
       " 'NWM_1239681': '1183277065037',\n",
       " 'NWM_1236065': '1183272290536',\n",
       " 'NWM_1234531': '1183272001125',\n",
       " 'NWM_9769294': '1183284008157',\n",
       " 'NWM_938894': '1183284204030',\n",
       " 'NWM_916821': '1183284247693',\n",
       " 'NWM_5239426': '1183275596927',\n",
       " 'NWM_3561878': '1183283587679',\n",
       " 'NWM_3253137': '1183283383304',\n",
       " 'NWM_3251413': '1183283321834',\n",
       " 'NWM_3241429': '1183284027411',\n",
       " 'NWM_3239621': '1183283722720',\n",
       " 'NWM_3179476': '1183283280385',\n",
       " 'NWM_3109519': '1183283657922',\n",
       " 'NWM_18382337': '1183278691835',\n",
       " 'NWM_18377596': '1183232657062',\n",
       " 'NWM_18374906': '1183272509706',\n",
       " 'NWM_18370392': '1183272967987',\n",
       " 'NWM_17034197': '1183281125399',\n",
       " 'NWM_16000378': '1183273256342',\n",
       " 'NWM_15986337': '1183273177125',\n",
       " 'NWM_1531851': '1183278298303',\n",
       " 'NWM_1531145': '1183250702888',\n",
       " 'NWM_1530241': '1183279675579',\n",
       " 'NWM_1529805': '1183272953967',\n",
       " 'NWM_1529755': '1183277880360',\n",
       " 'NWM_1529719': '1183272327000',\n",
       " 'NWM_1529539': '1183275826278',\n",
       " 'NWM_1529541': '1183272742442',\n",
       " 'NWM_1529459': '1183272369735',\n",
       " 'NWM_1357658': '1183272823877',\n",
       " 'NWM_1343034': '1183273685763',\n",
       " 'NWM_1341442': '1183271786599',\n",
       " 'NWM_1337472': '1183278728129',\n",
       " 'NWM_1333490': '1183278050460',\n",
       " 'NWM_1333022': '1183272015501',\n",
       " 'NWM_1321052': '1183272404110',\n",
       " 'NWM_1319278': '1183272156290',\n",
       " 'NWM_1314651': '1183273108879',\n",
       " 'NWM_1239635': '1183271559501',\n",
       " 'NWM_1239605': '1183271763520',\n",
       " 'NWM_1238569': '1183277904097',\n",
       " 'NWM_1238051': '1183270937892',\n",
       " 'NWM_1231703': '1183273013811',\n",
       " 'NWM_952589': '1183283801008',\n",
       " 'NWM_950371': '1183283729367',\n",
       " 'NWM_5307716': '1183283767447',\n",
       " 'NWM_3255135': '1183283712719',\n",
       " 'NWM_3239735': '1183284033790',\n",
       " 'NWM_2900581': '1184099162834',\n",
       " 'NWM_2888998': '1183278869102',\n",
       " 'NWM_2885144': '1183279510440',\n",
       " 'NWM_233727': '1183279171926',\n",
       " 'NWM_225621': '1183282923296',\n",
       " 'NWM_191765': '1183233840935',\n",
       " 'NWM_188691': '1183273342436',\n",
       " 'NWM_18385437': '1183272965154',\n",
       " 'NWM_17034995': '1183273260547',\n",
       " 'NWM_17014191': '1183272751662',\n",
       " 'NWM_17013783': '1183273472158',\n",
       " 'NWM_1333198': '1183272360817',\n",
       " 'NWM_1321062': '1183278598020',\n",
       " 'NWM_1320016': '1183275310278',\n",
       " 'NWM_992915': '1183284495446',\n",
       " 'NWM_9773615': '1183280264259',\n",
       " 'NWM_1231609': '1183277597183',\n",
       " 'NWM_937408': '1183284192140',\n",
       " 'NWM_916493': '1183279435560',\n",
       " 'NWM_3179692': '1183274138422',\n",
       " 'NWM_2900149': '1184099136344',\n",
       " 'NWM_2898187': '1184096599641',\n",
       " 'NWM_2885314': '1183283535233',\n",
       " 'NWM_188633': '1183279954544',\n",
       " 'NWM_188199': '1183272549753',\n",
       " 'NWM_18382615': '1183276556172',\n",
       " 'NWM_18382377': '1183272967268',\n",
       " 'NWM_18375940': '1183278639035',\n",
       " 'NWM_18375594': '1183274184609',\n",
       " 'NWM_18279713': '1184096523027',\n",
       " 'NWM_1596083': '1183272564568',\n",
       " 'NWM_1529977': '1183278850136',\n",
       " 'NWM_1528197': '1183273724149',\n",
       " 'NWM_1423102': '1183271947577',\n",
       " 'NWM_1338068': '1183251578871',\n",
       " 'NWM_1337236': '1183278324321',\n",
       " 'NWM_1327445': '1183271769952',\n",
       " 'NWM_1320274': '1183271532199',\n",
       " 'NWM_1319236': '1183233322155',\n",
       " 'NWM_1313259': '1183272737117',\n",
       " 'NWM_1312907': '1183272089090',\n",
       " 'NWM_1239619': '1183273296498',\n",
       " 'NWM_1232821': '1183270658595',\n",
       " 'NWM_1234355': '1183272322710',\n",
       " 'NWM_952325': '1183279963932',\n",
       " 'NWM_934978': '1183283979315',\n",
       " 'NWM_920981': '1183279781503',\n",
       " 'NWM_918597': '1183283672096',\n",
       " 'NWM_3253985': '1183284228325',\n",
       " 'NWM_3233455': '1183283496324',\n",
       " 'NWM_3176490': '1183283715193',\n",
       " 'NWM_2885542': '1183283525379',\n",
       " 'NWM_2885178': '1183275442578',\n",
       " 'NWM_2885140': '1183279216924',\n",
       " 'NWM_191739': '1183280628930',\n",
       " 'NWM_188209': '1183281092107',\n",
       " 'NWM_18279725': '1184097586161',\n",
       " 'NWM_18277857': '1183275343905',\n",
       " 'NWM_17031044': '1183272727976',\n",
       " 'NWM_1531241': '1183274160685',\n",
       " 'NWM_1529807': '1183271985658',\n",
       " 'NWM_1352456': '1183272792111',\n",
       " 'NWM_1320280': '1183278640915',\n",
       " 'NWM_1320238': '1183272478742',\n",
       " 'NWM_1320244': '1183272641030',\n",
       " 'NWM_1239617': '1183275761605',\n",
       " 'NWM_7733309': '1183282059250',\n",
       " 'NWM_7732355': '1183282594422',\n",
       " 'NWM_7732387': '1183277018272',\n",
       " 'NWM_7732311': '1183284890898',\n",
       " 'NWM_7713698': '1183284420910',\n",
       " 'NWM_7713634': '1183281214226',\n",
       " 'NWM_7711932': '1183280485137',\n",
       " 'NWM_7702618': '1183284716271',\n",
       " 'NWM_7700532': '1183284449737',\n",
       " 'NWM_7700166': '1183284555172',\n",
       " 'NWM_7700148': '1183278038825',\n",
       " 'NWM_6177558': '1183284670394',\n",
       " 'NWM_6177036': '1183284180152',\n",
       " 'NWM_6163185': '1183284483525',\n",
       " 'NWM_6168318': '1183282270193',\n",
       " 'NWM_6162965': '1183284043978',\n",
       " 'NWM_6111421': '1183283463254',\n",
       " 'NWM_6111419': '1183284471578',\n",
       " 'NWM_7718288': '1183284557153',\n",
       " 'NWM_6109643': '1183284104137',\n",
       " 'NWM_6144833': '1183284050754',\n",
       " 'NWM_6148469': '1183279237027',\n",
       " 'NWM_6174422': '1183284924709',\n",
       " 'NWM_6177058': '1183284487509',\n",
       " 'NWM_7699976': '1183281111421',\n",
       " 'NWM_7713138': '1183285015857',\n",
       " 'NWM_7733285': '1183285198294',\n",
       " 'NWM_7733045': '1183284579310',\n",
       " 'NWM_7731877': '1183280877788',\n",
       " 'NWM_7713080': '1183284506969',\n",
       " 'NWM_7712706': '1183284752042',\n",
       " 'NWM_6162583': '1183284097034',\n",
       " 'NWM_7710044': '1183300848666',\n",
       " 'NWM_7702612': '1183285018305',\n",
       " 'NWM_6140826': '1183284583216',\n",
       " 'NWM_6105951': '1183284182898',\n",
       " 'NWM_6148415': '1183279980360',\n",
       " 'NWM_6109139': '1183284504522',\n",
       " 'NWM_7733091': '1183284536037',\n",
       " 'NWM_7716608': '1183280902659',\n",
       " 'NWM_7733259': '1183285298798',\n",
       " 'NWM_7716694': '1183284487310',\n",
       " 'NWM_7712756': '1183317477630',\n",
       " 'NWM_6149075': '1183284547210',\n",
       " 'NWM_7700014': '1183281308295',\n",
       " 'NWM_6148379': '1183280881021',\n",
       " 'NWM_6177114': '1183284879542',\n",
       " 'NWM_6162579': '1183280468259',\n",
       " 'NWM_7718060': '1183285311197',\n",
       " 'NWM_7716956': '1183280497138',\n",
       " 'NWM_7711950': '1183316899231',\n",
       " 'NWM_7700898': '1183284621847',\n",
       " 'NWM_7700458': '1183284950829',\n",
       " 'NWM_6163159': '1183284533145',\n",
       " 'NWM_6162555': '1183279275427',\n",
       " 'NWM_6148535': '1183284355422',\n",
       " 'NWM_7731677': '1183281317525',\n",
       " 'NWM_6162981': '1183284199785',\n",
       " 'NWM_6162939': '1183284756253',\n",
       " 'NWM_6109247': '1183284057799',\n",
       " 'NWM_8392898': '1183305367286',\n",
       " 'NWM_8074660': '1183285390044',\n",
       " 'NWM_4766828': '1183305156034',\n",
       " 'NWM_4765418': '1183305470957',\n",
       " 'NWM_8401303': '1183306647094',\n",
       " 'NWM_4653396': '1183304618608',\n",
       " 'NWM_4651944': '1183325818607',\n",
       " 'NWM_4651912': '1183302080303',\n",
       " 'NWM_4651938': '1183299324174',\n",
       " 'NWM_4651254': '1183325016309',\n",
       " 'NWM_8077030': '1183285596705',\n",
       " 'NWM_9407582': '1183310189189',\n",
       " 'NWM_4768920': '1183305766394',\n",
       " 'NWM_9407484': '1183305293185',\n",
       " 'NWM_4651906': '1183297942175',\n",
       " 'NWM_4651930': '1183325239931',\n",
       " 'NWM_8391164': '1183311391388',\n",
       " 'NWM_8382361': '1183306510014',\n",
       " 'NWM_4651090': '1183326742720',\n",
       " 'NWM_4651956': '1183306764703',\n",
       " 'NWM_4655440': '1183324720999',\n",
       " 'NWM_4763630': '1183305550393',\n",
       " 'NWM_4652052': '1183326178014',\n",
       " 'NWM_4653422': '1183305199531',\n",
       " 'NWM_4765354': '1183306141536',\n",
       " 'NWM_8407597': '1183305543379',\n",
       " 'NWM_8401785': '1183305900906',\n",
       " 'NWM_8401391': '1183306565053',\n",
       " 'NWM_18258887': '1183283225997',\n",
       " 'NWM_9976933': '1183288821698',\n",
       " 'NWM_933130036': '1183286403597',\n",
       " 'NWM_6499252': '1183288946500',\n",
       " 'NWM_9922304': '1183288778786',\n",
       " 'NWM_6498944': '1183284137541',\n",
       " 'NWM_6498588': '1183288513075',\n",
       " 'NWM_6498178': '1183288306185',\n",
       " 'NWM_6478057': '1183284045761',\n",
       " 'NWM_6458195': '1183288246257',\n",
       " 'NWM_6470130': '1183288303701',\n",
       " 'NWM_6415592': '1183287516454',\n",
       " 'NWM_6415040': '1183287900881',\n",
       " 'NWM_6415468': '1183287847682',\n",
       " 'NWM_6331754': '1183287345759',\n",
       " 'NWM_6413164': '1183287633753',\n",
       " 'NWM_6442680': '1183285764593',\n",
       " 'NWM_6429916': '1183287723569',\n",
       " 'NWM_6415544': '1183284998499',\n",
       " 'NWM_6333794': '1183287449770',\n",
       " 'NWM_6339430': '1183240090717',\n",
       " 'NWM_6415508': '1183283931368',\n",
       " 'NWM_6333958': '1183287212146',\n",
       " 'NWM_6334744': '1183285113885',\n",
       " 'NWM_6365072': '1183285990507',\n",
       " 'NWM_6334126': '1183283193902',\n",
       " 'NWM_6331746': '1183287048567',\n",
       " 'NWM_6331032': '1183287303193',\n",
       " 'NWM_6330996': '1183286937941',\n",
       " 'NWM_6269248': '1183287417850',\n",
       " 'NWM_3440880': '1183287586063',\n",
       " 'NWM_3433426': '1183287492860',\n",
       " 'NWM_3291986': '1183287113032',\n",
       " 'NWM_3285802': '1183286390944',\n",
       " 'NWM_3290264': '1183283926225',\n",
       " 'NWM_3285770': '1183283614009',\n",
       " 'NWM_3285608': '1183286818675',\n",
       " 'NWM_3286312': '1183286434166',\n",
       " 'NWM_25727251': '1183282558332',\n",
       " 'NWM_2146447': '1183286473167',\n",
       " 'NWM_2048157': '1183286914607',\n",
       " 'NWM_2144821': '1183286321351',\n",
       " 'NWM_2047963': '1183286211176',\n",
       " 'NWM_2044921': '1183282743421',\n",
       " 'NWM_2045337': '1183286919936',\n",
       " 'NWM_2042071': '1183286444158',\n",
       " 'NWM_2040783': '1183286090455',\n",
       " 'NWM_2044799': '1183283151041',\n",
       " 'NWM_2044673': '1183286858690',\n",
       " 'NWM_1997544': '1183285666149',\n",
       " 'NWM_20104145': '1183328448551',\n",
       " 'NWM_19679979': '1183283445838',\n",
       " 'NWM_15824181': '1183285980086',\n",
       " 'NWM_14348510': '1183286378814',\n",
       " 'NWM_12194190': '1183285810394',\n",
       " 'NWM_12193830': '1183285797757',\n",
       " 'NWM_12193674': '1183281329950',\n",
       " 'NWM_14348516': '1183245657779',\n",
       " 'NWM_1050623': '1183285702128',\n",
       " 'NWM_11735427': '1183330236360',\n",
       " 'NWM_1050457': '1183282555841',\n",
       " 'NWM_1047261': '1183281454228',\n",
       " 'NWM_1049653': '1183285757088',\n",
       " 'NWM_10362340': '1183285618073',\n",
       " 'NWM_9963082': '1183286116974',\n",
       " 'NWM_9958312': '1183288305634',\n",
       " 'NWM_9944910': '1183289134786',\n",
       " 'NWM_6500642': '1183288760149',\n",
       " 'NWM_6497814': '1183288361872',\n",
       " 'NWM_6496726': '1183287908110',\n",
       " 'NWM_6489304': '1183284668231',\n",
       " 'NWM_6478921': '1183288570143',\n",
       " 'NWM_6471974': '1183288421494',\n",
       " 'NWM_6363594': '1183287869328',\n",
       " 'NWM_6335902': '1183288013922',\n",
       " 'NWM_6334112': '1183287530773',\n",
       " 'NWM_6333380': '1183287828053',\n",
       " 'NWM_3424530': '1183287425961',\n",
       " 'NWM_3291248': '1183283249183',\n",
       " 'NWM_3289348': '1183282923028',\n",
       " 'NWM_25253215': '1183286590767',\n",
       " 'NWM_2310009': '1183281708287',\n",
       " 'NWM_22725411': '1183287076975',\n",
       " 'NWM_22721689': '1183329749169',\n",
       " 'NWM_2044625': '1183286577645',\n",
       " 'NWM_19697927': '1183281982568',\n",
       " 'NWM_1946441': '1183285903698',\n",
       " 'NWM_15811451': '1183285517279',\n",
       " 'NWM_14456417': '1183286338703',\n",
       " 'NWM_1048487': '1183285793800',\n",
       " 'NWM_9944828': '1183285642501',\n",
       " 'NWM_9941682': '1183289137142',\n",
       " 'NWM_6498376': '1183288324982',\n",
       " 'NWM_9961690': '1183288769023',\n",
       " 'NWM_6497138': '1183288853295',\n",
       " 'NWM_6496222': '1183287826287',\n",
       " 'NWM_6505962': '1183288275123',\n",
       " 'NWM_6498632': '1183288719112',\n",
       " 'NWM_6496580': '1183285762429',\n",
       " 'NWM_6489404': '1183283969957',\n",
       " 'NWM_6487858': '1183288582720',\n",
       " 'NWM_6471862': '1183287996247',\n",
       " 'NWM_6471708': '1183288664389',\n",
       " 'NWM_6460293': '1183288440100',\n",
       " 'NWM_6341518': '1183288010639',\n",
       " 'NWM_6336816': '1183287244858',\n",
       " 'NWM_6415518': '1183282704369',\n",
       " 'NWM_6335784': '1183287379943',\n",
       " 'NWM_6396033': '1183246113742',\n",
       " 'NWM_6383975': '1183288003545',\n",
       " 'NWM_6369124': '1183288361261',\n",
       " 'NWM_6365360': '1183287221487',\n",
       " 'NWM_6333538': '1183252351688',\n",
       " 'NWM_6333534': '1183287127923',\n",
       " 'NWM_6340800': '1183287936501',\n",
       " 'NWM_6334740': '1183246286579',\n",
       " 'NWM_6333752': '1183287763894',\n",
       " 'NWM_6333546': '1183287905660',\n",
       " 'NWM_3438596': '1183287053593',\n",
       " ...}"
      ]
     },
     "execution_count": 6,
     "metadata": {},
     "output_type": "execute_result"
    }
   ],
   "source": [
    "NWM_Dictionary = pickle.load(open(cwd+'/Streamflow_App/NWM_site_keys.pkl', 'rb'))\n",
    "NWM_Dictionary"
   ]
  },
  {
   "cell_type": "markdown",
   "id": "eb3855c5",
   "metadata": {},
   "source": [
    "### Original code reading from directory"
   ]
  },
  {
   "cell_type": "code",
   "execution_count": 78,
   "id": "38e0a00f",
   "metadata": {},
   "outputs": [
    {
     "data": {
      "text/plain": [
       "'C:\\\\Users\\\\rjohnson18\\\\Box\\\\CIROH\\\\Evaluation\\\\LULC_Streamflow'"
      ]
     },
     "execution_count": 78,
     "metadata": {},
     "output_type": "execute_result"
    }
   ],
   "source": [
    "cwd"
   ]
  },
  {
   "cell_type": "code",
   "execution_count": 15,
   "id": "678bbc67",
   "metadata": {
    "scrolled": true
   },
   "outputs": [
    {
     "data": {
      "text/plain": [
       "Index(['NWIS_site_id', 'NWIS_sitename', 'Drainage_area_mi2',\n",
       "       'Mean_Basin_Elev_ft', 'Perc_Forest', 'Perc_Develop', 'Perc_Imperv',\n",
       "       'Perc_Herbace', 'Perc_Slop_30', 'Mean_Ann_Precip_in', 'Ann_low_cfs',\n",
       "       'Ann_mean_cfs', 'Ann_hi_cfs'],\n",
       "      dtype='object')"
      ]
     },
     "execution_count": 15,
     "metadata": {},
     "output_type": "execute_result"
    }
   ],
   "source": [
    "state = 'ut'\n",
    "NWIS_sites = pd.read_hdf(cwd+'/Data/StreamStats/StreamStats.h5', state)\n",
    "NWIS_sites.columns"
   ]
  },
  {
   "cell_type": "code",
   "execution_count": 20,
   "id": "e40d7ded",
   "metadata": {
    "scrolled": true
   },
   "outputs": [
    {
     "data": {
      "text/html": [
       "<div>\n",
       "<style scoped>\n",
       "    .dataframe tbody tr th:only-of-type {\n",
       "        vertical-align: middle;\n",
       "    }\n",
       "\n",
       "    .dataframe tbody tr th {\n",
       "        vertical-align: top;\n",
       "    }\n",
       "\n",
       "    .dataframe thead th {\n",
       "        text-align: right;\n",
       "    }\n",
       "</style>\n",
       "<table border=\"1\" class=\"dataframe\">\n",
       "  <thead>\n",
       "    <tr style=\"text-align: right;\">\n",
       "      <th></th>\n",
       "      <th>NWIS_sitename</th>\n",
       "      <th>Drainage_area_mi2</th>\n",
       "      <th>Mean_Basin_Elev_ft</th>\n",
       "      <th>Perc_Forest</th>\n",
       "      <th>Perc_Develop</th>\n",
       "      <th>Perc_Imperv</th>\n",
       "      <th>Perc_Herbace</th>\n",
       "      <th>Perc_Slop_30</th>\n",
       "      <th>Mean_Ann_Precip_in</th>\n",
       "      <th>Ann_low_cfs</th>\n",
       "      <th>...</th>\n",
       "      <th>dec_long_va</th>\n",
       "      <th>alt_va</th>\n",
       "      <th>alt_acy_va</th>\n",
       "      <th>huc_cd</th>\n",
       "      <th>parm_cd</th>\n",
       "      <th>begin_date</th>\n",
       "      <th>end_date</th>\n",
       "      <th>drain_sqkm</th>\n",
       "      <th>state</th>\n",
       "      <th>state_id</th>\n",
       "    </tr>\n",
       "    <tr>\n",
       "      <th>NWIS_site_id</th>\n",
       "      <th></th>\n",
       "      <th></th>\n",
       "      <th></th>\n",
       "      <th></th>\n",
       "      <th></th>\n",
       "      <th></th>\n",
       "      <th></th>\n",
       "      <th></th>\n",
       "      <th></th>\n",
       "      <th></th>\n",
       "      <th></th>\n",
       "      <th></th>\n",
       "      <th></th>\n",
       "      <th></th>\n",
       "      <th></th>\n",
       "      <th></th>\n",
       "      <th></th>\n",
       "      <th></th>\n",
       "      <th></th>\n",
       "      <th></th>\n",
       "      <th></th>\n",
       "    </tr>\n",
       "  </thead>\n",
       "  <tbody>\n",
       "    <tr>\n",
       "      <th>09413500</th>\n",
       "      <td>VIRGIN RIVER NEAR ST. GEORGE, UT</td>\n",
       "      <td>3980.000</td>\n",
       "      <td>5350.0</td>\n",
       "      <td>23.2</td>\n",
       "      <td>1.75</td>\n",
       "      <td>0.5300</td>\n",
       "      <td>11.40</td>\n",
       "      <td>1.48</td>\n",
       "      <td>14.7</td>\n",
       "      <td>62.60</td>\n",
       "      <td>...</td>\n",
       "      <td>-113.680516</td>\n",
       "      <td>2401.58</td>\n",
       "      <td>0.20</td>\n",
       "      <td>15010010.0</td>\n",
       "      <td>60.0</td>\n",
       "      <td>1950-10-01</td>\n",
       "      <td>2022-11-27</td>\n",
       "      <td>10303.00000</td>\n",
       "      <td>Utah</td>\n",
       "      <td>UT</td>\n",
       "    </tr>\n",
       "    <tr>\n",
       "      <th>09413900</th>\n",
       "      <td>BEAVER DAM WASH NEAR ENTERPRISE, UT</td>\n",
       "      <td>59.000</td>\n",
       "      <td>5950.0</td>\n",
       "      <td>62.6</td>\n",
       "      <td>0.00</td>\n",
       "      <td>0.0530</td>\n",
       "      <td>1.88</td>\n",
       "      <td>35.00</td>\n",
       "      <td>19.0</td>\n",
       "      <td>2.05</td>\n",
       "      <td>...</td>\n",
       "      <td>-114.046646</td>\n",
       "      <td>4740.53</td>\n",
       "      <td>0.24</td>\n",
       "      <td>15010010.0</td>\n",
       "      <td>60.0</td>\n",
       "      <td>1991-10-01</td>\n",
       "      <td>2022-11-26</td>\n",
       "      <td>150.34950</td>\n",
       "      <td>Utah</td>\n",
       "      <td>UT</td>\n",
       "    </tr>\n",
       "    <tr>\n",
       "      <th>10163000</th>\n",
       "      <td>PROVO RIVER AT PROVO, UT</td>\n",
       "      <td>NaN</td>\n",
       "      <td>NaN</td>\n",
       "      <td>NaN</td>\n",
       "      <td>NaN</td>\n",
       "      <td>NaN</td>\n",
       "      <td>NaN</td>\n",
       "      <td>NaN</td>\n",
       "      <td>NaN</td>\n",
       "      <td>34.60</td>\n",
       "      <td>...</td>\n",
       "      <td>-111.711194</td>\n",
       "      <td>4503.00</td>\n",
       "      <td>1.60</td>\n",
       "      <td>NaN</td>\n",
       "      <td>60.0</td>\n",
       "      <td>1903-10-01</td>\n",
       "      <td>2022-11-26</td>\n",
       "      <td>1767.91200</td>\n",
       "      <td>Utah</td>\n",
       "      <td>UT</td>\n",
       "    </tr>\n",
       "    <tr>\n",
       "      <th>09180000</th>\n",
       "      <td>DOLORES RIVER NEAR CISCO, UT</td>\n",
       "      <td>4570.000</td>\n",
       "      <td>7690.0</td>\n",
       "      <td>56.3</td>\n",
       "      <td>0.70</td>\n",
       "      <td>0.2300</td>\n",
       "      <td>8.55</td>\n",
       "      <td>6.57</td>\n",
       "      <td>20.4</td>\n",
       "      <td>101.80</td>\n",
       "      <td>...</td>\n",
       "      <td>-109.195114</td>\n",
       "      <td>4165.00</td>\n",
       "      <td>20.00</td>\n",
       "      <td>14030004.0</td>\n",
       "      <td>10.0</td>\n",
       "      <td>2006-07-18</td>\n",
       "      <td>2022-11-28</td>\n",
       "      <td>11837.85000</td>\n",
       "      <td>Utah</td>\n",
       "      <td>UT</td>\n",
       "    </tr>\n",
       "    <tr>\n",
       "      <th>09180500</th>\n",
       "      <td>COLORADO RIVER NEAR CISCO, UT</td>\n",
       "      <td>0.001</td>\n",
       "      <td>4170.0</td>\n",
       "      <td>0.0</td>\n",
       "      <td>0.00</td>\n",
       "      <td>0.0000</td>\n",
       "      <td>0.00</td>\n",
       "      <td>13.70</td>\n",
       "      <td>NaN</td>\n",
       "      <td>2293.00</td>\n",
       "      <td>...</td>\n",
       "      <td>-109.293449</td>\n",
       "      <td>4092.35</td>\n",
       "      <td>0.24</td>\n",
       "      <td>14030005.0</td>\n",
       "      <td>10.0</td>\n",
       "      <td>2006-08-25</td>\n",
       "      <td>2022-11-28</td>\n",
       "      <td>NaN</td>\n",
       "      <td>Utah</td>\n",
       "      <td>UT</td>\n",
       "    </tr>\n",
       "    <tr>\n",
       "      <th>...</th>\n",
       "      <td>...</td>\n",
       "      <td>...</td>\n",
       "      <td>...</td>\n",
       "      <td>...</td>\n",
       "      <td>...</td>\n",
       "      <td>...</td>\n",
       "      <td>...</td>\n",
       "      <td>...</td>\n",
       "      <td>...</td>\n",
       "      <td>...</td>\n",
       "      <td>...</td>\n",
       "      <td>...</td>\n",
       "      <td>...</td>\n",
       "      <td>...</td>\n",
       "      <td>...</td>\n",
       "      <td>...</td>\n",
       "      <td>...</td>\n",
       "      <td>...</td>\n",
       "      <td>...</td>\n",
       "      <td>...</td>\n",
       "      <td>...</td>\n",
       "    </tr>\n",
       "    <tr>\n",
       "      <th>10215900</th>\n",
       "      <td>MANTI CREEK BLW DUGWAY CREEK, NR MANTI, UT</td>\n",
       "      <td>25.700</td>\n",
       "      <td>9170.0</td>\n",
       "      <td>56.6</td>\n",
       "      <td>1.03</td>\n",
       "      <td>0.0616</td>\n",
       "      <td>14.50</td>\n",
       "      <td>34.80</td>\n",
       "      <td>23.8</td>\n",
       "      <td>10.60</td>\n",
       "      <td>...</td>\n",
       "      <td>-111.579916</td>\n",
       "      <td>6505.44</td>\n",
       "      <td>0.21</td>\n",
       "      <td>16030004.0</td>\n",
       "      <td>60.0</td>\n",
       "      <td>1964-10-01</td>\n",
       "      <td>2022-11-26</td>\n",
       "      <td>68.55569</td>\n",
       "      <td>Utah</td>\n",
       "      <td>UT</td>\n",
       "    </tr>\n",
       "    <tr>\n",
       "      <th>10219000</th>\n",
       "      <td>SEVIER RIVER NEAR JUAB, UT</td>\n",
       "      <td>5160.000</td>\n",
       "      <td>7520.0</td>\n",
       "      <td>42.7</td>\n",
       "      <td>2.80</td>\n",
       "      <td>0.4500</td>\n",
       "      <td>7.97</td>\n",
       "      <td>1.01</td>\n",
       "      <td>17.2</td>\n",
       "      <td>119.60</td>\n",
       "      <td>...</td>\n",
       "      <td>-112.039656</td>\n",
       "      <td>4930.86</td>\n",
       "      <td>0.23</td>\n",
       "      <td>16030005.0</td>\n",
       "      <td>60.0</td>\n",
       "      <td>1911-10-01</td>\n",
       "      <td>2022-11-26</td>\n",
       "      <td>13101.59000</td>\n",
       "      <td>Utah</td>\n",
       "      <td>UT</td>\n",
       "    </tr>\n",
       "    <tr>\n",
       "      <th>10224000</th>\n",
       "      <td>SEVIER RIVER NEAR LYNNDYL, UT</td>\n",
       "      <td>6010.000</td>\n",
       "      <td>7290.0</td>\n",
       "      <td>40.2</td>\n",
       "      <td>2.68</td>\n",
       "      <td>0.4700</td>\n",
       "      <td>8.32</td>\n",
       "      <td>4.26</td>\n",
       "      <td>17.0</td>\n",
       "      <td>135.00</td>\n",
       "      <td>...</td>\n",
       "      <td>-112.393834</td>\n",
       "      <td>4660.00</td>\n",
       "      <td>20.00</td>\n",
       "      <td>16030005.0</td>\n",
       "      <td>10.0</td>\n",
       "      <td>1980-10-01</td>\n",
       "      <td>1981-10-09</td>\n",
       "      <td>14417.10000</td>\n",
       "      <td>Utah</td>\n",
       "      <td>UT</td>\n",
       "    </tr>\n",
       "    <tr>\n",
       "      <th>10242000</th>\n",
       "      <td>COAL CREEK NEAR CEDAR CITY, UT</td>\n",
       "      <td>80.400</td>\n",
       "      <td>8550.0</td>\n",
       "      <td>69.8</td>\n",
       "      <td>1.25</td>\n",
       "      <td>0.1300</td>\n",
       "      <td>8.65</td>\n",
       "      <td>48.50</td>\n",
       "      <td>24.9</td>\n",
       "      <td>10.00</td>\n",
       "      <td>...</td>\n",
       "      <td>-113.034670</td>\n",
       "      <td>5983.01</td>\n",
       "      <td>0.20</td>\n",
       "      <td>16030006.0</td>\n",
       "      <td>60.0</td>\n",
       "      <td>1915-06-01</td>\n",
       "      <td>2022-11-26</td>\n",
       "      <td>208.68570</td>\n",
       "      <td>Utah</td>\n",
       "      <td>UT</td>\n",
       "    </tr>\n",
       "    <tr>\n",
       "      <th>10234500</th>\n",
       "      <td>BEAVER RIVER NEAR BEAVER, UT</td>\n",
       "      <td>NaN</td>\n",
       "      <td>NaN</td>\n",
       "      <td>NaN</td>\n",
       "      <td>NaN</td>\n",
       "      <td>NaN</td>\n",
       "      <td>NaN</td>\n",
       "      <td>NaN</td>\n",
       "      <td>NaN</td>\n",
       "      <td>16.10</td>\n",
       "      <td>...</td>\n",
       "      <td>-112.568286</td>\n",
       "      <td>6203.51</td>\n",
       "      <td>0.25</td>\n",
       "      <td>16030007.0</td>\n",
       "      <td>60.0</td>\n",
       "      <td>1914-03-15</td>\n",
       "      <td>2022-11-22</td>\n",
       "      <td>236.41920</td>\n",
       "      <td>Utah</td>\n",
       "      <td>UT</td>\n",
       "    </tr>\n",
       "  </tbody>\n",
       "</table>\n",
       "<p>125 rows × 24 columns</p>\n",
       "</div>"
      ],
      "text/plain": [
       "                                           NWIS_sitename  Drainage_area_mi2  \\\n",
       "NWIS_site_id                                                                  \n",
       "09413500                VIRGIN RIVER NEAR ST. GEORGE, UT           3980.000   \n",
       "09413900             BEAVER DAM WASH NEAR ENTERPRISE, UT             59.000   \n",
       "10163000                        PROVO RIVER AT PROVO, UT                NaN   \n",
       "09180000                    DOLORES RIVER NEAR CISCO, UT           4570.000   \n",
       "09180500                   COLORADO RIVER NEAR CISCO, UT              0.001   \n",
       "...                                                  ...                ...   \n",
       "10215900      MANTI CREEK BLW DUGWAY CREEK, NR MANTI, UT             25.700   \n",
       "10219000                      SEVIER RIVER NEAR JUAB, UT           5160.000   \n",
       "10224000                   SEVIER RIVER NEAR LYNNDYL, UT           6010.000   \n",
       "10242000                  COAL CREEK NEAR CEDAR CITY, UT             80.400   \n",
       "10234500                    BEAVER RIVER NEAR BEAVER, UT                NaN   \n",
       "\n",
       "              Mean_Basin_Elev_ft  Perc_Forest  Perc_Develop  Perc_Imperv  \\\n",
       "NWIS_site_id                                                               \n",
       "09413500                  5350.0         23.2          1.75       0.5300   \n",
       "09413900                  5950.0         62.6          0.00       0.0530   \n",
       "10163000                     NaN          NaN           NaN          NaN   \n",
       "09180000                  7690.0         56.3          0.70       0.2300   \n",
       "09180500                  4170.0          0.0          0.00       0.0000   \n",
       "...                          ...          ...           ...          ...   \n",
       "10215900                  9170.0         56.6          1.03       0.0616   \n",
       "10219000                  7520.0         42.7          2.80       0.4500   \n",
       "10224000                  7290.0         40.2          2.68       0.4700   \n",
       "10242000                  8550.0         69.8          1.25       0.1300   \n",
       "10234500                     NaN          NaN           NaN          NaN   \n",
       "\n",
       "              Perc_Herbace  Perc_Slop_30  Mean_Ann_Precip_in  Ann_low_cfs  \\\n",
       "NWIS_site_id                                                                \n",
       "09413500             11.40          1.48                14.7        62.60   \n",
       "09413900              1.88         35.00                19.0         2.05   \n",
       "10163000               NaN           NaN                 NaN        34.60   \n",
       "09180000              8.55          6.57                20.4       101.80   \n",
       "09180500              0.00         13.70                 NaN      2293.00   \n",
       "...                    ...           ...                 ...          ...   \n",
       "10215900             14.50         34.80                23.8        10.60   \n",
       "10219000              7.97          1.01                17.2       119.60   \n",
       "10224000              8.32          4.26                17.0       135.00   \n",
       "10242000              8.65         48.50                24.9        10.00   \n",
       "10234500               NaN           NaN                 NaN        16.10   \n",
       "\n",
       "              ...  dec_long_va   alt_va alt_acy_va      huc_cd  parm_cd  \\\n",
       "NWIS_site_id  ...                                                         \n",
       "09413500      ...  -113.680516  2401.58       0.20  15010010.0     60.0   \n",
       "09413900      ...  -114.046646  4740.53       0.24  15010010.0     60.0   \n",
       "10163000      ...  -111.711194  4503.00       1.60         NaN     60.0   \n",
       "09180000      ...  -109.195114  4165.00      20.00  14030004.0     10.0   \n",
       "09180500      ...  -109.293449  4092.35       0.24  14030005.0     10.0   \n",
       "...           ...          ...      ...        ...         ...      ...   \n",
       "10215900      ...  -111.579916  6505.44       0.21  16030004.0     60.0   \n",
       "10219000      ...  -112.039656  4930.86       0.23  16030005.0     60.0   \n",
       "10224000      ...  -112.393834  4660.00      20.00  16030005.0     10.0   \n",
       "10242000      ...  -113.034670  5983.01       0.20  16030006.0     60.0   \n",
       "10234500      ...  -112.568286  6203.51       0.25  16030007.0     60.0   \n",
       "\n",
       "              begin_date    end_date   drain_sqkm  state state_id  \n",
       "NWIS_site_id                                                       \n",
       "09413500      1950-10-01  2022-11-27  10303.00000   Utah       UT  \n",
       "09413900      1991-10-01  2022-11-26    150.34950   Utah       UT  \n",
       "10163000      1903-10-01  2022-11-26   1767.91200   Utah       UT  \n",
       "09180000      2006-07-18  2022-11-28  11837.85000   Utah       UT  \n",
       "09180500      2006-08-25  2022-11-28          NaN   Utah       UT  \n",
       "...                  ...         ...          ...    ...      ...  \n",
       "10215900      1964-10-01  2022-11-26     68.55569   Utah       UT  \n",
       "10219000      1911-10-01  2022-11-26  13101.59000   Utah       UT  \n",
       "10224000      1980-10-01  1981-10-09  14417.10000   Utah       UT  \n",
       "10242000      1915-06-01  2022-11-26    208.68570   Utah       UT  \n",
       "10234500      1914-03-15  2022-11-22    236.41920   Utah       UT  \n",
       "\n",
       "[125 rows x 24 columns]"
      ]
     },
     "execution_count": 20,
     "metadata": {},
     "output_type": "execute_result"
    }
   ],
   "source": [
    "U_state = state.upper()\n",
    "Streamstats[Streamstats['state_id'] == U_state]"
   ]
  },
  {
   "cell_type": "code",
   "execution_count": 21,
   "id": "631e041f",
   "metadata": {},
   "outputs": [
    {
     "data": {
      "text/html": [
       "<div>\n",
       "<style scoped>\n",
       "    .dataframe tbody tr th:only-of-type {\n",
       "        vertical-align: middle;\n",
       "    }\n",
       "\n",
       "    .dataframe tbody tr th {\n",
       "        vertical-align: top;\n",
       "    }\n",
       "\n",
       "    .dataframe thead th {\n",
       "        text-align: right;\n",
       "    }\n",
       "</style>\n",
       "<table border=\"1\" class=\"dataframe\">\n",
       "  <thead>\n",
       "    <tr style=\"text-align: right;\">\n",
       "      <th></th>\n",
       "      <th>NWIS_sitename</th>\n",
       "      <th>Drainage_area_mi2</th>\n",
       "      <th>Mean_Basin_Elev_ft</th>\n",
       "      <th>Perc_Forest</th>\n",
       "      <th>Perc_Develop</th>\n",
       "      <th>Perc_Imperv</th>\n",
       "      <th>Perc_Herbace</th>\n",
       "      <th>Perc_Slop_30</th>\n",
       "      <th>Mean_Ann_Precip_in</th>\n",
       "      <th>Ann_low_cfs</th>\n",
       "      <th>...</th>\n",
       "      <th>dec_long_va</th>\n",
       "      <th>alt_va</th>\n",
       "      <th>alt_acy_va</th>\n",
       "      <th>huc_cd</th>\n",
       "      <th>parm_cd</th>\n",
       "      <th>begin_date</th>\n",
       "      <th>end_date</th>\n",
       "      <th>drain_sqkm</th>\n",
       "      <th>state</th>\n",
       "      <th>state_id</th>\n",
       "    </tr>\n",
       "    <tr>\n",
       "      <th>NWIS_site_id</th>\n",
       "      <th></th>\n",
       "      <th></th>\n",
       "      <th></th>\n",
       "      <th></th>\n",
       "      <th></th>\n",
       "      <th></th>\n",
       "      <th></th>\n",
       "      <th></th>\n",
       "      <th></th>\n",
       "      <th></th>\n",
       "      <th></th>\n",
       "      <th></th>\n",
       "      <th></th>\n",
       "      <th></th>\n",
       "      <th></th>\n",
       "      <th></th>\n",
       "      <th></th>\n",
       "      <th></th>\n",
       "      <th></th>\n",
       "      <th></th>\n",
       "      <th></th>\n",
       "    </tr>\n",
       "  </thead>\n",
       "  <tbody>\n",
       "    <tr>\n",
       "      <th>02378780</th>\n",
       "      <td>D'OLIVE CREEK NEAR BRIDGEHEAD, AL</td>\n",
       "      <td>5.210000</td>\n",
       "      <td>NaN</td>\n",
       "      <td>NaN</td>\n",
       "      <td>53.90</td>\n",
       "      <td>11.50</td>\n",
       "      <td>NaN</td>\n",
       "      <td>NaN</td>\n",
       "      <td>NaN</td>\n",
       "      <td>9.99</td>\n",
       "      <td>...</td>\n",
       "      <td>-87.889647</td>\n",
       "      <td>NaN</td>\n",
       "      <td>NaN</td>\n",
       "      <td>NaN</td>\n",
       "      <td>60.0</td>\n",
       "      <td>2017-01-04</td>\n",
       "      <td>2020-10-25</td>\n",
       "      <td>NaN</td>\n",
       "      <td>Alabama</td>\n",
       "      <td>AL</td>\n",
       "    </tr>\n",
       "    <tr>\n",
       "      <th>02339495</th>\n",
       "      <td>OSELIGEE CREEK NEAR LANETT AL</td>\n",
       "      <td>86.300000</td>\n",
       "      <td>NaN</td>\n",
       "      <td>NaN</td>\n",
       "      <td>4.49</td>\n",
       "      <td>0.64</td>\n",
       "      <td>NaN</td>\n",
       "      <td>NaN</td>\n",
       "      <td>NaN</td>\n",
       "      <td>35.80</td>\n",
       "      <td>...</td>\n",
       "      <td>-85.196331</td>\n",
       "      <td>NaN</td>\n",
       "      <td>NaN</td>\n",
       "      <td>3130002.0</td>\n",
       "      <td>60.0</td>\n",
       "      <td>2006-07-26</td>\n",
       "      <td>2022-11-27</td>\n",
       "      <td>222.8292</td>\n",
       "      <td>Alabama</td>\n",
       "      <td>AL</td>\n",
       "    </tr>\n",
       "    <tr>\n",
       "      <th>02342500</th>\n",
       "      <td>UCHEE CREEK NEAR FORT MITCHELL, AL.</td>\n",
       "      <td>322.000000</td>\n",
       "      <td>NaN</td>\n",
       "      <td>NaN</td>\n",
       "      <td>8.68</td>\n",
       "      <td>1.42</td>\n",
       "      <td>NaN</td>\n",
       "      <td>NaN</td>\n",
       "      <td>NaN</td>\n",
       "      <td>124.90</td>\n",
       "      <td>...</td>\n",
       "      <td>-85.014931</td>\n",
       "      <td>201.76</td>\n",
       "      <td>0.01</td>\n",
       "      <td>3130003.0</td>\n",
       "      <td>60.0</td>\n",
       "      <td>1946-10-01</td>\n",
       "      <td>2022-11-27</td>\n",
       "      <td>830.5740</td>\n",
       "      <td>Alabama</td>\n",
       "      <td>AL</td>\n",
       "    </tr>\n",
       "    <tr>\n",
       "      <th>02369800</th>\n",
       "      <td>BLACKWATER RIVER NEAR BRADLEY AL</td>\n",
       "      <td>0.044400</td>\n",
       "      <td>NaN</td>\n",
       "      <td>NaN</td>\n",
       "      <td>10.20</td>\n",
       "      <td>0.78</td>\n",
       "      <td>NaN</td>\n",
       "      <td>NaN</td>\n",
       "      <td>NaN</td>\n",
       "      <td>48.00</td>\n",
       "      <td>...</td>\n",
       "      <td>-86.709957</td>\n",
       "      <td>121.87</td>\n",
       "      <td>0.10</td>\n",
       "      <td>3140104.0</td>\n",
       "      <td>60.0</td>\n",
       "      <td>1967-10-01</td>\n",
       "      <td>2022-11-27</td>\n",
       "      <td>227.5129</td>\n",
       "      <td>Alabama</td>\n",
       "      <td>AL</td>\n",
       "    </tr>\n",
       "    <tr>\n",
       "      <th>02377570</th>\n",
       "      <td>STYX RIVER NEAR ELSANOR, AL.</td>\n",
       "      <td>191.000000</td>\n",
       "      <td>NaN</td>\n",
       "      <td>NaN</td>\n",
       "      <td>4.72</td>\n",
       "      <td>0.74</td>\n",
       "      <td>NaN</td>\n",
       "      <td>NaN</td>\n",
       "      <td>NaN</td>\n",
       "      <td>157.90</td>\n",
       "      <td>...</td>\n",
       "      <td>-87.547206</td>\n",
       "      <td>NaN</td>\n",
       "      <td>NaN</td>\n",
       "      <td>3140106.0</td>\n",
       "      <td>60.0</td>\n",
       "      <td>1987-10-01</td>\n",
       "      <td>2022-11-27</td>\n",
       "      <td>495.4464</td>\n",
       "      <td>Alabama</td>\n",
       "      <td>AL</td>\n",
       "    </tr>\n",
       "    <tr>\n",
       "      <th>...</th>\n",
       "      <td>...</td>\n",
       "      <td>...</td>\n",
       "      <td>...</td>\n",
       "      <td>...</td>\n",
       "      <td>...</td>\n",
       "      <td>...</td>\n",
       "      <td>...</td>\n",
       "      <td>...</td>\n",
       "      <td>...</td>\n",
       "      <td>...</td>\n",
       "      <td>...</td>\n",
       "      <td>...</td>\n",
       "      <td>...</td>\n",
       "      <td>...</td>\n",
       "      <td>...</td>\n",
       "      <td>...</td>\n",
       "      <td>...</td>\n",
       "      <td>...</td>\n",
       "      <td>...</td>\n",
       "      <td>...</td>\n",
       "      <td>...</td>\n",
       "    </tr>\n",
       "    <tr>\n",
       "      <th>03213500</th>\n",
       "      <td>PANTHER CREEK NEAR PANTHER, WV</td>\n",
       "      <td>31.000000</td>\n",
       "      <td>1780.0</td>\n",
       "      <td>NaN</td>\n",
       "      <td>3.50</td>\n",
       "      <td>NaN</td>\n",
       "      <td>NaN</td>\n",
       "      <td>NaN</td>\n",
       "      <td>NaN</td>\n",
       "      <td>17.20</td>\n",
       "      <td>...</td>\n",
       "      <td>-81.871111</td>\n",
       "      <td>1049.00</td>\n",
       "      <td>20.00</td>\n",
       "      <td>5070201.0</td>\n",
       "      <td>10.0</td>\n",
       "      <td>1973-05-10</td>\n",
       "      <td>1975-10-21</td>\n",
       "      <td>80.3709</td>\n",
       "      <td>West Virginia</td>\n",
       "      <td>WV</td>\n",
       "    </tr>\n",
       "    <tr>\n",
       "      <th>03214500</th>\n",
       "      <td>TUG FORK AT KERMIT, WV</td>\n",
       "      <td>0.000077</td>\n",
       "      <td>626.0</td>\n",
       "      <td>NaN</td>\n",
       "      <td>100.00</td>\n",
       "      <td>NaN</td>\n",
       "      <td>NaN</td>\n",
       "      <td>NaN</td>\n",
       "      <td>NaN</td>\n",
       "      <td>534.60</td>\n",
       "      <td>...</td>\n",
       "      <td>-82.408758</td>\n",
       "      <td>574.07</td>\n",
       "      <td>20.00</td>\n",
       "      <td>5070201.0</td>\n",
       "      <td>10.0</td>\n",
       "      <td>2011-06-09</td>\n",
       "      <td>2018-10-19</td>\n",
       "      <td>3309.0550</td>\n",
       "      <td>West Virginia</td>\n",
       "      <td>WV</td>\n",
       "    </tr>\n",
       "    <tr>\n",
       "      <th>03206600</th>\n",
       "      <td>EAST FORK TWELVEPOLE CREEK NEAR DUNLOW, WV</td>\n",
       "      <td>37.900000</td>\n",
       "      <td>1114.0</td>\n",
       "      <td>NaN</td>\n",
       "      <td>2.60</td>\n",
       "      <td>NaN</td>\n",
       "      <td>NaN</td>\n",
       "      <td>NaN</td>\n",
       "      <td>NaN</td>\n",
       "      <td>19.40</td>\n",
       "      <td>...</td>\n",
       "      <td>-82.305972</td>\n",
       "      <td>717.50</td>\n",
       "      <td>0.11</td>\n",
       "      <td>5090102.0</td>\n",
       "      <td>10.0</td>\n",
       "      <td>1974-03-14</td>\n",
       "      <td>1976-03-11</td>\n",
       "      <td>99.5850</td>\n",
       "      <td>West Virginia</td>\n",
       "      <td>WV</td>\n",
       "    </tr>\n",
       "    <tr>\n",
       "      <th>03207061</th>\n",
       "      <td>TWELVEPOLE CREEK AT LAVALETTE, WV</td>\n",
       "      <td>402.000000</td>\n",
       "      <td>958.0</td>\n",
       "      <td>NaN</td>\n",
       "      <td>4.10</td>\n",
       "      <td>NaN</td>\n",
       "      <td>NaN</td>\n",
       "      <td>NaN</td>\n",
       "      <td>NaN</td>\n",
       "      <td>515.90</td>\n",
       "      <td>...</td>\n",
       "      <td>-82.448861</td>\n",
       "      <td>532.00</td>\n",
       "      <td>0.10</td>\n",
       "      <td>5090102.0</td>\n",
       "      <td>60.0</td>\n",
       "      <td>2019-11-14</td>\n",
       "      <td>2022-11-27</td>\n",
       "      <td>NaN</td>\n",
       "      <td>West Virginia</td>\n",
       "      <td>WV</td>\n",
       "    </tr>\n",
       "    <tr>\n",
       "      <th>06043120</th>\n",
       "      <td>Gallatin River above Deer Creek, near Big Sky, MT</td>\n",
       "      <td>NaN</td>\n",
       "      <td>8051.4</td>\n",
       "      <td>61.3</td>\n",
       "      <td>NaN</td>\n",
       "      <td>NaN</td>\n",
       "      <td>NaN</td>\n",
       "      <td>NaN</td>\n",
       "      <td>35.14</td>\n",
       "      <td>568.20</td>\n",
       "      <td>...</td>\n",
       "      <td>-111.211392</td>\n",
       "      <td>5875.00</td>\n",
       "      <td>20.00</td>\n",
       "      <td>10020008.0</td>\n",
       "      <td>10.0</td>\n",
       "      <td>2019-05-02</td>\n",
       "      <td>2022-11-29</td>\n",
       "      <td>NaN</td>\n",
       "      <td>Montana</td>\n",
       "      <td>MT</td>\n",
       "    </tr>\n",
       "  </tbody>\n",
       "</table>\n",
       "<p>4969 rows × 24 columns</p>\n",
       "</div>"
      ],
      "text/plain": [
       "                                                  NWIS_sitename  \\\n",
       "NWIS_site_id                                                      \n",
       "02378780                      D'OLIVE CREEK NEAR BRIDGEHEAD, AL   \n",
       "02339495                          OSELIGEE CREEK NEAR LANETT AL   \n",
       "02342500                    UCHEE CREEK NEAR FORT MITCHELL, AL.   \n",
       "02369800                       BLACKWATER RIVER NEAR BRADLEY AL   \n",
       "02377570                           STYX RIVER NEAR ELSANOR, AL.   \n",
       "...                                                         ...   \n",
       "03213500                         PANTHER CREEK NEAR PANTHER, WV   \n",
       "03214500                                 TUG FORK AT KERMIT, WV   \n",
       "03206600             EAST FORK TWELVEPOLE CREEK NEAR DUNLOW, WV   \n",
       "03207061                      TWELVEPOLE CREEK AT LAVALETTE, WV   \n",
       "06043120      Gallatin River above Deer Creek, near Big Sky, MT   \n",
       "\n",
       "              Drainage_area_mi2  Mean_Basin_Elev_ft  Perc_Forest  \\\n",
       "NWIS_site_id                                                       \n",
       "02378780               5.210000                 NaN          NaN   \n",
       "02339495              86.300000                 NaN          NaN   \n",
       "02342500             322.000000                 NaN          NaN   \n",
       "02369800               0.044400                 NaN          NaN   \n",
       "02377570             191.000000                 NaN          NaN   \n",
       "...                         ...                 ...          ...   \n",
       "03213500              31.000000              1780.0          NaN   \n",
       "03214500               0.000077               626.0          NaN   \n",
       "03206600              37.900000              1114.0          NaN   \n",
       "03207061             402.000000               958.0          NaN   \n",
       "06043120                    NaN              8051.4         61.3   \n",
       "\n",
       "              Perc_Develop  Perc_Imperv  Perc_Herbace  Perc_Slop_30  \\\n",
       "NWIS_site_id                                                          \n",
       "02378780             53.90        11.50           NaN           NaN   \n",
       "02339495              4.49         0.64           NaN           NaN   \n",
       "02342500              8.68         1.42           NaN           NaN   \n",
       "02369800             10.20         0.78           NaN           NaN   \n",
       "02377570              4.72         0.74           NaN           NaN   \n",
       "...                    ...          ...           ...           ...   \n",
       "03213500              3.50          NaN           NaN           NaN   \n",
       "03214500            100.00          NaN           NaN           NaN   \n",
       "03206600              2.60          NaN           NaN           NaN   \n",
       "03207061              4.10          NaN           NaN           NaN   \n",
       "06043120               NaN          NaN           NaN           NaN   \n",
       "\n",
       "              Mean_Ann_Precip_in  Ann_low_cfs  ...  dec_long_va   alt_va  \\\n",
       "NWIS_site_id                                   ...                         \n",
       "02378780                     NaN         9.99  ...   -87.889647      NaN   \n",
       "02339495                     NaN        35.80  ...   -85.196331      NaN   \n",
       "02342500                     NaN       124.90  ...   -85.014931   201.76   \n",
       "02369800                     NaN        48.00  ...   -86.709957   121.87   \n",
       "02377570                     NaN       157.90  ...   -87.547206      NaN   \n",
       "...                          ...          ...  ...          ...      ...   \n",
       "03213500                     NaN        17.20  ...   -81.871111  1049.00   \n",
       "03214500                     NaN       534.60  ...   -82.408758   574.07   \n",
       "03206600                     NaN        19.40  ...   -82.305972   717.50   \n",
       "03207061                     NaN       515.90  ...   -82.448861   532.00   \n",
       "06043120                   35.14       568.20  ...  -111.211392  5875.00   \n",
       "\n",
       "             alt_acy_va      huc_cd  parm_cd  begin_date    end_date  \\\n",
       "NWIS_site_id                                                           \n",
       "02378780            NaN         NaN     60.0  2017-01-04  2020-10-25   \n",
       "02339495            NaN   3130002.0     60.0  2006-07-26  2022-11-27   \n",
       "02342500           0.01   3130003.0     60.0  1946-10-01  2022-11-27   \n",
       "02369800           0.10   3140104.0     60.0  1967-10-01  2022-11-27   \n",
       "02377570            NaN   3140106.0     60.0  1987-10-01  2022-11-27   \n",
       "...                 ...         ...      ...         ...         ...   \n",
       "03213500          20.00   5070201.0     10.0  1973-05-10  1975-10-21   \n",
       "03214500          20.00   5070201.0     10.0  2011-06-09  2018-10-19   \n",
       "03206600           0.11   5090102.0     10.0  1974-03-14  1976-03-11   \n",
       "03207061           0.10   5090102.0     60.0  2019-11-14  2022-11-27   \n",
       "06043120          20.00  10020008.0     10.0  2019-05-02  2022-11-29   \n",
       "\n",
       "              drain_sqkm          state state_id  \n",
       "NWIS_site_id                                      \n",
       "02378780             NaN        Alabama       AL  \n",
       "02339495        222.8292        Alabama       AL  \n",
       "02342500        830.5740        Alabama       AL  \n",
       "02369800        227.5129        Alabama       AL  \n",
       "02377570        495.4464        Alabama       AL  \n",
       "...                  ...            ...      ...  \n",
       "03213500         80.3709  West Virginia       WV  \n",
       "03214500       3309.0550  West Virginia       WV  \n",
       "03206600         99.5850  West Virginia       WV  \n",
       "03207061             NaN  West Virginia       WV  \n",
       "06043120             NaN        Montana       MT  \n",
       "\n",
       "[4969 rows x 24 columns]"
      ]
     },
     "execution_count": 21,
     "metadata": {},
     "output_type": "execute_result"
    }
   ],
   "source": [
    "Streamstats"
   ]
  },
  {
   "cell_type": "markdown",
   "id": "38ae7da0",
   "metadata": {},
   "source": [
    "### Modified code to access data using BoxSDK"
   ]
  },
  {
   "cell_type": "code",
   "execution_count": 11,
   "id": "06862ce0",
   "metadata": {
    "scrolled": true
   },
   "outputs": [
    {
     "name": "stderr",
     "output_type": "stream",
     "text": [
      "C:\\Users\\rjohnson18\\AppData\\Local\\Temp\\ipykernel_20776\\340914653.py:13: SettingWithCopyWarning: \n",
      "A value is trying to be set on a copy of a slice from a DataFrame\n",
      "\n",
      "See the caveats in the documentation: https://pandas.pydata.org/pandas-docs/stable/user_guide/indexing.html#returning-a-view-versus-a-copy\n",
      "  Streamstats.NWIS_site_id.loc[i] = str(Streamstats.NWIS_site_id.loc[i])\n"
     ]
    },
    {
     "data": {
      "text/html": [
       "<div>\n",
       "<style scoped>\n",
       "    .dataframe tbody tr th:only-of-type {\n",
       "        vertical-align: middle;\n",
       "    }\n",
       "\n",
       "    .dataframe tbody tr th {\n",
       "        vertical-align: top;\n",
       "    }\n",
       "\n",
       "    .dataframe thead th {\n",
       "        text-align: right;\n",
       "    }\n",
       "</style>\n",
       "<table border=\"1\" class=\"dataframe\">\n",
       "  <thead>\n",
       "    <tr style=\"text-align: right;\">\n",
       "      <th></th>\n",
       "      <th>NWIS_sitename</th>\n",
       "      <th>Drainage_area_mi2</th>\n",
       "      <th>Mean_Basin_Elev_ft</th>\n",
       "      <th>Perc_Forest</th>\n",
       "      <th>Perc_Develop</th>\n",
       "      <th>Perc_Imperv</th>\n",
       "      <th>Perc_Herbace</th>\n",
       "      <th>Perc_Slop_30</th>\n",
       "      <th>Mean_Ann_Precip_in</th>\n",
       "      <th>Ann_low_cfs</th>\n",
       "      <th>...</th>\n",
       "      <th>dec_long_va</th>\n",
       "      <th>alt_va</th>\n",
       "      <th>alt_acy_va</th>\n",
       "      <th>huc_cd</th>\n",
       "      <th>parm_cd</th>\n",
       "      <th>begin_date</th>\n",
       "      <th>end_date</th>\n",
       "      <th>drain_sqkm</th>\n",
       "      <th>state</th>\n",
       "      <th>state_id</th>\n",
       "    </tr>\n",
       "    <tr>\n",
       "      <th>NWIS_site_id</th>\n",
       "      <th></th>\n",
       "      <th></th>\n",
       "      <th></th>\n",
       "      <th></th>\n",
       "      <th></th>\n",
       "      <th></th>\n",
       "      <th></th>\n",
       "      <th></th>\n",
       "      <th></th>\n",
       "      <th></th>\n",
       "      <th></th>\n",
       "      <th></th>\n",
       "      <th></th>\n",
       "      <th></th>\n",
       "      <th></th>\n",
       "      <th></th>\n",
       "      <th></th>\n",
       "      <th></th>\n",
       "      <th></th>\n",
       "      <th></th>\n",
       "      <th></th>\n",
       "    </tr>\n",
       "  </thead>\n",
       "  <tbody>\n",
       "    <tr>\n",
       "      <th>02378780</th>\n",
       "      <td>D'OLIVE CREEK NEAR BRIDGEHEAD, AL</td>\n",
       "      <td>5.210000</td>\n",
       "      <td>NaN</td>\n",
       "      <td>NaN</td>\n",
       "      <td>53.90</td>\n",
       "      <td>11.50</td>\n",
       "      <td>NaN</td>\n",
       "      <td>NaN</td>\n",
       "      <td>NaN</td>\n",
       "      <td>9.99</td>\n",
       "      <td>...</td>\n",
       "      <td>-87.889647</td>\n",
       "      <td>NaN</td>\n",
       "      <td>NaN</td>\n",
       "      <td>NaN</td>\n",
       "      <td>60.0</td>\n",
       "      <td>2017-01-04</td>\n",
       "      <td>2020-10-25</td>\n",
       "      <td>NaN</td>\n",
       "      <td>Alabama</td>\n",
       "      <td>AL</td>\n",
       "    </tr>\n",
       "    <tr>\n",
       "      <th>02339495</th>\n",
       "      <td>OSELIGEE CREEK NEAR LANETT AL</td>\n",
       "      <td>86.300000</td>\n",
       "      <td>NaN</td>\n",
       "      <td>NaN</td>\n",
       "      <td>4.49</td>\n",
       "      <td>0.64</td>\n",
       "      <td>NaN</td>\n",
       "      <td>NaN</td>\n",
       "      <td>NaN</td>\n",
       "      <td>35.80</td>\n",
       "      <td>...</td>\n",
       "      <td>-85.196331</td>\n",
       "      <td>NaN</td>\n",
       "      <td>NaN</td>\n",
       "      <td>3130002.0</td>\n",
       "      <td>60.0</td>\n",
       "      <td>2006-07-26</td>\n",
       "      <td>2022-11-27</td>\n",
       "      <td>222.8292</td>\n",
       "      <td>Alabama</td>\n",
       "      <td>AL</td>\n",
       "    </tr>\n",
       "    <tr>\n",
       "      <th>02342500</th>\n",
       "      <td>UCHEE CREEK NEAR FORT MITCHELL, AL.</td>\n",
       "      <td>322.000000</td>\n",
       "      <td>NaN</td>\n",
       "      <td>NaN</td>\n",
       "      <td>8.68</td>\n",
       "      <td>1.42</td>\n",
       "      <td>NaN</td>\n",
       "      <td>NaN</td>\n",
       "      <td>NaN</td>\n",
       "      <td>124.90</td>\n",
       "      <td>...</td>\n",
       "      <td>-85.014931</td>\n",
       "      <td>201.76</td>\n",
       "      <td>0.01</td>\n",
       "      <td>3130003.0</td>\n",
       "      <td>60.0</td>\n",
       "      <td>1946-10-01</td>\n",
       "      <td>2022-11-27</td>\n",
       "      <td>830.5740</td>\n",
       "      <td>Alabama</td>\n",
       "      <td>AL</td>\n",
       "    </tr>\n",
       "    <tr>\n",
       "      <th>02369800</th>\n",
       "      <td>BLACKWATER RIVER NEAR BRADLEY AL</td>\n",
       "      <td>0.044400</td>\n",
       "      <td>NaN</td>\n",
       "      <td>NaN</td>\n",
       "      <td>10.20</td>\n",
       "      <td>0.78</td>\n",
       "      <td>NaN</td>\n",
       "      <td>NaN</td>\n",
       "      <td>NaN</td>\n",
       "      <td>48.00</td>\n",
       "      <td>...</td>\n",
       "      <td>-86.709957</td>\n",
       "      <td>121.87</td>\n",
       "      <td>0.10</td>\n",
       "      <td>3140104.0</td>\n",
       "      <td>60.0</td>\n",
       "      <td>1967-10-01</td>\n",
       "      <td>2022-11-27</td>\n",
       "      <td>227.5129</td>\n",
       "      <td>Alabama</td>\n",
       "      <td>AL</td>\n",
       "    </tr>\n",
       "    <tr>\n",
       "      <th>02377570</th>\n",
       "      <td>STYX RIVER NEAR ELSANOR, AL.</td>\n",
       "      <td>191.000000</td>\n",
       "      <td>NaN</td>\n",
       "      <td>NaN</td>\n",
       "      <td>4.72</td>\n",
       "      <td>0.74</td>\n",
       "      <td>NaN</td>\n",
       "      <td>NaN</td>\n",
       "      <td>NaN</td>\n",
       "      <td>157.90</td>\n",
       "      <td>...</td>\n",
       "      <td>-87.547206</td>\n",
       "      <td>NaN</td>\n",
       "      <td>NaN</td>\n",
       "      <td>3140106.0</td>\n",
       "      <td>60.0</td>\n",
       "      <td>1987-10-01</td>\n",
       "      <td>2022-11-27</td>\n",
       "      <td>495.4464</td>\n",
       "      <td>Alabama</td>\n",
       "      <td>AL</td>\n",
       "    </tr>\n",
       "    <tr>\n",
       "      <th>...</th>\n",
       "      <td>...</td>\n",
       "      <td>...</td>\n",
       "      <td>...</td>\n",
       "      <td>...</td>\n",
       "      <td>...</td>\n",
       "      <td>...</td>\n",
       "      <td>...</td>\n",
       "      <td>...</td>\n",
       "      <td>...</td>\n",
       "      <td>...</td>\n",
       "      <td>...</td>\n",
       "      <td>...</td>\n",
       "      <td>...</td>\n",
       "      <td>...</td>\n",
       "      <td>...</td>\n",
       "      <td>...</td>\n",
       "      <td>...</td>\n",
       "      <td>...</td>\n",
       "      <td>...</td>\n",
       "      <td>...</td>\n",
       "      <td>...</td>\n",
       "    </tr>\n",
       "    <tr>\n",
       "      <th>03213500</th>\n",
       "      <td>PANTHER CREEK NEAR PANTHER, WV</td>\n",
       "      <td>31.000000</td>\n",
       "      <td>1780.0</td>\n",
       "      <td>NaN</td>\n",
       "      <td>3.50</td>\n",
       "      <td>NaN</td>\n",
       "      <td>NaN</td>\n",
       "      <td>NaN</td>\n",
       "      <td>NaN</td>\n",
       "      <td>17.20</td>\n",
       "      <td>...</td>\n",
       "      <td>-81.871111</td>\n",
       "      <td>1049.00</td>\n",
       "      <td>20.00</td>\n",
       "      <td>5070201.0</td>\n",
       "      <td>10.0</td>\n",
       "      <td>1973-05-10</td>\n",
       "      <td>1975-10-21</td>\n",
       "      <td>80.3709</td>\n",
       "      <td>West Virginia</td>\n",
       "      <td>WV</td>\n",
       "    </tr>\n",
       "    <tr>\n",
       "      <th>03214500</th>\n",
       "      <td>TUG FORK AT KERMIT, WV</td>\n",
       "      <td>0.000077</td>\n",
       "      <td>626.0</td>\n",
       "      <td>NaN</td>\n",
       "      <td>100.00</td>\n",
       "      <td>NaN</td>\n",
       "      <td>NaN</td>\n",
       "      <td>NaN</td>\n",
       "      <td>NaN</td>\n",
       "      <td>534.60</td>\n",
       "      <td>...</td>\n",
       "      <td>-82.408758</td>\n",
       "      <td>574.07</td>\n",
       "      <td>20.00</td>\n",
       "      <td>5070201.0</td>\n",
       "      <td>10.0</td>\n",
       "      <td>2011-06-09</td>\n",
       "      <td>2018-10-19</td>\n",
       "      <td>3309.0550</td>\n",
       "      <td>West Virginia</td>\n",
       "      <td>WV</td>\n",
       "    </tr>\n",
       "    <tr>\n",
       "      <th>03206600</th>\n",
       "      <td>EAST FORK TWELVEPOLE CREEK NEAR DUNLOW, WV</td>\n",
       "      <td>37.900000</td>\n",
       "      <td>1114.0</td>\n",
       "      <td>NaN</td>\n",
       "      <td>2.60</td>\n",
       "      <td>NaN</td>\n",
       "      <td>NaN</td>\n",
       "      <td>NaN</td>\n",
       "      <td>NaN</td>\n",
       "      <td>19.40</td>\n",
       "      <td>...</td>\n",
       "      <td>-82.305972</td>\n",
       "      <td>717.50</td>\n",
       "      <td>0.11</td>\n",
       "      <td>5090102.0</td>\n",
       "      <td>10.0</td>\n",
       "      <td>1974-03-14</td>\n",
       "      <td>1976-03-11</td>\n",
       "      <td>99.5850</td>\n",
       "      <td>West Virginia</td>\n",
       "      <td>WV</td>\n",
       "    </tr>\n",
       "    <tr>\n",
       "      <th>03207061</th>\n",
       "      <td>TWELVEPOLE CREEK AT LAVALETTE, WV</td>\n",
       "      <td>402.000000</td>\n",
       "      <td>958.0</td>\n",
       "      <td>NaN</td>\n",
       "      <td>4.10</td>\n",
       "      <td>NaN</td>\n",
       "      <td>NaN</td>\n",
       "      <td>NaN</td>\n",
       "      <td>NaN</td>\n",
       "      <td>515.90</td>\n",
       "      <td>...</td>\n",
       "      <td>-82.448861</td>\n",
       "      <td>532.00</td>\n",
       "      <td>0.10</td>\n",
       "      <td>5090102.0</td>\n",
       "      <td>60.0</td>\n",
       "      <td>2019-11-14</td>\n",
       "      <td>2022-11-27</td>\n",
       "      <td>NaN</td>\n",
       "      <td>West Virginia</td>\n",
       "      <td>WV</td>\n",
       "    </tr>\n",
       "    <tr>\n",
       "      <th>06043120</th>\n",
       "      <td>Gallatin River above Deer Creek, near Big Sky, MT</td>\n",
       "      <td>NaN</td>\n",
       "      <td>8051.4</td>\n",
       "      <td>61.3</td>\n",
       "      <td>NaN</td>\n",
       "      <td>NaN</td>\n",
       "      <td>NaN</td>\n",
       "      <td>NaN</td>\n",
       "      <td>35.14</td>\n",
       "      <td>568.20</td>\n",
       "      <td>...</td>\n",
       "      <td>-111.211392</td>\n",
       "      <td>5875.00</td>\n",
       "      <td>20.00</td>\n",
       "      <td>10020008.0</td>\n",
       "      <td>10.0</td>\n",
       "      <td>2019-05-02</td>\n",
       "      <td>2022-11-29</td>\n",
       "      <td>NaN</td>\n",
       "      <td>Montana</td>\n",
       "      <td>MT</td>\n",
       "    </tr>\n",
       "  </tbody>\n",
       "</table>\n",
       "<p>4969 rows × 24 columns</p>\n",
       "</div>"
      ],
      "text/plain": [
       "                                                  NWIS_sitename  \\\n",
       "NWIS_site_id                                                      \n",
       "02378780                      D'OLIVE CREEK NEAR BRIDGEHEAD, AL   \n",
       "02339495                          OSELIGEE CREEK NEAR LANETT AL   \n",
       "02342500                    UCHEE CREEK NEAR FORT MITCHELL, AL.   \n",
       "02369800                       BLACKWATER RIVER NEAR BRADLEY AL   \n",
       "02377570                           STYX RIVER NEAR ELSANOR, AL.   \n",
       "...                                                         ...   \n",
       "03213500                         PANTHER CREEK NEAR PANTHER, WV   \n",
       "03214500                                 TUG FORK AT KERMIT, WV   \n",
       "03206600             EAST FORK TWELVEPOLE CREEK NEAR DUNLOW, WV   \n",
       "03207061                      TWELVEPOLE CREEK AT LAVALETTE, WV   \n",
       "06043120      Gallatin River above Deer Creek, near Big Sky, MT   \n",
       "\n",
       "              Drainage_area_mi2  Mean_Basin_Elev_ft  Perc_Forest  \\\n",
       "NWIS_site_id                                                       \n",
       "02378780               5.210000                 NaN          NaN   \n",
       "02339495              86.300000                 NaN          NaN   \n",
       "02342500             322.000000                 NaN          NaN   \n",
       "02369800               0.044400                 NaN          NaN   \n",
       "02377570             191.000000                 NaN          NaN   \n",
       "...                         ...                 ...          ...   \n",
       "03213500              31.000000              1780.0          NaN   \n",
       "03214500               0.000077               626.0          NaN   \n",
       "03206600              37.900000              1114.0          NaN   \n",
       "03207061             402.000000               958.0          NaN   \n",
       "06043120                    NaN              8051.4         61.3   \n",
       "\n",
       "              Perc_Develop  Perc_Imperv  Perc_Herbace  Perc_Slop_30  \\\n",
       "NWIS_site_id                                                          \n",
       "02378780             53.90        11.50           NaN           NaN   \n",
       "02339495              4.49         0.64           NaN           NaN   \n",
       "02342500              8.68         1.42           NaN           NaN   \n",
       "02369800             10.20         0.78           NaN           NaN   \n",
       "02377570              4.72         0.74           NaN           NaN   \n",
       "...                    ...          ...           ...           ...   \n",
       "03213500              3.50          NaN           NaN           NaN   \n",
       "03214500            100.00          NaN           NaN           NaN   \n",
       "03206600              2.60          NaN           NaN           NaN   \n",
       "03207061              4.10          NaN           NaN           NaN   \n",
       "06043120               NaN          NaN           NaN           NaN   \n",
       "\n",
       "              Mean_Ann_Precip_in  Ann_low_cfs  ...  dec_long_va   alt_va  \\\n",
       "NWIS_site_id                                   ...                         \n",
       "02378780                     NaN         9.99  ...   -87.889647      NaN   \n",
       "02339495                     NaN        35.80  ...   -85.196331      NaN   \n",
       "02342500                     NaN       124.90  ...   -85.014931   201.76   \n",
       "02369800                     NaN        48.00  ...   -86.709957   121.87   \n",
       "02377570                     NaN       157.90  ...   -87.547206      NaN   \n",
       "...                          ...          ...  ...          ...      ...   \n",
       "03213500                     NaN        17.20  ...   -81.871111  1049.00   \n",
       "03214500                     NaN       534.60  ...   -82.408758   574.07   \n",
       "03206600                     NaN        19.40  ...   -82.305972   717.50   \n",
       "03207061                     NaN       515.90  ...   -82.448861   532.00   \n",
       "06043120                   35.14       568.20  ...  -111.211392  5875.00   \n",
       "\n",
       "             alt_acy_va      huc_cd  parm_cd  begin_date    end_date  \\\n",
       "NWIS_site_id                                                           \n",
       "02378780            NaN         NaN     60.0  2017-01-04  2020-10-25   \n",
       "02339495            NaN   3130002.0     60.0  2006-07-26  2022-11-27   \n",
       "02342500           0.01   3130003.0     60.0  1946-10-01  2022-11-27   \n",
       "02369800           0.10   3140104.0     60.0  1967-10-01  2022-11-27   \n",
       "02377570            NaN   3140106.0     60.0  1987-10-01  2022-11-27   \n",
       "...                 ...         ...      ...         ...         ...   \n",
       "03213500          20.00   5070201.0     10.0  1973-05-10  1975-10-21   \n",
       "03214500          20.00   5070201.0     10.0  2011-06-09  2018-10-19   \n",
       "03206600           0.11   5090102.0     10.0  1974-03-14  1976-03-11   \n",
       "03207061           0.10   5090102.0     60.0  2019-11-14  2022-11-27   \n",
       "06043120          20.00  10020008.0     10.0  2019-05-02  2022-11-29   \n",
       "\n",
       "              drain_sqkm          state state_id  \n",
       "NWIS_site_id                                      \n",
       "02378780             NaN        Alabama       AL  \n",
       "02339495        222.8292        Alabama       AL  \n",
       "02342500        830.5740        Alabama       AL  \n",
       "02369800        227.5129        Alabama       AL  \n",
       "02377570        495.4464        Alabama       AL  \n",
       "...                  ...            ...      ...  \n",
       "03213500         80.3709  West Virginia       WV  \n",
       "03214500       3309.0550  West Virginia       WV  \n",
       "03206600         99.5850  West Virginia       WV  \n",
       "03207061             NaN  West Virginia       WV  \n",
       "06043120             NaN        Montana       MT  \n",
       "\n",
       "[4969 rows x 24 columns]"
      ]
     },
     "execution_count": 11,
     "metadata": {},
     "output_type": "execute_result"
    }
   ],
   "source": [
    "#Get Streamstats\n",
    "streamstats_id = '1182325029983'\n",
    "boxfile = bf(CLIENT_ID=CLIENT_ID, CLIENT_SECRET=CLIENT_SECRET, ACCESS_TOKEN=ACCESS_TOKEN)\n",
    "csvFile = boxfile.GetFile(streamstats_id).decode(\"utf-8\")\n",
    "ioFile = io.StringIO(csvFile)\n",
    "\n",
    "\n",
    "Streamstats = pd.read_csv(filepath_or_buffer = ioFile, delimiter = \",\")\n",
    "Streamstats.pop('Unnamed: 0')\n",
    "#NWIS site id's need to be 8 digits, < 8 need a zero added before.\n",
    "#Make all NWIS sites correct 8 digit code\n",
    "for i in np.arange(0, len(Streamstats),1):\n",
    "            Streamstats.NWIS_site_id.loc[i] = str(Streamstats.NWIS_site_id.loc[i])\n",
    "            if len(Streamstats.NWIS_site_id.loc[i]) < 8:\n",
    "                Streamstats.NWIS_site_id.loc[i] = '0' + str(Streamstats.NWIS_site_id.loc[i])\n",
    "            else:\n",
    "                Streamstats.NWIS_site_id.loc[i] = str(Streamstats.NWIS_site_id.loc[i])\n",
    "\n",
    "Streamstats.drop_duplicates(subset = 'NWIS_site_id', inplace = True)\n",
    "Streamstats.set_index('NWIS_site_id', drop = True, inplace = True)\n",
    "\n",
    "Streamstats"
   ]
  },
  {
   "cell_type": "code",
   "execution_count": null,
   "id": "6da50bee",
   "metadata": {},
   "outputs": [],
   "source": []
  },
  {
   "cell_type": "code",
   "execution_count": 41,
   "id": "1ed3622d",
   "metadata": {
    "scrolled": true
   },
   "outputs": [
    {
     "data": {
      "text/html": [
       "<div>\n",
       "<style scoped>\n",
       "    .dataframe tbody tr th:only-of-type {\n",
       "        vertical-align: middle;\n",
       "    }\n",
       "\n",
       "    .dataframe tbody tr th {\n",
       "        vertical-align: top;\n",
       "    }\n",
       "\n",
       "    .dataframe thead th {\n",
       "        text-align: right;\n",
       "    }\n",
       "</style>\n",
       "<table border=\"1\" class=\"dataframe\">\n",
       "  <thead>\n",
       "    <tr style=\"text-align: right;\">\n",
       "      <th></th>\n",
       "      <th>NWIS</th>\n",
       "      <th>NWIS_id</th>\n",
       "    </tr>\n",
       "  </thead>\n",
       "  <tbody>\n",
       "    <tr>\n",
       "      <th>0</th>\n",
       "      <td>NWIS_07032000</td>\n",
       "      <td>1.183190e+12</td>\n",
       "    </tr>\n",
       "    <tr>\n",
       "      <th>1</th>\n",
       "      <td>NWIS_07047855</td>\n",
       "      <td>1.183080e+12</td>\n",
       "    </tr>\n",
       "    <tr>\n",
       "      <th>2</th>\n",
       "      <td>NWIS_07047942</td>\n",
       "      <td>1.183080e+12</td>\n",
       "    </tr>\n",
       "    <tr>\n",
       "      <th>3</th>\n",
       "      <td>NWIS_07047950</td>\n",
       "      <td>1.183080e+12</td>\n",
       "    </tr>\n",
       "    <tr>\n",
       "      <th>4</th>\n",
       "      <td>NWIS_07048550</td>\n",
       "      <td>1.183070e+12</td>\n",
       "    </tr>\n",
       "    <tr>\n",
       "      <th>...</th>\n",
       "      <td>...</td>\n",
       "      <td>...</td>\n",
       "    </tr>\n",
       "    <tr>\n",
       "      <th>4527</th>\n",
       "      <td>NWIS_02408150</td>\n",
       "      <td>1.182370e+12</td>\n",
       "    </tr>\n",
       "    <tr>\n",
       "      <th>4528</th>\n",
       "      <td>NWIS_02374950</td>\n",
       "      <td>1.182370e+12</td>\n",
       "    </tr>\n",
       "    <tr>\n",
       "      <th>4529</th>\n",
       "      <td>NWIS_02372250</td>\n",
       "      <td>1.182370e+12</td>\n",
       "    </tr>\n",
       "    <tr>\n",
       "      <th>4530</th>\n",
       "      <td>NWIS_02362240</td>\n",
       "      <td>1.182370e+12</td>\n",
       "    </tr>\n",
       "    <tr>\n",
       "      <th>4531</th>\n",
       "      <td>NWIS_02361000</td>\n",
       "      <td>1.182370e+12</td>\n",
       "    </tr>\n",
       "  </tbody>\n",
       "</table>\n",
       "<p>4532 rows × 2 columns</p>\n",
       "</div>"
      ],
      "text/plain": [
       "               NWIS       NWIS_id\n",
       "0     NWIS_07032000  1.183190e+12\n",
       "1     NWIS_07047855  1.183080e+12\n",
       "2     NWIS_07047942  1.183080e+12\n",
       "3     NWIS_07047950  1.183080e+12\n",
       "4     NWIS_07048550  1.183070e+12\n",
       "...             ...           ...\n",
       "4527  NWIS_02408150  1.182370e+12\n",
       "4528  NWIS_02374950  1.182370e+12\n",
       "4529  NWIS_02372250  1.182370e+12\n",
       "4530  NWIS_02362240  1.182370e+12\n",
       "4531  NWIS_02361000  1.182370e+12\n",
       "\n",
       "[4532 rows x 2 columns]"
      ]
     },
     "execution_count": 41,
     "metadata": {},
     "output_type": "execute_result"
    }
   ],
   "source": [
    "#streamstats_folder_id =  '201992282490'  #Folder_Dictionary['NHD_segments_il.h5'] # \n",
    "#folder = client.folder(streamstats_folder_id)\n",
    "\n",
    "#reach = 'NWIS_BoxSDK_test_02364500.csv'\n",
    "\n",
    "#results = client.search().query(query=reach, limit=100, file_extensions=['csv'], ancestor_folders=[folder])\n",
    "\n",
    "#r_dict = {}\n",
    "\n",
    "#for result in results:\n",
    " #   r_dict[result.name] = result.id\n",
    "    #print(f'The item ID is {result.id} and the item name is {result.name}')\n",
    "    \n",
    "#load dictionary\n",
    "NWM_Dictionary = pickle.load(open(cwd+'/Streamflow_App/NWM_site_keys.pkl', 'rb'))\n",
    "    \n",
    "reachname = 'NWM_789206'\n",
    "reachid = '1184303261277'#NWM_Dictionary[reachname]\n",
    "    \n",
    "boxfile = bf(CLIENT_ID=CLIENT_ID, CLIENT_SECRET=CLIENT_SECRET, ACCESS_TOKEN=ACCESS_TOKEN)\n",
    "csvFile = boxfile.GetFile(reachid).decode(\"utf-8\")\n",
    "ioFile = io.StringIO(csvFile)\n",
    "\n",
    "\n",
    "df = pd.read_csv(filepath_or_buffer = ioFile, delimiter = \",\")\n",
    "df.pop('Unnamed: 0')\n",
    "#NWIS site id's need to be 8 digits, < 8 need a zero added before.\n",
    "df"
   ]
  },
  {
   "cell_type": "code",
   "execution_count": null,
   "id": "513c8899",
   "metadata": {},
   "outputs": [],
   "source": []
  },
  {
   "cell_type": "code",
   "execution_count": null,
   "id": "ff83da37",
   "metadata": {},
   "outputs": [],
   "source": []
  },
  {
   "cell_type": "code",
   "execution_count": null,
   "id": "4a086366",
   "metadata": {},
   "outputs": [],
   "source": []
  },
  {
   "cell_type": "code",
   "execution_count": null,
   "id": "7f81b499",
   "metadata": {},
   "outputs": [],
   "source": []
  },
  {
   "cell_type": "code",
   "execution_count": null,
   "id": "31241eb7",
   "metadata": {},
   "outputs": [],
   "source": []
  },
  {
   "cell_type": "code",
   "execution_count": 84,
   "id": "39e0c725",
   "metadata": {
    "scrolled": true
   },
   "outputs": [
    {
     "data": {
      "text/html": [
       "<div>\n",
       "<style scoped>\n",
       "    .dataframe tbody tr th:only-of-type {\n",
       "        vertical-align: middle;\n",
       "    }\n",
       "\n",
       "    .dataframe tbody tr th {\n",
       "        vertical-align: top;\n",
       "    }\n",
       "\n",
       "    .dataframe thead th {\n",
       "        text-align: right;\n",
       "    }\n",
       "</style>\n",
       "<table border=\"1\" class=\"dataframe\">\n",
       "  <thead>\n",
       "    <tr style=\"text-align: right;\">\n",
       "      <th></th>\n",
       "      <th>NWM</th>\n",
       "      <th>NWM_id</th>\n",
       "    </tr>\n",
       "  </thead>\n",
       "  <tbody>\n",
       "    <tr>\n",
       "      <th>0</th>\n",
       "      <td>NWM_789206</td>\n",
       "      <td>1183265937780</td>\n",
       "    </tr>\n",
       "    <tr>\n",
       "      <th>1</th>\n",
       "      <td>NWM_3296804</td>\n",
       "      <td>1183231862880</td>\n",
       "    </tr>\n",
       "    <tr>\n",
       "      <th>2</th>\n",
       "      <td>NWM_22274612</td>\n",
       "      <td>1183266127472</td>\n",
       "    </tr>\n",
       "    <tr>\n",
       "      <th>3</th>\n",
       "      <td>NWM_22206103</td>\n",
       "      <td>1183266073186</td>\n",
       "    </tr>\n",
       "    <tr>\n",
       "      <th>4</th>\n",
       "      <td>NWM_22203349</td>\n",
       "      <td>1183264989758</td>\n",
       "    </tr>\n",
       "    <tr>\n",
       "      <th>...</th>\n",
       "      <td>...</td>\n",
       "      <td>...</td>\n",
       "    </tr>\n",
       "    <tr>\n",
       "      <th>4643</th>\n",
       "      <td>NWM_8423282</td>\n",
       "      <td>1184099312031</td>\n",
       "    </tr>\n",
       "    <tr>\n",
       "      <th>4644</th>\n",
       "      <td>NWM_5895480</td>\n",
       "      <td>1184095169388</td>\n",
       "    </tr>\n",
       "    <tr>\n",
       "      <th>4645</th>\n",
       "      <td>NWM_4352070</td>\n",
       "      <td>1184096985857</td>\n",
       "    </tr>\n",
       "    <tr>\n",
       "      <th>4646</th>\n",
       "      <td>NWM_19414869</td>\n",
       "      <td>1184095505409</td>\n",
       "    </tr>\n",
       "    <tr>\n",
       "      <th>4647</th>\n",
       "      <td>NWM_19325043</td>\n",
       "      <td>1184094957711</td>\n",
       "    </tr>\n",
       "  </tbody>\n",
       "</table>\n",
       "<p>4648 rows × 2 columns</p>\n",
       "</div>"
      ],
      "text/plain": [
       "               NWM         NWM_id\n",
       "0       NWM_789206  1183265937780\n",
       "1      NWM_3296804  1183231862880\n",
       "2     NWM_22274612  1183266127472\n",
       "3     NWM_22206103  1183266073186\n",
       "4     NWM_22203349  1183264989758\n",
       "...            ...            ...\n",
       "4643   NWM_8423282  1184099312031\n",
       "4644   NWM_5895480  1184095169388\n",
       "4645   NWM_4352070  1184096985857\n",
       "4646  NWM_19414869  1184095505409\n",
       "4647  NWM_19325043  1184094957711\n",
       "\n",
       "[4648 rows x 2 columns]"
      ]
     },
     "execution_count": 84,
     "metadata": {},
     "output_type": "execute_result"
    }
   ],
   "source": [
    "csvFile = boxfile.GetFile('1184296622892').decode(\"utf-8\")\n",
    "ioFile = io.StringIO(csvFile)\n",
    "\n",
    "\n",
    "df = pd.read_csv(filepath_or_buffer = ioFile, delimiter = \",\")\n",
    "df.pop('Unnamed: 0')\n",
    "#NWIS site id's need to be 8 digits, < 8 need a zero added before.\n",
    "df"
   ]
  },
  {
   "cell_type": "code",
   "execution_count": null,
   "id": "62ba99fa",
   "metadata": {},
   "outputs": [],
   "source": [
    "#Need to put the segment id dictionaries into a csv\n",
    "dataname = 'NWIS'\n",
    "dataid = dataname+'_id'\n",
    "Searchable_filename = dataname+'_site_keys.csv'\n",
    "\n",
    "#load dictionary\n",
    "Dictionary = pickle.load(open(cwd+'/Streamflow_App/'+dataname+'_site_keys.pkl', 'rb'))\n",
    "\n",
    "columns = [dataname, dataid]\n",
    "DF = pd.DataFrame(columns = columns)\n",
    "\n",
    "pbar = ProgressBar()\n",
    "for site in pbar(Dictionary.keys()):\n",
    "    #remove .csv from any id's\n",
    "    if '.csv' in site:\n",
    "        sitename = site[:-4]\n",
    "    else:\n",
    "        sitename = site\n",
    "    siteinfo = [site, Dictionary[site]]\n",
    "    #DF = DF.append(siteinfo, ignore_index = True)\n",
    "    DF.loc[len(DF)] = siteinfo\n",
    "    \n",
    "#save as stringIO    \n",
    "s_buf = StringIO()\n",
    "DF.to_csv(s_buf)\n",
    "new_file = client.folder('0').upload_stream(s_buf, Searchable_filename)\n",
    "print(f'File \"{new_file.name}\" uploaded to Box with file ID {new_file.id}')\n",
    "\n",
    "#updated_file = client.file('1184303261277').update_contents(s_buf)\n",
    "#print(f'File \"{updated_file.name}\" with id: \"{updated_file.id}\" has been updated')\n",
    "#File \"NWM_site_keys.csv\" uploaded to Box with file ID 1184296622892\n",
    "#File \"NWIS_site_keys.csv\" uploaded to Box with file ID 1184303261277"
   ]
  },
  {
   "cell_type": "code",
   "execution_count": null,
   "id": "0907c299",
   "metadata": {},
   "outputs": [],
   "source": [
    "Streamstats = pd.read_hdf(cwd+'/Data/StreamStats/StreamStats3.h5', 'streamstats')\n",
    "\n",
    "s_buf = StringIO()\n",
    "Streamstats.to_csv(s_buf)\n",
    "folder_id = subfolder.id # '201963057861'\n",
    "new_file = client.folder(folder_id).upload_stream(s_buf, 'StreamStats.csv')\n",
    "print(f'File \"{new_file.name}\" uploaded to Box with file ID {new_file.id}')\n",
    "\n",
    "#Double check the folder uploaded.\n",
    "streamstats_folder = subfolder.id # '201963057861'\n",
    "items = client.folder(folder_id=streamstats_folder).get_items()\n",
    "for item in items:\n",
    "    print(f'{item.type.capitalize()} {item.id} is named \"{item.name}\"')"
   ]
  },
  {
   "cell_type": "code",
   "execution_count": null,
   "id": "fcf18f12",
   "metadata": {},
   "outputs": [],
   "source": [
    "#renaming files in a folder\n",
    "path = cwd+'/Streamflow_App/Data/NWM_v2.1/'\n",
    "\n",
    "for filename in os.listdir(path):\n",
    "     if 'NHD' in filename:\n",
    "        first = 'NWM_v2.1'\n",
    "        last = filename[-12:]\n",
    "        name = path+first+last\n",
    "        print(name)\n",
    "        os.rename(path+filename, name)"
   ]
  },
  {
   "cell_type": "markdown",
   "id": "28ec6d38",
   "metadata": {},
   "source": [
    "### Code for Getting StreamStats"
   ]
  },
  {
   "cell_type": "code",
   "execution_count": null,
   "id": "285529d2",
   "metadata": {},
   "outputs": [],
   "source": [
    "#Original file directory way\n",
    "#Load streamstats wiht lat long to get geolocational information\n",
    "Streamstats = pd.read_hdf(cwd+'/Data/StreamStats/StreamStats3.h5', 'streamstats')\n",
    "Streamstats.drop_duplicates(subset = 'NWIS_site_id', inplace = True)\n",
    "Streamstats.set_index('NWIS_site_id', drop = True, inplace = True)\n",
    "\n",
    "#UPdated API way\n",
    "streamstats_id = '1182325029983'\n",
    "boxfile = bf(CLIENT_ID=CLIENT_ID, CLIENT_SECRET=CLIENT_SECRET, ACCESS_TOKEN=ACCESS_TOKEN)\n",
    "csvFile = boxfile.GetFile(streamstats_id).decode(\"utf-8\")\n",
    "ioFile = io.StringIO(csvFile)\n",
    "\n",
    "\n",
    "Streamstats = pd.read_csv(filepath_or_buffer = ioFile, delimiter = \",\")\n",
    "Streamstats.pop('Unnamed: 0')\n",
    "#NWIS site id's need to be 8 digits, < 8 need a zero added before.\n",
    "#Make all NWIS sites correct 8 digit code\n",
    "for i in np.arange(0, len(Streamstats),1):\n",
    "            Streamstats.NWIS_site_id.loc[i] = str(Streamstats.NWIS_site_id.loc[i])\n",
    "            if len(Streamstats.NWIS_site_id.loc[i]) < 8:\n",
    "                Streamstats.NWIS_site_id.loc[i] = '0' + str(Streamstats.NWIS_site_id.loc[i])\n",
    "            else:\n",
    "                Streamstats.NWIS_site_id.loc[i] = str(Streamstats.NWIS_site_id.loc[i])\n",
    "\n",
    "Streamstats.drop_duplicates(subset = 'NWIS_site_id', inplace = True)\n",
    "Streamstats.set_index('NWIS_site_id', drop = True, inplace = True)\n",
    "\n",
    "Streamstats"
   ]
  },
  {
   "cell_type": "code",
   "execution_count": null,
   "id": "aaf89701",
   "metadata": {},
   "outputs": [],
   "source": [
    "def Get_BoxSDK_data():\n",
    "    print('Loading in ',State_Eval.model, ' predictions from ', State_Eval.startDT, ' to ', State_Eval.endDT)\n",
    "    models = [State_Eval.model]\n",
    "    model_dict ={}\n",
    "    #Load in dataframe connecting the model nhd predictions\n",
    "    #Get the Model prediction folder\n",
    "    for model in models:\n",
    "        results = client.search().query(query = model,type = 'folder', limit = 1)\n",
    "\n",
    "        for result in results:\n",
    "            name = result.name\n",
    "            if name == model:\n",
    "                #print(f'The item ID is {result.id} and the item name is {name}')\n",
    "                model_dict[name] = result.id\n",
    "                break\n",
    "\n",
    "    #Get the Model's state prediction folder\n",
    "    state_dict = {}\n",
    "    folder_id =  model_dict[State_Eval.model]\n",
    "    folder = client.folder(folder_id)\n",
    "    state_key = State_Eval.model + '_state_keys.csv'\n",
    "    results = client.search().query(query = state_key, limit=1, file_extensions=['csv'], ancestor_folders=[folder])\n",
    "\n",
    "    for result in results:\n",
    "        name = result.name\n",
    "        if name == state_key:\n",
    "            name = result.name[:-4]\n",
    "            state_dict[name] = result.id\n",
    "            #print(f'The item ID is {result.id} and the item name is {name}')\n",
    "            break\n",
    "\n",
    "    #Get state folder id\n",
    "    state_file_id = state_dict[state_key[:-4]]\n",
    "    boxfile = bf(CLIENT_ID=State_Eval.CLIENT_ID, \n",
    "                 CLIENT_SECRET=State_Eval.CLIENT_SECRET, \n",
    "                 ACCESS_TOKEN=State_Eval.ACCESS_TOKEN)\n",
    "    csvFile = boxfile.GetFile(state_file_id).decode(\"utf-8\")\n",
    "    ioFile = io.StringIO(csvFile)\n",
    "\n",
    "    state_file_list = pd.read_csv(filepath_or_buffer = ioFile, delimiter = \",\")\n",
    "    state_file_list.pop('Unnamed: 0')\n",
    "    col_name = state_file_list.columns[0]\n",
    "    col_id = state_file_list.columns[1]\n",
    "    statefolder = 'NHD_segments_'+State_Eval.state+'.h5'\n",
    "    state_file_list = state_file_list[state_file_list[col_name] == statefolder]\n",
    "\n",
    "    reach_dict = {}\n",
    "\n",
    "    folder = client.folder(str(state_file_list[col_id].values[0]))\n",
    "    results = client.search().query(query = '.csv', limit=200, file_extensions=['csv'], ancestor_folders=[folder])\n",
    "    for result in results:\n",
    "        name = result.name[:-4]\n",
    "        reach_dict[name] = result.id\n",
    "        #print(f'The item ID is {result.id} and the item name is {name}')\n",
    "\n",
    "    print('There are ', len(df), ' collocated NWIS/NHD reaches in ', State_Eval.category, ': ', State_Eval.size)\n",
    "\n",
    "    #load NHD model data into dictionary,\n",
    "    #I think we can make a function to multithread this to speed it up\n",
    "    if len(reach_dict) >= 1:\n",
    "        print('API connection successful, loading.')\n",
    "        format = '%Y-%m-%d %H:%M:%S'\n",
    "        pbar = ProgressBar()\n",
    "        for reach in pbar(np.arange(0,len(df),1)):    \n",
    "            NHD_reach = str(df.NHD_reachid[reach])\n",
    "            reach_id = 'NWM_'+ NHD_reach\n",
    "            csvFile = boxfile.GetFile(reach_dict[reach_id]).decode(\"utf-8\")\n",
    "            ioFile = io.StringIO(csvFile)\n",
    "            Mod_flow = pd.read_csv(filepath_or_buffer = ioFile, delimiter = \",\")\n",
    "            Mod_flow['time'] ='12:00:00'\n",
    "            Mod_flow['Datetime'] = pd.to_datetime(Mod_flow['Datetime']+ ' ' + Mod_flow['time'], format = format)\n",
    "            Mod_flow.set_index('Datetime', inplace = True)\n",
    "            Mod_flow = Mod_flow.loc[State_Eval.startDT:State_Eval.endDT]\n",
    "            Mod_flow.pop('Unnamed: 0')\n",
    "            cols = Mod_flow.columns\n",
    "            State_Eval.Mod_data[NHD_reach] = Mod_flow[cols[0]]\n",
    "\n",
    "    else:\n",
    "        print('API connection was not successful, make sure the credentials are correct.')"
   ]
  }
 ],
 "metadata": {
  "kernelspec": {
   "display_name": "Python 3 (ipykernel)",
   "language": "python",
   "name": "python3"
  },
  "language_info": {
   "codemirror_mode": {
    "name": "ipython",
    "version": 3
   },
   "file_extension": ".py",
   "mimetype": "text/x-python",
   "name": "python",
   "nbconvert_exporter": "python",
   "pygments_lexer": "ipython3",
   "version": "3.9.12"
  }
 },
 "nbformat": 4,
 "nbformat_minor": 5
}
