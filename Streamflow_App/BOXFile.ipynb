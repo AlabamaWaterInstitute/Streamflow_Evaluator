{
 "cells": [
  {
   "cell_type": "code",
   "execution_count": null,
   "id": "9f6e94a0",
   "metadata": {},
   "outputs": [],
   "source": [
    "from boxsdk import Client, OAuth2\n",
    "from boxsdk.network.default_network import DefaultNetwork\n",
    "from boxsdk.network.logging_network import LoggingNetwork\n",
    "from boto.dynamodb.condition import NULL\n",
    " \n",
    "class BOXFile:\n",
    "    def __init__(self, CLIEND_ID, CLIENT_SECRET, ACCESS_TOKEN):\n",
    "    self._oauth2 = OAuth2(CLIEND_ID, CLIENT_SECRET, access_token=ACCESS_TOKEN)\n",
    "    self._client = Client(self._oauth2, LoggingNetwork())\n",
    "    self._file = None\n",
    "\n",
    "    def GetUserInfo(self):\n",
    "    my = self._client.user(user_id='me').get()\n",
    "    print my.name.encode(\"utf-8\")\n",
    "    print my.login.encode(\"utf-8\")\n",
    "    print my.avatar_url.encode(\"utf-8\")\n",
    "    def GetFile(self, fileID):\n",
    "    self._file = self._client.file(fileID)\n",
    "    return self._file.content()"
   ]
  }
 ],
 "metadata": {
  "kernelspec": {
   "display_name": "Python 3 (ipykernel)",
   "language": "python",
   "name": "python3"
  },
  "language_info": {
   "codemirror_mode": {
    "name": "ipython",
    "version": 3
   },
   "file_extension": ".py",
   "mimetype": "text/x-python",
   "name": "python",
   "nbconvert_exporter": "python",
   "pygments_lexer": "ipython3",
   "version": "3.9.12"
  }
 },
 "nbformat": 4,
 "nbformat_minor": 5
}
