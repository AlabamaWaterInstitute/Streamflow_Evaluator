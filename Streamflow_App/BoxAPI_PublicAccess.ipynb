{
 "cells": [
  {
   "cell_type": "code",
   "execution_count": 1,
   "id": "f4feb859",
   "metadata": {},
   "outputs": [],
   "source": [
    "import json\n",
    "import os\n",
    "import time\n",
    "import secrets\n",
    "import json\n",
    "import requests\n",
    "\n",
    "from cryptography.hazmat.backends import default_backend\n",
    "from cryptography.hazmat.primitives.serialization import load_pem_private_key\n",
    "import jwt\n",
    "\n"
   ]
  },
  {
   "cell_type": "markdown",
   "id": "3a5296c4",
   "metadata": {},
   "source": [
    "## Try 1\n",
    "https://github.com/box-community/samples-docs-authenticate-with-jwt-api/blob/main/sample.3.py"
   ]
  },
  {
   "cell_type": "code",
   "execution_count": 2,
   "id": "fdabd526",
   "metadata": {},
   "outputs": [],
   "source": [
    "config = json.load(open('Streamflow_Evaluator_App__config_keypair.json'))\n",
    "\n",
    "appAuth = config[\"boxAppSettings\"][\"appAuth\"]\n",
    "privateKey = appAuth[\"privateKey\"]\n",
    "passphrase = appAuth[\"passphrase\"]\n",
    "\n",
    "# To decrypt the private key we use the cryptography library\n",
    "# (https://cryptography.io/en/latest/)\n",
    "key = load_pem_private_key(\n",
    "  data=privateKey.encode('utf8'),\n",
    "  password=passphrase.encode('utf8'),\n",
    "  backend=default_backend(),\n",
    ")"
   ]
  },
  {
   "cell_type": "code",
   "execution_count": 3,
   "id": "94a3c4ab",
   "metadata": {},
   "outputs": [],
   "source": [
    "# We will need the authentication_url  again later,\n",
    "# so it is handy to define here\n",
    "authentication_url = 'https://api.box.com/oauth2/token'\n",
    "\n",
    "claims = {\n",
    "  'iss': config['boxAppSettings']['clientID'],\n",
    "  'sub': config['enterpriseID'],\n",
    "  'box_sub_type': 'enterprise',\n",
    "  'aud': authentication_url,\n",
    "  # This is an identifier that helps protect against\n",
    "  # replay attacks\n",
    "  'jti': secrets.token_hex(64),\n",
    "  # We give the assertion a lifetime of 45 seconds \n",
    "  # before it expires\n",
    "  'exp': round(time.time()) + 45\n",
    "}"
   ]
  },
  {
   "cell_type": "code",
   "execution_count": 4,
   "id": "24d9c52e",
   "metadata": {},
   "outputs": [],
   "source": [
    "keyId = config['boxAppSettings']['appAuth']['publicKeyID']\n",
    "\n",
    "# Rather than constructing the JWT assertion manually, we are \n",
    "# using the pyjwt library.\n",
    "assertion = jwt.encode(\n",
    "  claims, \n",
    "  key, \n",
    "  # The API support \"RS256\", \"RS384\", and \"RS512\" encryption\n",
    "  algorithm='RS512',\n",
    "  headers={\n",
    "    'kid': keyId\n",
    "  }\n",
    ")"
   ]
  },
  {
   "cell_type": "code",
   "execution_count": 5,
   "id": "c83d76f4",
   "metadata": {},
   "outputs": [],
   "source": [
    "params = {\n",
    "  # This specifies that we are using a JWT assertion\n",
    "  # to authenticate\n",
    "  'grant_type': 'urn:ietf:params:oauth:grant-type:jwt-bearer',\n",
    "  # Our JWT assertion\n",
    "  'assertion': assertion,\n",
    "  # The OAuth 2 client ID and secret\n",
    "  'client_id': config['boxAppSettings']['clientID'],\n",
    "  'client_secret': config['boxAppSettings']['clientSecret']\n",
    "}"
   ]
  },
  {
   "cell_type": "code",
   "execution_count": 6,
   "id": "e66ce689",
   "metadata": {},
   "outputs": [
    {
     "ename": "KeyError",
     "evalue": "'access_token'",
     "output_type": "error",
     "traceback": [
      "\u001b[1;31m---------------------------------------------------------------------------\u001b[0m",
      "\u001b[1;31mKeyError\u001b[0m                                  Traceback (most recent call last)",
      "Input \u001b[1;32mIn [6]\u001b[0m, in \u001b[0;36m<cell line: 4>\u001b[1;34m()\u001b[0m\n\u001b[0;32m      1\u001b[0m \u001b[38;5;66;03m# Make the request, parse the JSON,\u001b[39;00m\n\u001b[0;32m      2\u001b[0m \u001b[38;5;66;03m# and extract the access token\u001b[39;00m\n\u001b[0;32m      3\u001b[0m response \u001b[38;5;241m=\u001b[39m requests\u001b[38;5;241m.\u001b[39mpost(authentication_url, params)\n\u001b[1;32m----> 4\u001b[0m access_token \u001b[38;5;241m=\u001b[39m \u001b[43mresponse\u001b[49m\u001b[38;5;241;43m.\u001b[39;49m\u001b[43mjson\u001b[49m\u001b[43m(\u001b[49m\u001b[43m)\u001b[49m\u001b[43m[\u001b[49m\u001b[38;5;124;43m'\u001b[39;49m\u001b[38;5;124;43maccess_token\u001b[39;49m\u001b[38;5;124;43m'\u001b[39;49m\u001b[43m]\u001b[49m\n\u001b[0;32m      6\u001b[0m \u001b[38;5;66;03m# # Folder 0 is the root folder for this account\u001b[39;00m\n\u001b[0;32m      7\u001b[0m \u001b[38;5;66;03m# # and should be empty by default\u001b[39;00m\n\u001b[0;32m      8\u001b[0m headers \u001b[38;5;241m=\u001b[39m { \u001b[38;5;124m'\u001b[39m\u001b[38;5;124mAuthorization\u001b[39m\u001b[38;5;124m'\u001b[39m: \u001b[38;5;124m\"\u001b[39m\u001b[38;5;124mBearer \u001b[39m\u001b[38;5;132;01m%s\u001b[39;00m\u001b[38;5;124m\"\u001b[39m \u001b[38;5;241m%\u001b[39m access_token }\n",
      "\u001b[1;31mKeyError\u001b[0m: 'access_token'"
     ]
    }
   ],
   "source": [
    "# Make the request, parse the JSON,\n",
    "# and extract the access token\n",
    "response = requests.post(authentication_url, params)\n",
    "access_token = response.json()['access_token']\n",
    "\n",
    "# # Folder 0 is the root folder for this account\n",
    "# # and should be empty by default\n",
    "headers = { 'Authorization': \"Bearer %s\" % access_token }\n",
    "response = requests.get('https://api.box.com/2.0/folders/0', headers=headers)\n",
    "\n",
    "print(response.json())"
   ]
  },
  {
   "cell_type": "code",
   "execution_count": 7,
   "id": "2675c824",
   "metadata": {},
   "outputs": [
    {
     "data": {
      "text/plain": [
       "{'error': 'unauthorized_client',\n",
       " 'error_description': 'This app is not authorized by the enterprise admin'}"
      ]
     },
     "execution_count": 7,
     "metadata": {},
     "output_type": "execute_result"
    }
   ],
   "source": [
    "response.json()"
   ]
  },
  {
   "cell_type": "code",
   "execution_count": null,
   "id": "6d0934a2",
   "metadata": {},
   "outputs": [],
   "source": []
  },
  {
   "cell_type": "code",
   "execution_count": null,
   "id": "f972a714",
   "metadata": {},
   "outputs": [],
   "source": []
  },
  {
   "cell_type": "code",
   "execution_count": null,
   "id": "3f29797c",
   "metadata": {},
   "outputs": [],
   "source": []
  }
 ],
 "metadata": {
  "kernelspec": {
   "display_name": "OWP_env",
   "language": "python",
   "name": "owp_env"
  },
  "language_info": {
   "codemirror_mode": {
    "name": "ipython",
    "version": 3
   },
   "file_extension": ".py",
   "mimetype": "text/x-python",
   "name": "python",
   "nbconvert_exporter": "python",
   "pygments_lexer": "ipython3",
   "version": "3.9.12"
  }
 },
 "nbformat": 4,
 "nbformat_minor": 5
}
