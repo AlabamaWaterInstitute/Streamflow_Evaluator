{
 "cells": [
  {
   "cell_type": "code",
   "execution_count": null,
   "id": "2c4dcad3",
   "metadata": {},
   "outputs": [],
   "source": [
    "import LULC_Streamflow\n",
    "import os\n",
    "import warnings\n",
    "warnings.filterwarnings(\"ignore\")\n",
    "#set path directory\n",
    "cwd = os.getcwd()"
   ]
  },
  {
   "cell_type": "code",
   "execution_count": null,
   "id": "5888383b",
   "metadata": {},
   "outputs": [],
   "source": [
    "'''\n",
    "This section of code allows the user to evaluate modeled streamflow with observed in situ NWIS monitoring sites.\n",
    "Please enter a start date, end date, frequency, state of interest, and model to compare (NWM v2.1 is set up).\n",
    "Select the below classes to evaluate model performance, set the classification to the provided term\n",
    "\n",
    "Next Steps\n",
    "- Support use of multiple states\n",
    "- Support use of a list of NWM reaches (NHD) / USGS sites (This may be its own class)\n",
    "'''\n",
    "\n",
    "\n",
    "\n",
    "\n",
    "startDT ='2010-10-01'\n",
    "#last day of data is 2020-09-28\n",
    "endDT ='2020-09-28'\n",
    "freq = 'D'\n",
    "state = 'wa'\n",
    "model = 'NWM'\n",
    "\n",
    "'''\n",
    "Tell the model what type of classification you are interested in:\n",
    "Drainage area breaks: Drainage_area_mi2\n",
    "Elevation breaks: Mean_Basin_Elev_ft\n",
    "Forest area breaks: Perc_Forest\n",
    "Developed area breaks: Perc_Develop\n",
    "Impervious area breaks: Perc_Imperv\n",
    "Herbacious area breaks: Perc_Herbace\n",
    "Slope area > 30 degrees breaks: Perc_Slop_30\n",
    "Precipitation breaks: Mean_Ann_Precip_in\n",
    "low flows: Ann_low_cfs\n",
    "Mean flows: Ann_mean_cfs\n",
    "High flows: Ann_hi_cfs\n",
    "\n",
    "'''\n",
    "\n",
    "classification = 'Drainage_area_mi2'\n",
    "\n",
    "State_Eval = LULC_Streamflow.Region_Eval(model, state, startDT, endDT, freq, cwd)\n",
    "\n",
    "#get state specific NWIS locations\n",
    "State_Eval.get_NWIS()\n",
    "\n",
    "\n",
    "#we are interested in NWM\n",
    "#Eval.NWIS_NWM_sites(state)\n",
    "State_Eval.get_NWM_info()\n",
    "\n",
    "\n",
    "State_Eval.class_eval_state(classification)"
   ]
  },
  {
   "cell_type": "code",
   "execution_count": null,
   "id": "42387c28",
   "metadata": {
    "scrolled": false
   },
   "outputs": [],
   "source": [
    "'''\n",
    "Choose a categorical break and view on map.\n",
    "\n",
    "Categorical break: \n",
    "    very small: State_Eval.df_vsmall\n",
    "    small: State_Eval.df_small\n",
    "    medium: State_Eval.df_medium\n",
    "    large: State_Eval.df_large\n",
    "    very large: State_Eval.df_vlarge\n",
    "    \n",
    "Get a map of locations with plots of NWM vs. OBS\n",
    "Set frequency for graph   'D': Daily, 'M': monthly, 'Q': quarterly, 'A': annual\n",
    "'''\n",
    "\n",
    "State_Eval.Map_Plot_Eval('M', State_Eval.df_small, 'small')"
   ]
  },
  {
   "cell_type": "code",
   "execution_count": null,
   "id": "1acc558e",
   "metadata": {
    "scrolled": true
   },
   "outputs": [],
   "source": [
    "'''\n",
    "Select a dataframe\n",
    "very small: Eval.df_vsmall\n",
    "small: Eval.df_small\n",
    "medium: Eval.df_medium\n",
    "large: Eval.df_large\n",
    "very large: Eval.df_vlarge\n",
    "\n",
    "running the dataframe will show all properties and sites\n",
    "Set frequency for graph   'D': Daily, 'M': monthly, 'Q': quarterly, 'A': annual\n",
    "\n",
    "'''\n",
    "\n",
    "'''\n",
    "To do list:\n",
    " pie chart of the number of sites within categories\n",
    " HUC category as streamstats column\n",
    "\n",
    "'''\n",
    "\n",
    "\n",
    "State_Eval.Interactive_Model_Eval('A')"
   ]
  },
  {
   "cell_type": "code",
   "execution_count": null,
   "id": "227cd5fd",
   "metadata": {},
   "outputs": [],
   "source": []
  },
  {
   "cell_type": "code",
   "execution_count": null,
   "id": "d1fb2fd2",
   "metadata": {
    "scrolled": true
   },
   "outputs": [],
   "source": [
    "'''\n",
    "This section of code allows the user to evaluate modeled streamflow with observed in situ NWIS monitoring sites \n",
    "for a watershed(s) of interest. The user can input multiple watersheds (e.g., Great Salt lake: ['1601', '1602'])\n",
    "Please enter a start date, end date, watersheds and model to compare (NWM v2.1 is set up).\n",
    "NWM retrospective data spans from 1980 - 2020, USGS/NWIS data is location dependent\n",
    "\n",
    "Use The National Map Watershed Boundary Dataset (WBD) to identify the HUC size and unit code of interest\n",
    "https://apps.nationalmap.gov/downloader/ to locate HUC of interest\n",
    "\n",
    "'''\n",
    "\n",
    "startDT ='2015-10-01'\n",
    "endDT ='2020-09-28'\n",
    "model = 'NWM'\n",
    "HUCids = ['1601', '1602'] #must be in brackets, add multiple HUCs to complete a watershed (e.g. GSL basin), East vs. West. etc\n",
    "\n",
    "#Initiate function\n",
    "HUC_Eval = LULC_Streamflow.HUC_Eval(model, HUCids, startDT, endDT, cwd)\n"
   ]
  },
  {
   "cell_type": "code",
   "execution_count": null,
   "id": "635dce50",
   "metadata": {},
   "outputs": [],
   "source": [
    "#Match NWIS locations within HUC watershed\n",
    "HUC_Eval.Join_WBD_StreamStats()"
   ]
  },
  {
   "cell_type": "code",
   "execution_count": null,
   "id": "8f4175e9",
   "metadata": {
    "scrolled": true
   },
   "outputs": [],
   "source": [
    "#Get NWM reaches for each NWIS monitoring station\n",
    "HUC_Eval.get_NWM_info()\n",
    "\n",
    "#Get NWM and NWIS data to compare\n",
    "HUC_Eval.prepare_comparison() # run the apply function to not have to run it during evaluation"
   ]
  },
  {
   "cell_type": "code",
   "execution_count": null,
   "id": "a662e290",
   "metadata": {},
   "outputs": [],
   "source": [
    "'''\n",
    "Get a map of locations with plots of NWM vs. OBS\n",
    "Set frequency for graph   'D': Daily, 'M': monthly, 'Q': quarterly, 'A': annual\n",
    "'''\n",
    "HUC_Eval.Map_Plot_Eval('M')"
   ]
  },
  {
   "cell_type": "code",
   "execution_count": null,
   "id": "ed9a909c",
   "metadata": {
    "scrolled": true
   },
   "outputs": [],
   "source": [
    "'''\n",
    "Set frequency for graph   'D': Daily, 'M': monthly, 'Q': quarterly, 'A': annual\n",
    "'''\n",
    "#Plot evaluation\n",
    "HUC_Eval.Interactive_Model_Eval('M')"
   ]
  },
  {
   "cell_type": "code",
   "execution_count": null,
   "id": "46626ac9",
   "metadata": {},
   "outputs": [],
   "source": []
  },
  {
   "cell_type": "code",
   "execution_count": null,
   "id": "4eb99bc2",
   "metadata": {},
   "outputs": [],
   "source": [
    "'''\n",
    "This section of code allows the user to evaluate modeled streamflow with selected NWIS monitoring sites of interest. \n",
    "The user can input multiple USGS sites (e.g., ['02378780', '02339495', '02342500'])\n",
    "Please enter a start date, end date, and model to compare (NWM v2.1 is set up).\n",
    "NWM retrospective data spans from 1980 - 2020, USGS/NWIS data is location dependent.\n",
    "\n",
    "'''\n",
    "\n",
    "\n",
    "model = 'NWM'\n",
    "#example with list of USGS sites along the Provo River, Utah\n",
    "NWIS_list = ['10163000', '10155500', '10155200', '10154200']\n",
    "\n",
    "startDT ='2000-10-01'\n",
    "#last day of data is 2020-09-28\n",
    "endDT ='2020-09-28'\n",
    "#set path directory\n",
    "cwd = os.getcwd()\n",
    "\n",
    "\n",
    "Reach_Eval = LULC_Streamflow.Reach_Eval(model , NWIS_list, startDT, endDT, cwd)\n",
    "\n",
    "#Get Streamstats and colocated NHD reaches\n",
    "Reach_Eval.get_reach_info()\n",
    "\n",
    "#Get USGS and NWM data\n",
    "Reach_Eval.prepare_comparison()"
   ]
  },
  {
   "cell_type": "code",
   "execution_count": null,
   "id": "4f78cb97",
   "metadata": {},
   "outputs": [],
   "source": [
    "'''\n",
    "Set frequency for graph   'D': Daily, 'M': monthly, 'Q': quarterly, 'A': annual\n",
    "'''\n",
    "\n",
    "freq = 'M'\n",
    "\n",
    "Reach_Eval.Map_Plot_Eval(freq)"
   ]
  },
  {
   "cell_type": "code",
   "execution_count": null,
   "id": "af3058e1",
   "metadata": {},
   "outputs": [],
   "source": [
    "'''\n",
    "Set frequency for graph   'D': Daily, 'M': monthly, 'Q': quarterly, 'A': annual\n",
    "'''\n",
    "\n",
    "freq = 'A'\n",
    "\n",
    "Reach_Eval.Interactive_Model_Eval(freq)"
   ]
  },
  {
   "cell_type": "code",
   "execution_count": null,
   "id": "00b6683e",
   "metadata": {},
   "outputs": [],
   "source": []
  },
  {
   "cell_type": "code",
   "execution_count": null,
   "id": "0525c32d",
   "metadata": {},
   "outputs": [],
   "source": []
  },
  {
   "cell_type": "code",
   "execution_count": null,
   "id": "037c1fbf",
   "metadata": {},
   "outputs": [],
   "source": []
  }
 ],
 "metadata": {
  "kernelspec": {
   "display_name": "Python 3 (ipykernel)",
   "language": "python",
   "name": "python3"
  },
  "language_info": {
   "codemirror_mode": {
    "name": "ipython",
    "version": 3
   },
   "file_extension": ".py",
   "mimetype": "text/x-python",
   "name": "python",
   "nbconvert_exporter": "python",
   "pygments_lexer": "ipython3",
   "version": "3.9.12"
  }
 },
 "nbformat": 4,
 "nbformat_minor": 5
}
